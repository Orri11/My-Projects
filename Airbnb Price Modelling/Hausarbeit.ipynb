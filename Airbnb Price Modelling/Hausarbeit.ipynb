{
 "cells": [
  {
   "cell_type": "markdown",
   "id": "d98833ac-6224-4152-9670-921ed2eccf3d",
   "metadata": {},
   "source": [
    "# Advaned Data Analytics for Management Support - Final Assignment"
   ]
  },
  {
   "cell_type": "markdown",
   "id": "0e2e367d-0a32-41c7-a2a1-315b9249a8ec",
   "metadata": {},
   "source": [
    "## Table of Contents :\n",
    "    1. Introduction\n",
    "    2. Data loading & eyeballing\n",
    "    3. Data cleaning\n",
    "     3.1 Duplications\n",
    "     3.2 Redundant features\n",
    "     3.3 Missing values\n",
    "     3.4 Text cleaning\n",
    "    4. Feature engineering\n",
    "     4.1 Feature retrieving\n",
    "     4.2 Text features\n",
    "     4.3 Feature analysis\n",
    "    5. Benchmark models\n",
    "     5.1 Data preparation\n",
    "      5.1.1 Categorical variables preparation\n",
    "      5.1.2 Text avriables preparation\n",
    "     5.2 Linear Regression\n",
    "     5.3 Random Forest\n",
    "     5.4 XGboost\n",
    "     5.5 Basic RNN\n",
    "    6. NN Architechture\n",
    "     6.1 LSTM model\n",
    "     6.2 CNN model\n",
    "     6.3 Full architechture\n",
    "    7. Predictions\n",
    "     7.1 Model application on full training set\n",
    "     7.2 Predictions on test set\n",
    "    8. Conclusion\n",
    "     \n",
    "    \n",
    "      \n",
    "     "
   ]
  },
  {
   "cell_type": "markdown",
   "id": "bbad2fd4-cd03-4db5-bcc6-e80c282d1387",
   "metadata": {},
   "source": [
    "---\n",
    "\n",
    "## 1. Introduction"
   ]
  },
  {
   "cell_type": "markdown",
   "id": "264124ec-8541-4e35-8f5e-66d0bc641114",
   "metadata": {},
   "source": [
    "In this assigtment we will predict the price of listings in the city of London from the AirBnB website. AirBnB is an online marketplace for accomodation, in which users post properties owned by private people or companies. The user determines the price per night based on multiple factors, and the customers decide whether they are willing to rent the property for the listed price or not. \n",
    "\n",
    "Our task is to predict the listing price based on numerical/categorical features such as number of beds and zipcode, as well as textual features such as description. We will also use the separatly provided review list, in order to amplify the predictive power of our model.\n",
    "\n",
    "A significant focus will be on using NLP models to harness any predictive ability from the texts. We will first analyze the train and text data, clean it and perform feature engineering. Then we will use different models as a comparison, continue to test different NLP models and then construct our NN architecure. Finally, we will predict the prices of the listings in our test data using the architecture created."
   ]
  },
  {
   "cell_type": "code",
   "execution_count": 875,
   "id": "aa028560-22ce-4123-bce5-baac1617e5b5",
   "metadata": {},
   "outputs": [],
   "source": [
    "import numpy as np\n",
    "import pandas as pd\n",
    "import matplotlib.pyplot as plt\n",
    "%matplotlib inline \n",
    "import pickle\n",
    "import re\n",
    "import seaborn as sns\n",
    "from sklearn.model_selection import train_test_split\n",
    "from sklearn.model_selection import KFold\n",
    "from sklearn.linear_model import LinearRegression\n",
    "from sklearn.metrics import mean_squared_error\n",
    "from sklearn.metrics import mean_absolute_error\n",
    "from scipy import stats\n",
    "import statsmodels.api as sm\n",
    "from mlxtend.feature_selection import SequentialFeatureSelector as SFS\n",
    "from sklearn.linear_model import LinearRegression\n",
    "from sklearn.ensemble import RandomForestRegressor\n",
    "import xgboost as xgb\n",
    "from sklearn.model_selection import GridSearchCV\n",
    "from bs4 import BeautifulSoup\n",
    "import nltk\n",
    "from nltk.tokenize import word_tokenize\n",
    "from nltk.corpus import wordnet\n",
    "from nltk.corpus import stopwords\n",
    "from nltk.stem import WordNetLemmatizer\n",
    "from nltk.tokenize.treebank import TreebankWordDetokenizer\n",
    "from keras.preprocessing.text import Tokenizer\n",
    "from keras_preprocessing.sequence import pad_sequences\n",
    "import tensorflow as tf\n",
    "from keras.models import Sequential, Model\n",
    "from tensorflow.keras import layers\n",
    "from tensorflow.keras import regularizers\n",
    "from tensorflow.keras import optimizers\n",
    "from keras.layers import Embedding\n",
    "from keras.callbacks import EarlyStopping\n",
    "from tensorflow.keras.layers.experimental.preprocessing import TextVectorization"
   ]
  },
  {
   "cell_type": "markdown",
   "id": "9d90d030-8e0c-436f-a37a-3b6702f85c0d",
   "metadata": {},
   "source": [
    "---\n",
    "\n",
    "## 2. Data loading and eyeballing"
   ]
  },
  {
   "cell_type": "code",
   "execution_count": 876,
   "id": "58367854-656c-4ba4-ab09-cff6d0fec0af",
   "metadata": {},
   "outputs": [],
   "source": [
    "train = pd.read_csv(\"train.csv\" , sep = \",\")\n",
    "test = pd.read_csv(\"test.csv\" , sep = \",\")\n",
    "\n",
    "#As we will modify the dataset's features, keep also a copy of the original one \n",
    "train_orig = pd.read_csv(\"train.csv\" , sep = \",\")\n",
    "test_orig = pd.read_csv(\"test.csv\" , sep = \",\")"
   ]
  },
  {
   "cell_type": "code",
   "execution_count": 877,
   "id": "2a7b1b3c-09bf-4642-b054-3db519e3fbd7",
   "metadata": {},
   "outputs": [
    {
     "name": "stdout",
     "output_type": "stream",
     "text": [
      "42 41\n"
     ]
    }
   ],
   "source": [
    "print ( len(train.columns) , len(test.columns))"
   ]
  },
  {
   "cell_type": "markdown",
   "id": "2f3491a8-20cd-42c4-ae28-136134861cf3",
   "metadata": {},
   "source": [
    "The train set seems to have an extra column. Let's find first which variable it is and also make sure that all other columns of the train and test sets are actually the same variables"
   ]
  },
  {
   "cell_type": "code",
   "execution_count": 878,
   "id": "02a0ebf5-7a4b-4ca1-a8a9-086d4e69de88",
   "metadata": {},
   "outputs": [
    {
     "data": {
      "text/plain": [
       "Index(['price'], dtype='object')"
      ]
     },
     "execution_count": 878,
     "metadata": {},
     "output_type": "execute_result"
    }
   ],
   "source": [
    "train.columns.difference(test.columns)"
   ]
  },
  {
   "cell_type": "markdown",
   "id": "39fc0278-9f5d-4cb6-a539-021dbdfcc953",
   "metadata": {},
   "source": [
    "The column missing in the test set is the price which we are going to predict, so it's not a concern. All other variables are the same."
   ]
  },
  {
   "cell_type": "code",
   "execution_count": 879,
   "id": "d5197f17-8554-4d3f-8046-a524cae1647d",
   "metadata": {},
   "outputs": [
    {
     "name": "stdout",
     "output_type": "stream",
     "text": [
      "The train data has 55284 observations\n",
      "The test data has 29769 observations\n"
     ]
    }
   ],
   "source": [
    "print(\"The train data has {} observations\".format(len(train)))\n",
    "print(\"The test data has {} observations\".format(len(test)))"
   ]
  },
  {
   "cell_type": "code",
   "execution_count": 880,
   "id": "98f1b03b-e58f-4eb0-90c9-1791073def3e",
   "metadata": {},
   "outputs": [
    {
     "data": {
      "text/html": [
       "<div>\n",
       "<style scoped>\n",
       "    .dataframe tbody tr th:only-of-type {\n",
       "        vertical-align: middle;\n",
       "    }\n",
       "\n",
       "    .dataframe tbody tr th {\n",
       "        vertical-align: top;\n",
       "    }\n",
       "\n",
       "    .dataframe thead th {\n",
       "        text-align: right;\n",
       "    }\n",
       "</style>\n",
       "<table border=\"1\" class=\"dataframe\">\n",
       "  <thead>\n",
       "    <tr style=\"text-align: right;\">\n",
       "      <th></th>\n",
       "      <th>name</th>\n",
       "      <th>summary</th>\n",
       "      <th>space</th>\n",
       "      <th>description</th>\n",
       "      <th>experiences_offered</th>\n",
       "      <th>neighborhood_overview</th>\n",
       "      <th>transit</th>\n",
       "      <th>house_rules</th>\n",
       "      <th>picture_url</th>\n",
       "      <th>host_id</th>\n",
       "      <th>...</th>\n",
       "      <th>review_scores_rating</th>\n",
       "      <th>review_scores_accuracy</th>\n",
       "      <th>review_scores_cleanliness</th>\n",
       "      <th>review_scores_checkin</th>\n",
       "      <th>review_scores_communication</th>\n",
       "      <th>review_scores_location</th>\n",
       "      <th>review_scores_value</th>\n",
       "      <th>cancellation_policy</th>\n",
       "      <th>reviews_per_month</th>\n",
       "      <th>listing_id</th>\n",
       "    </tr>\n",
       "  </thead>\n",
       "  <tbody>\n",
       "    <tr>\n",
       "      <th>0</th>\n",
       "      <td>Attic Room in historic Greenwich</td>\n",
       "      <td>The room does not have a door but its own disc...</td>\n",
       "      <td>Double room available in historic royal Greenw...</td>\n",
       "      <td>The room does not have a door but its own disc...</td>\n",
       "      <td>business</td>\n",
       "      <td>NaN</td>\n",
       "      <td>Parking is restricted in London. Visitors park...</td>\n",
       "      <td>no shoes on carpets no food in attic room no o...</td>\n",
       "      <td>https://a0.muscache.com/im/pictures/20045164/7...</td>\n",
       "      <td>2167992</td>\n",
       "      <td>...</td>\n",
       "      <td>95.0</td>\n",
       "      <td>10.0</td>\n",
       "      <td>10.0</td>\n",
       "      <td>10.0</td>\n",
       "      <td>10.0</td>\n",
       "      <td>10.0</td>\n",
       "      <td>10.0</td>\n",
       "      <td>strict_14_with_grace_period</td>\n",
       "      <td>2.37</td>\n",
       "      <td>9Q1RD6H7IO</td>\n",
       "    </tr>\n",
       "    <tr>\n",
       "      <th>1</th>\n",
       "      <td>Lovely Garden Studio Private Access</td>\n",
       "      <td>Garden studio with private entrance, 5 minutes...</td>\n",
       "      <td>Beautiful studio with a king size bed, a sofa ...</td>\n",
       "      <td>Garden studio with private entrance, 5 minutes...</td>\n",
       "      <td>none</td>\n",
       "      <td>Crouch End is a very hip and friendly neighbou...</td>\n",
       "      <td>Walk across the street to the W3 bus stop and ...</td>\n",
       "      <td>We'd love it if you would remove your shoes at...</td>\n",
       "      <td>https://a0.muscache.com/im/pictures/8d1ddcdc-f...</td>\n",
       "      <td>16148175</td>\n",
       "      <td>...</td>\n",
       "      <td>99.0</td>\n",
       "      <td>10.0</td>\n",
       "      <td>10.0</td>\n",
       "      <td>10.0</td>\n",
       "      <td>10.0</td>\n",
       "      <td>10.0</td>\n",
       "      <td>10.0</td>\n",
       "      <td>moderate</td>\n",
       "      <td>2.97</td>\n",
       "      <td>6XDPZPGLSR</td>\n",
       "    </tr>\n",
       "    <tr>\n",
       "      <th>2</th>\n",
       "      <td>Comfi apartment 2 close to wimbledon tennis court</td>\n",
       "      <td>NaN</td>\n",
       "      <td>NaN</td>\n",
       "      <td>NaN</td>\n",
       "      <td>none</td>\n",
       "      <td>NaN</td>\n",
       "      <td>NaN</td>\n",
       "      <td>1- No party or event allowed. 2-No smoking ins...</td>\n",
       "      <td>https://a0.muscache.com/im/pictures/e7e4a740-d...</td>\n",
       "      <td>272000199</td>\n",
       "      <td>...</td>\n",
       "      <td>84.0</td>\n",
       "      <td>9.0</td>\n",
       "      <td>9.0</td>\n",
       "      <td>10.0</td>\n",
       "      <td>10.0</td>\n",
       "      <td>9.0</td>\n",
       "      <td>8.0</td>\n",
       "      <td>strict_14_with_grace_period</td>\n",
       "      <td>1.73</td>\n",
       "      <td>SND9OPN6IY</td>\n",
       "    </tr>\n",
       "    <tr>\n",
       "      <th>3</th>\n",
       "      <td>Luxury room in the heart of London - SW4</td>\n",
       "      <td>Luxury first floor Victorian split level maiso...</td>\n",
       "      <td>Your room will be fully furnished, and it will...</td>\n",
       "      <td>Luxury first floor Victorian split level maiso...</td>\n",
       "      <td>none</td>\n",
       "      <td>Gail coffee shop, just round the corner as wel...</td>\n",
       "      <td>Happy to advise on things to do in London and ...</td>\n",
       "      <td>- Check-in after 18:30pm and no later than 20:...</td>\n",
       "      <td>https://a0.muscache.com/im/pictures/7c2b2fcc-e...</td>\n",
       "      <td>3361233</td>\n",
       "      <td>...</td>\n",
       "      <td>NaN</td>\n",
       "      <td>NaN</td>\n",
       "      <td>NaN</td>\n",
       "      <td>NaN</td>\n",
       "      <td>NaN</td>\n",
       "      <td>NaN</td>\n",
       "      <td>NaN</td>\n",
       "      <td>flexible</td>\n",
       "      <td>NaN</td>\n",
       "      <td>SE3B7BXN9G</td>\n",
       "    </tr>\n",
       "    <tr>\n",
       "      <th>4</th>\n",
       "      <td>Excellent city Apartment with Private Patio</td>\n",
       "      <td>NEW luxury apartment, with private outside pat...</td>\n",
       "      <td>A modern, well-equipped, cosy apartment close ...</td>\n",
       "      <td>NEW luxury apartment, with private outside pat...</td>\n",
       "      <td>none</td>\n",
       "      <td>NaN</td>\n",
       "      <td>NaN</td>\n",
       "      <td>I am very happy for your visit, but please car...</td>\n",
       "      <td>https://a0.muscache.com/im/pictures/ca1494da-f...</td>\n",
       "      <td>94317022</td>\n",
       "      <td>...</td>\n",
       "      <td>100.0</td>\n",
       "      <td>10.0</td>\n",
       "      <td>10.0</td>\n",
       "      <td>10.0</td>\n",
       "      <td>10.0</td>\n",
       "      <td>10.0</td>\n",
       "      <td>10.0</td>\n",
       "      <td>strict_14_with_grace_period</td>\n",
       "      <td>2.32</td>\n",
       "      <td>E0C82VK0VF</td>\n",
       "    </tr>\n",
       "  </tbody>\n",
       "</table>\n",
       "<p>5 rows × 42 columns</p>\n",
       "</div>"
      ],
      "text/plain": [
       "                                                name  \\\n",
       "0                   Attic Room in historic Greenwich   \n",
       "1                Lovely Garden Studio Private Access   \n",
       "2  Comfi apartment 2 close to wimbledon tennis court   \n",
       "3           Luxury room in the heart of London - SW4   \n",
       "4        Excellent city Apartment with Private Patio   \n",
       "\n",
       "                                             summary  \\\n",
       "0  The room does not have a door but its own disc...   \n",
       "1  Garden studio with private entrance, 5 minutes...   \n",
       "2                                                NaN   \n",
       "3  Luxury first floor Victorian split level maiso...   \n",
       "4  NEW luxury apartment, with private outside pat...   \n",
       "\n",
       "                                               space  \\\n",
       "0  Double room available in historic royal Greenw...   \n",
       "1  Beautiful studio with a king size bed, a sofa ...   \n",
       "2                                                NaN   \n",
       "3  Your room will be fully furnished, and it will...   \n",
       "4  A modern, well-equipped, cosy apartment close ...   \n",
       "\n",
       "                                         description experiences_offered  \\\n",
       "0  The room does not have a door but its own disc...            business   \n",
       "1  Garden studio with private entrance, 5 minutes...                none   \n",
       "2                                                NaN                none   \n",
       "3  Luxury first floor Victorian split level maiso...                none   \n",
       "4  NEW luxury apartment, with private outside pat...                none   \n",
       "\n",
       "                               neighborhood_overview  \\\n",
       "0                                                NaN   \n",
       "1  Crouch End is a very hip and friendly neighbou...   \n",
       "2                                                NaN   \n",
       "3  Gail coffee shop, just round the corner as wel...   \n",
       "4                                                NaN   \n",
       "\n",
       "                                             transit  \\\n",
       "0  Parking is restricted in London. Visitors park...   \n",
       "1  Walk across the street to the W3 bus stop and ...   \n",
       "2                                                NaN   \n",
       "3  Happy to advise on things to do in London and ...   \n",
       "4                                                NaN   \n",
       "\n",
       "                                         house_rules  \\\n",
       "0  no shoes on carpets no food in attic room no o...   \n",
       "1  We'd love it if you would remove your shoes at...   \n",
       "2  1- No party or event allowed. 2-No smoking ins...   \n",
       "3  - Check-in after 18:30pm and no later than 20:...   \n",
       "4  I am very happy for your visit, but please car...   \n",
       "\n",
       "                                         picture_url    host_id  ...  \\\n",
       "0  https://a0.muscache.com/im/pictures/20045164/7...    2167992  ...   \n",
       "1  https://a0.muscache.com/im/pictures/8d1ddcdc-f...   16148175  ...   \n",
       "2  https://a0.muscache.com/im/pictures/e7e4a740-d...  272000199  ...   \n",
       "3  https://a0.muscache.com/im/pictures/7c2b2fcc-e...    3361233  ...   \n",
       "4  https://a0.muscache.com/im/pictures/ca1494da-f...   94317022  ...   \n",
       "\n",
       "  review_scores_rating review_scores_accuracy review_scores_cleanliness  \\\n",
       "0                 95.0                   10.0                      10.0   \n",
       "1                 99.0                   10.0                      10.0   \n",
       "2                 84.0                    9.0                       9.0   \n",
       "3                  NaN                    NaN                       NaN   \n",
       "4                100.0                   10.0                      10.0   \n",
       "\n",
       "  review_scores_checkin  review_scores_communication review_scores_location  \\\n",
       "0                  10.0                         10.0                   10.0   \n",
       "1                  10.0                         10.0                   10.0   \n",
       "2                  10.0                         10.0                    9.0   \n",
       "3                   NaN                          NaN                    NaN   \n",
       "4                  10.0                         10.0                   10.0   \n",
       "\n",
       "  review_scores_value          cancellation_policy reviews_per_month  \\\n",
       "0                10.0  strict_14_with_grace_period              2.37   \n",
       "1                10.0                     moderate              2.97   \n",
       "2                 8.0  strict_14_with_grace_period              1.73   \n",
       "3                 NaN                     flexible               NaN   \n",
       "4                10.0  strict_14_with_grace_period              2.32   \n",
       "\n",
       "   listing_id  \n",
       "0  9Q1RD6H7IO  \n",
       "1  6XDPZPGLSR  \n",
       "2  SND9OPN6IY  \n",
       "3  SE3B7BXN9G  \n",
       "4  E0C82VK0VF  \n",
       "\n",
       "[5 rows x 42 columns]"
      ]
     },
     "execution_count": 880,
     "metadata": {},
     "output_type": "execute_result"
    }
   ],
   "source": [
    "train.head(5)"
   ]
  },
  {
   "cell_type": "code",
   "execution_count": 881,
   "id": "b2b745cb-c013-41cc-a851-5af6c43be1e3",
   "metadata": {},
   "outputs": [
    {
     "name": "stdout",
     "output_type": "stream",
     "text": [
      "<class 'pandas.core.frame.DataFrame'>\n",
      "RangeIndex: 55284 entries, 0 to 55283\n",
      "Data columns (total 42 columns):\n",
      " #   Column                       Non-Null Count  Dtype  \n",
      "---  ------                       --------------  -----  \n",
      " 0   name                         55270 non-null  object \n",
      " 1   summary                      52330 non-null  object \n",
      " 2   space                        38403 non-null  object \n",
      " 3   description                  53558 non-null  object \n",
      " 4   experiences_offered          55284 non-null  object \n",
      " 5   neighborhood_overview        35778 non-null  object \n",
      " 6   transit                      35477 non-null  object \n",
      " 7   house_rules                  31906 non-null  object \n",
      " 8   picture_url                  55284 non-null  object \n",
      " 9   host_id                      55284 non-null  int64  \n",
      " 10  host_since                   55173 non-null  object \n",
      " 11  host_response_time           37482 non-null  object \n",
      " 12  host_response_rate           37482 non-null  object \n",
      " 13  host_is_superhost            55173 non-null  object \n",
      " 14  host_total_listings_count    55173 non-null  float64\n",
      " 15  host_has_profile_pic         55173 non-null  object \n",
      " 16  host_identity_verified       55173 non-null  object \n",
      " 17  neighbourhood                55137 non-null  object \n",
      " 18  neighbourhood_cleansed       55284 non-null  object \n",
      " 19  zipcode                      54012 non-null  object \n",
      " 20  latitude                     55284 non-null  float64\n",
      " 21  longitude                    55284 non-null  float64\n",
      " 22  property_type                55284 non-null  object \n",
      " 23  room_type                    55284 non-null  object \n",
      " 24  accommodates                 55284 non-null  int64  \n",
      " 25  bathrooms                    55214 non-null  float64\n",
      " 26  bedrooms                     55222 non-null  float64\n",
      " 27  beds                         55022 non-null  float64\n",
      " 28  bed_type                     55284 non-null  object \n",
      " 29  amenities                    55284 non-null  object \n",
      " 30  price                        55284 non-null  float64\n",
      " 31  guests_included              55284 non-null  int64  \n",
      " 32  review_scores_rating         41869 non-null  float64\n",
      " 33  review_scores_accuracy       41836 non-null  float64\n",
      " 34  review_scores_cleanliness    41842 non-null  float64\n",
      " 35  review_scores_checkin        41801 non-null  float64\n",
      " 36  review_scores_communication  41838 non-null  float64\n",
      " 37  review_scores_location       41804 non-null  float64\n",
      " 38  review_scores_value          41804 non-null  float64\n",
      " 39  cancellation_policy          55284 non-null  object \n",
      " 40  reviews_per_month            42904 non-null  float64\n",
      " 41  listing_id                   55284 non-null  object \n",
      "dtypes: float64(15), int64(3), object(24)\n",
      "memory usage: 17.7+ MB\n"
     ]
    }
   ],
   "source": [
    "train.info()"
   ]
  },
  {
   "cell_type": "markdown",
   "id": "cb1266cc-be60-4489-aa2d-937ed4cff0d2",
   "metadata": {},
   "source": [
    "Change the type of our variables, so we are left only with categorical, boolean and float variables. Later will also look into dropping redundant variables, but for now we assume they are all valuable and re-type them if neccessary. "
   ]
  },
  {
   "cell_type": "code",
   "execution_count": 882,
   "id": "b57d0750-fc1a-48f2-a4c7-2ca29b56f69b",
   "metadata": {},
   "outputs": [],
   "source": [
    "cat_variables = ['experiences_offered' , 'host_response_time' , 'neighbourhood_cleansed' , 'property_type' , 'room_type' , \n",
    "                 'bathrooms' , 'bedrooms' , 'beds' , 'bed_type' , 'guests_included', 'cancellation_policy']\n",
    "train[cat_variables] = train[cat_variables].astype('category')\n",
    "test[cat_variables] = test[cat_variables].astype('category')\n",
    "\n",
    "#Change listing_id to category too, we'll use that later to match with the reviews from the 'reviews' dataframe.\n",
    "train['listing_id'] = train['listing_id'].astype('category')\n",
    "test['listing_id'] = test['listing_id'].astype('category')"
   ]
  },
  {
   "cell_type": "code",
   "execution_count": 883,
   "id": "f3bc087e-aa70-4cac-abb9-cf5127c7977a",
   "metadata": {},
   "outputs": [],
   "source": [
    "train.host_is_superhost = train.host_is_superhost.map({'t' : 1 , 'f' : 0})\n",
    "train.host_has_profile_pic = train.host_has_profile_pic.map({'t' : 1 , 'f' : 0})\n",
    "train.host_identity_verified = train.host_identity_verified.map({'t' : 1 , 'f' : 0})\n",
    "\n",
    "test.host_is_superhost = test.host_is_superhost.map({'t' : 1 , 'f' : 0})\n",
    "test.host_has_profile_pic = test.host_has_profile_pic.map({'t' : 1 , 'f' : 0})\n",
    "test.host_identity_verified = test.host_identity_verified.map({'t' : 1 , 'f' : 0}) \n",
    "\n",
    "\n",
    "\n",
    "train.host_is_superhost = train.host_is_superhost.astype('bool')\n",
    "train.host_has_profile_pic = train.host_has_profile_pic.astype('bool')\n",
    "train.host_identity_verified = train.host_identity_verified.astype('bool')\n",
    "\n",
    "test.host_is_superhost = test.host_is_superhost.astype('bool')\n",
    "test.host_has_profile_pic = test.host_has_profile_pic.astype('bool')\n",
    "test.host_identity_verified = test.host_identity_verified.astype('bool')\n",
    "\n",
    "int_vars = train.select_dtypes(include = ['int64']).columns\n",
    "train[int_vars] = train[int_vars].astype('float64')\n",
    "int_vars = test.select_dtypes(include = ['int64']).columns\n",
    "test[int_vars] = test[int_vars].astype('float64')\n",
    "\n",
    "train['host_response_rate'] = train['host_response_rate'].str.rstrip(\"%\").astype(float)/100\n",
    "test['host_response_rate'] = test['host_response_rate'].str.rstrip(\"%\").astype(float)/100"
   ]
  },
  {
   "cell_type": "code",
   "execution_count": 884,
   "id": "f8f84f6d-188d-4c79-a4d7-e32925a4a488",
   "metadata": {},
   "outputs": [
    {
     "name": "stdout",
     "output_type": "stream",
     "text": [
      "<class 'pandas.core.frame.DataFrame'>\n",
      "RangeIndex: 55284 entries, 0 to 55283\n",
      "Data columns (total 42 columns):\n",
      " #   Column                       Non-Null Count  Dtype   \n",
      "---  ------                       --------------  -----   \n",
      " 0   name                         55270 non-null  object  \n",
      " 1   summary                      52330 non-null  object  \n",
      " 2   space                        38403 non-null  object  \n",
      " 3   description                  53558 non-null  object  \n",
      " 4   experiences_offered          55284 non-null  category\n",
      " 5   neighborhood_overview        35778 non-null  object  \n",
      " 6   transit                      35477 non-null  object  \n",
      " 7   house_rules                  31906 non-null  object  \n",
      " 8   picture_url                  55284 non-null  object  \n",
      " 9   host_id                      55284 non-null  float64 \n",
      " 10  host_since                   55173 non-null  object  \n",
      " 11  host_response_time           37482 non-null  category\n",
      " 12  host_response_rate           37482 non-null  float64 \n",
      " 13  host_is_superhost            55284 non-null  bool    \n",
      " 14  host_total_listings_count    55173 non-null  float64 \n",
      " 15  host_has_profile_pic         55284 non-null  bool    \n",
      " 16  host_identity_verified       55284 non-null  bool    \n",
      " 17  neighbourhood                55137 non-null  object  \n",
      " 18  neighbourhood_cleansed       55284 non-null  category\n",
      " 19  zipcode                      54012 non-null  object  \n",
      " 20  latitude                     55284 non-null  float64 \n",
      " 21  longitude                    55284 non-null  float64 \n",
      " 22  property_type                55284 non-null  category\n",
      " 23  room_type                    55284 non-null  category\n",
      " 24  accommodates                 55284 non-null  float64 \n",
      " 25  bathrooms                    55214 non-null  category\n",
      " 26  bedrooms                     55222 non-null  category\n",
      " 27  beds                         55022 non-null  category\n",
      " 28  bed_type                     55284 non-null  category\n",
      " 29  amenities                    55284 non-null  object  \n",
      " 30  price                        55284 non-null  float64 \n",
      " 31  guests_included              55284 non-null  category\n",
      " 32  review_scores_rating         41869 non-null  float64 \n",
      " 33  review_scores_accuracy       41836 non-null  float64 \n",
      " 34  review_scores_cleanliness    41842 non-null  float64 \n",
      " 35  review_scores_checkin        41801 non-null  float64 \n",
      " 36  review_scores_communication  41838 non-null  float64 \n",
      " 37  review_scores_location       41804 non-null  float64 \n",
      " 38  review_scores_value          41804 non-null  float64 \n",
      " 39  cancellation_policy          55284 non-null  category\n",
      " 40  reviews_per_month            42904 non-null  float64 \n",
      " 41  listing_id                   55284 non-null  category\n",
      "dtypes: bool(3), category(12), float64(15), object(12)\n",
      "memory usage: 14.8+ MB\n"
     ]
    }
   ],
   "source": [
    "train.info()"
   ]
  },
  {
   "cell_type": "markdown",
   "id": "b18944aa-1656-4844-9f1b-d52a99a14cc8",
   "metadata": {},
   "source": [
    "___\n",
    "\n",
    "## 3. Data Cleaning\n",
    "\n"
   ]
  },
  {
   "cell_type": "markdown",
   "id": "e8e83ebc-0eb4-4eb0-8cc3-7bb69b0024cb",
   "metadata": {},
   "source": [
    "---\n",
    "\n",
    "### 3.1 Duplicates"
   ]
  },
  {
   "cell_type": "markdown",
   "id": "e4dcf9cf-8f44-4d38-a22c-886b6a3ee55a",
   "metadata": {},
   "source": [
    "First, we will check if we have duplications in our data. The variable we can use for this purpose is the listing_id, which should be different for every listing."
   ]
  },
  {
   "cell_type": "code",
   "execution_count": 885,
   "id": "dba8262c-c554-419d-b3b6-edb4a24cc74f",
   "metadata": {},
   "outputs": [
    {
     "data": {
      "text/html": [
       "<div>\n",
       "<style scoped>\n",
       "    .dataframe tbody tr th:only-of-type {\n",
       "        vertical-align: middle;\n",
       "    }\n",
       "\n",
       "    .dataframe tbody tr th {\n",
       "        vertical-align: top;\n",
       "    }\n",
       "\n",
       "    .dataframe thead th {\n",
       "        text-align: right;\n",
       "    }\n",
       "</style>\n",
       "<table border=\"1\" class=\"dataframe\">\n",
       "  <thead>\n",
       "    <tr style=\"text-align: right;\">\n",
       "      <th></th>\n",
       "      <th>name</th>\n",
       "      <th>summary</th>\n",
       "      <th>space</th>\n",
       "      <th>description</th>\n",
       "      <th>experiences_offered</th>\n",
       "      <th>neighborhood_overview</th>\n",
       "      <th>transit</th>\n",
       "      <th>house_rules</th>\n",
       "      <th>picture_url</th>\n",
       "      <th>host_id</th>\n",
       "      <th>...</th>\n",
       "      <th>review_scores_rating</th>\n",
       "      <th>review_scores_accuracy</th>\n",
       "      <th>review_scores_cleanliness</th>\n",
       "      <th>review_scores_checkin</th>\n",
       "      <th>review_scores_communication</th>\n",
       "      <th>review_scores_location</th>\n",
       "      <th>review_scores_value</th>\n",
       "      <th>cancellation_policy</th>\n",
       "      <th>reviews_per_month</th>\n",
       "      <th>listing_id</th>\n",
       "    </tr>\n",
       "  </thead>\n",
       "  <tbody>\n",
       "    <tr>\n",
       "      <th>0</th>\n",
       "      <td>Attic Room in historic Greenwich</td>\n",
       "      <td>The room does not have a door but its own disc...</td>\n",
       "      <td>Double room available in historic royal Greenw...</td>\n",
       "      <td>The room does not have a door but its own disc...</td>\n",
       "      <td>business</td>\n",
       "      <td>NaN</td>\n",
       "      <td>Parking is restricted in London. Visitors park...</td>\n",
       "      <td>no shoes on carpets no food in attic room no o...</td>\n",
       "      <td>https://a0.muscache.com/im/pictures/20045164/7...</td>\n",
       "      <td>2167992.0</td>\n",
       "      <td>...</td>\n",
       "      <td>95.0</td>\n",
       "      <td>10.0</td>\n",
       "      <td>10.0</td>\n",
       "      <td>10.0</td>\n",
       "      <td>10.0</td>\n",
       "      <td>10.0</td>\n",
       "      <td>10.0</td>\n",
       "      <td>strict_14_with_grace_period</td>\n",
       "      <td>2.37</td>\n",
       "      <td>9Q1RD6H7IO</td>\n",
       "    </tr>\n",
       "  </tbody>\n",
       "</table>\n",
       "<p>1 rows × 42 columns</p>\n",
       "</div>"
      ],
      "text/plain": [
       "                               name  \\\n",
       "0  Attic Room in historic Greenwich   \n",
       "\n",
       "                                             summary  \\\n",
       "0  The room does not have a door but its own disc...   \n",
       "\n",
       "                                               space  \\\n",
       "0  Double room available in historic royal Greenw...   \n",
       "\n",
       "                                         description experiences_offered  \\\n",
       "0  The room does not have a door but its own disc...            business   \n",
       "\n",
       "  neighborhood_overview                                            transit  \\\n",
       "0                   NaN  Parking is restricted in London. Visitors park...   \n",
       "\n",
       "                                         house_rules  \\\n",
       "0  no shoes on carpets no food in attic room no o...   \n",
       "\n",
       "                                         picture_url    host_id  ...  \\\n",
       "0  https://a0.muscache.com/im/pictures/20045164/7...  2167992.0  ...   \n",
       "\n",
       "  review_scores_rating review_scores_accuracy  review_scores_cleanliness  \\\n",
       "0                 95.0                   10.0                       10.0   \n",
       "\n",
       "   review_scores_checkin  review_scores_communication  review_scores_location  \\\n",
       "0                   10.0                         10.0                    10.0   \n",
       "\n",
       "   review_scores_value          cancellation_policy reviews_per_month  \\\n",
       "0                 10.0  strict_14_with_grace_period              2.37   \n",
       "\n",
       "   listing_id  \n",
       "0  9Q1RD6H7IO  \n",
       "\n",
       "[1 rows x 42 columns]"
      ]
     },
     "execution_count": 885,
     "metadata": {},
     "output_type": "execute_result"
    }
   ],
   "source": [
    "train[train.listing_id == train.listing_id[0]]"
   ]
  },
  {
   "cell_type": "code",
   "execution_count": 886,
   "id": "70b71d8f-917a-4b4d-ab2b-8db5ce1188b1",
   "metadata": {},
   "outputs": [
    {
     "data": {
      "text/html": [
       "<div>\n",
       "<style scoped>\n",
       "    .dataframe tbody tr th:only-of-type {\n",
       "        vertical-align: middle;\n",
       "    }\n",
       "\n",
       "    .dataframe tbody tr th {\n",
       "        vertical-align: top;\n",
       "    }\n",
       "\n",
       "    .dataframe thead th {\n",
       "        text-align: right;\n",
       "    }\n",
       "</style>\n",
       "<table border=\"1\" class=\"dataframe\">\n",
       "  <thead>\n",
       "    <tr style=\"text-align: right;\">\n",
       "      <th></th>\n",
       "      <th>name</th>\n",
       "      <th>summary</th>\n",
       "      <th>space</th>\n",
       "      <th>description</th>\n",
       "      <th>experiences_offered</th>\n",
       "      <th>neighborhood_overview</th>\n",
       "      <th>transit</th>\n",
       "      <th>house_rules</th>\n",
       "      <th>picture_url</th>\n",
       "      <th>host_id</th>\n",
       "      <th>...</th>\n",
       "      <th>review_scores_rating</th>\n",
       "      <th>review_scores_accuracy</th>\n",
       "      <th>review_scores_cleanliness</th>\n",
       "      <th>review_scores_checkin</th>\n",
       "      <th>review_scores_communication</th>\n",
       "      <th>review_scores_location</th>\n",
       "      <th>review_scores_value</th>\n",
       "      <th>cancellation_policy</th>\n",
       "      <th>reviews_per_month</th>\n",
       "      <th>listing_id</th>\n",
       "    </tr>\n",
       "  </thead>\n",
       "  <tbody>\n",
       "    <tr>\n",
       "      <th>0</th>\n",
       "      <td>Ladbroke Grove Stylish Portobello Apartment</td>\n",
       "      <td>Large, bright and contemporary flat located in...</td>\n",
       "      <td>NaN</td>\n",
       "      <td>Large, bright and contemporary flat located in...</td>\n",
       "      <td>none</td>\n",
       "      <td>NaN</td>\n",
       "      <td>NaN</td>\n",
       "      <td>NaN</td>\n",
       "      <td>https://a0.muscache.com/im/pictures/9e15bc56-a...</td>\n",
       "      <td>28086957.0</td>\n",
       "      <td>...</td>\n",
       "      <td>96.0</td>\n",
       "      <td>10.0</td>\n",
       "      <td>10.0</td>\n",
       "      <td>10.0</td>\n",
       "      <td>10.0</td>\n",
       "      <td>10.0</td>\n",
       "      <td>10.0</td>\n",
       "      <td>flexible</td>\n",
       "      <td>1.89</td>\n",
       "      <td>0FEMC4VA5U</td>\n",
       "    </tr>\n",
       "  </tbody>\n",
       "</table>\n",
       "<p>1 rows × 41 columns</p>\n",
       "</div>"
      ],
      "text/plain": [
       "                                          name  \\\n",
       "0  Ladbroke Grove Stylish Portobello Apartment   \n",
       "\n",
       "                                             summary space  \\\n",
       "0  Large, bright and contemporary flat located in...   NaN   \n",
       "\n",
       "                                         description experiences_offered  \\\n",
       "0  Large, bright and contemporary flat located in...                none   \n",
       "\n",
       "  neighborhood_overview transit house_rules  \\\n",
       "0                   NaN     NaN         NaN   \n",
       "\n",
       "                                         picture_url     host_id  ...  \\\n",
       "0  https://a0.muscache.com/im/pictures/9e15bc56-a...  28086957.0  ...   \n",
       "\n",
       "  review_scores_rating review_scores_accuracy  review_scores_cleanliness  \\\n",
       "0                 96.0                   10.0                       10.0   \n",
       "\n",
       "   review_scores_checkin  review_scores_communication  review_scores_location  \\\n",
       "0                   10.0                         10.0                    10.0   \n",
       "\n",
       "   review_scores_value cancellation_policy reviews_per_month  listing_id  \n",
       "0                 10.0            flexible              1.89  0FEMC4VA5U  \n",
       "\n",
       "[1 rows x 41 columns]"
      ]
     },
     "execution_count": 886,
     "metadata": {},
     "output_type": "execute_result"
    }
   ],
   "source": [
    "test[test.listing_id == test.listing_id[0]]"
   ]
  },
  {
   "cell_type": "markdown",
   "id": "22e2cfba-36ad-4283-9b1b-732e7fe0ee8e",
   "metadata": {},
   "source": [
    "Good, so we have no duplicates, neither in the train set nor in the test set."
   ]
  },
  {
   "cell_type": "markdown",
   "id": "f4fb8dbc-53d4-4444-8d4b-2812da82eac2",
   "metadata": {},
   "source": [
    "---\n",
    "\n",
    "### 3.2 Redundant Features"
   ]
  },
  {
   "cell_type": "markdown",
   "id": "27e89764-39d1-4315-845c-6c07b3774dbc",
   "metadata": {},
   "source": [
    "Our data comes with a large amount of features. Some of them are intiutively redundant and hold very low predictive power or no power at all. We will drop these features now (later we will perform a deeper feature analysis and hopefully further reduce the number of features)."
   ]
  },
  {
   "cell_type": "code",
   "execution_count": 887,
   "id": "c5355364-3290-4867-a890-e7dab9f21e07",
   "metadata": {},
   "outputs": [],
   "source": [
    "train.drop(columns = ['picture_url' , 'host_id', 'neighbourhood'  ,'zipcode' , 'latitude' , 'longitude' , 'accommodates' , \n",
    "          'reviews_per_month' , 'host_since'] , inplace = True)\n",
    "test.drop(columns = ['picture_url' , 'host_id', 'neighbourhood' , 'zipcode', 'latitude' , 'longitude' , 'accommodates' , \n",
    "         'reviews_per_month', 'host_since'] , inplace = True)\n"
   ]
  },
  {
   "cell_type": "markdown",
   "id": "9b540477-f764-41c8-bf8e-dc382b8794a3",
   "metadata": {},
   "source": [
    "We drop 'neighbourhood' and 'zipcode' as we use the feature 'neighbourhood_cleansed' instead. We also drop 'accommodates' as we use \n",
    "the feature 'guests', which reasonably holds more predictive power ('accommodates' is the limit of the feature 'guests' and so is fixed. The price will change however as the guest number changes). 'reviews per month' is dropped as we will create a feature\n",
    "'number of reviews' later on. The rest of the dropped features were dropped simply based on common sense."
   ]
  },
  {
   "cell_type": "markdown",
   "id": "de311331-d08e-44b5-918a-5d75adc06bf2",
   "metadata": {},
   "source": [
    "---\n",
    "\n",
    "### 3.3 Missing Values"
   ]
  },
  {
   "cell_type": "code",
   "execution_count": 888,
   "id": "7b73b3fd-0ae7-4954-984a-8410e9ef5497",
   "metadata": {},
   "outputs": [
    {
     "data": {
      "text/plain": [
       "name                              14\n",
       "summary                         2954\n",
       "space                          16881\n",
       "description                     1726\n",
       "experiences_offered                0\n",
       "neighborhood_overview          19506\n",
       "transit                        19807\n",
       "house_rules                    23378\n",
       "host_response_time             17802\n",
       "host_response_rate             17802\n",
       "host_is_superhost                  0\n",
       "host_total_listings_count        111\n",
       "host_has_profile_pic               0\n",
       "host_identity_verified             0\n",
       "neighbourhood_cleansed             0\n",
       "property_type                      0\n",
       "room_type                          0\n",
       "bathrooms                         70\n",
       "bedrooms                          62\n",
       "beds                             262\n",
       "bed_type                           0\n",
       "amenities                          0\n",
       "price                              0\n",
       "guests_included                    0\n",
       "review_scores_rating           13415\n",
       "review_scores_accuracy         13448\n",
       "review_scores_cleanliness      13442\n",
       "review_scores_checkin          13483\n",
       "review_scores_communication    13446\n",
       "review_scores_location         13480\n",
       "review_scores_value            13480\n",
       "cancellation_policy                0\n",
       "listing_id                         0\n",
       "dtype: int64"
      ]
     },
     "execution_count": 888,
     "metadata": {},
     "output_type": "execute_result"
    }
   ],
   "source": [
    "train.isnull().sum()"
   ]
  },
  {
   "cell_type": "code",
   "execution_count": 889,
   "id": "94575291-c3ff-4389-9186-8fa56dff8f62",
   "metadata": {},
   "outputs": [],
   "source": [
    "# The NaN in the text variables are of type float, which will cause problems with our text cleaning functions later on. Therefore, we will change all NaN values in our text variables \n",
    "# to an empty string.\n",
    "\n",
    "text_list = ['name' , 'summary' , 'space' , 'description' , 'neighborhood_overview' , 'transit' , 'house_rules']\n",
    "for name in text_list :\n",
    "    train[name].fillna('' , inplace = True)\n",
    "    test[name].fillna('' , inplace = True)"
   ]
  },
  {
   "cell_type": "markdown",
   "id": "18e270f4-3bcc-4a85-8447-70ffcf7958ea",
   "metadata": {},
   "source": [
    "For the following features we conduct the following NaN handling: <br>\n",
    "Host response time - change to mode <br>\n",
    "Host response rate - change to median <br>\n",
    "Review scores rating - change to mean <br>\n",
    "Total listing count change to 1 <br>\n",
    "Bathrooms to number of bedrooms <br>\n",
    "bedrooms to number of beds <br>\n",
    "beds to number of bedrooms <br>"
   ]
  },
  {
   "cell_type": "code",
   "execution_count": 890,
   "id": "93bad99e-7173-4c64-9ca0-d988ca325420",
   "metadata": {},
   "outputs": [],
   "source": [
    "train.host_response_time.fillna((train.host_response_time.mode()[0]) , inplace = True)\n",
    "train.host_response_rate.fillna((train.host_response_rate.mean()) , inplace = True)\n",
    "train.review_scores_rating .fillna((train.review_scores_rating.mean()) , inplace = True)\n",
    "train.host_total_listings_count.fillna(1, inplace = True)\n",
    "\n",
    "#Change category variables to float in order to easily replace NaN with numbers\n",
    "train['bathrooms'] = train['bathrooms'].astype('float64')\n",
    "train['bedrooms'] = train['bedrooms'].astype('float64')\n",
    "train['beds'] = train['beds'].astype('float64')\n",
    "train['guests_included'] = train['guests_included'].astype('float64')\n",
    "\n",
    "train.loc[train['beds'].isnull(),'beds'] = np.ceil(train['guests_included']/2)\n",
    "train.loc[train['bedrooms'].isnull(),'bedrooms'] = train['beds']\n",
    "train.loc[train['bathrooms'].isnull(),'bathrooms'] = train['bedrooms']\n",
    "\n",
    "train['bathrooms'] = train['bathrooms'].astype('category')\n",
    "train['bedrooms'] = train['bedrooms'].astype('category')\n",
    "train['beds'] = train['beds'].astype('category')\n",
    "train['guests_included'] = train['guests_included'].astype('category')"
   ]
  },
  {
   "cell_type": "code",
   "execution_count": 891,
   "id": "7a0c8795-6a3b-48c5-93e5-90dd36c39219",
   "metadata": {},
   "outputs": [],
   "source": [
    "test.host_response_time.fillna((train.host_response_time.mode()[0]) , inplace = True)\n",
    "test.host_response_rate.fillna((train.host_response_rate.mean()) , inplace = True)\n",
    "test.review_scores_rating.fillna((train.review_scores_rating.mean()) , inplace = True)\n",
    "test.host_total_listings_count.fillna(1, inplace = True)\n",
    "\n",
    "test['bathrooms'] = test['bathrooms'].astype('float64')\n",
    "test['bedrooms'] = test['bedrooms'].astype('float64')\n",
    "test['beds'] = test['beds'].astype('float64')\n",
    "test['guests_included'] = test['guests_included'].astype('float64')\n",
    "\n",
    "test.loc[test['beds'].isnull(),'beds'] = np.ceil(test['guests_included']/2)\n",
    "test.loc[test['bedrooms'].isnull(),'bedrooms'] = test['beds']\n",
    "test.loc[test['bathrooms'].isnull(),'bathrooms'] = test['bedrooms']\n",
    "\n",
    "test['bathrooms'] = test['bathrooms'].astype('category')\n",
    "test['bedrooms'] = test['bedrooms'].astype('category')\n",
    "test['beds'] = test['beds'].astype('category')\n",
    "test['guests_included'] = test['guests_included'].astype('category')"
   ]
  },
  {
   "cell_type": "markdown",
   "id": "95c375f5-b8f7-48a2-a886-77fc8b4d3d0d",
   "metadata": {},
   "source": [
    "---\n",
    "\n",
    "### 3.4 Text Cleaning"
   ]
  },
  {
   "cell_type": "code",
   "execution_count": 893,
   "id": "59530647-0c9f-406b-af2a-7b43da43f5eb",
   "metadata": {},
   "outputs": [],
   "source": [
    "def get_wordnet_pos(word):\n",
    "    \"\"\"Map POS tag to first character for lemmatization\"\"\"\n",
    "    tag = nltk.pos_tag([word])[0][1][0].upper()\n",
    "    tag_dict = {\"J\": wordnet.ADJ,\n",
    "                \"N\": wordnet.NOUN,\n",
    "                \"V\": wordnet.VERB,\n",
    "                \"R\": wordnet.ADV}\n",
    "    return tag_dict.get(tag, wordnet.NOUN)\n",
    "\n",
    "def clean_text(text):\n",
    "    \n",
    "    # remove newlines\n",
    "    clean_text = text.replace(\"\\n\", \" \")\n",
    "    clean_text = clean_text.replace(\"\\xa0\", \" \")\n",
    "    # remove URLs\n",
    "    clean_text = re.sub(r'http\\S+', '', clean_text)\n",
    "    clean_text = re.sub(r'www\\.\\S+', '', clean_text)\n",
    "    # remove non-alphabetic characters\n",
    "    clean_text = re.sub(\"[^a-zA-Z]\", \" \", clean_text)\n",
    "    # remove html content\n",
    "    clean_text = BeautifulSoup(clean_text, \"html.parser\").get_text()\n",
    "\n",
    "    # fix contractions\n",
    "    clean_text = re.sub(r\"['’]ll\", \" will\", clean_text)\n",
    "    clean_text = re.sub(r\"['’]ve\", \" have\", clean_text)\n",
    "    clean_text = re.sub(r\"['’]re\", \" are\", clean_text)\n",
    "    clean_text = re.sub(r\"['’]d\", \" would\", clean_text)\n",
    "    clean_text = re.sub(r\"['’]m\", \" am\", clean_text)\n",
    "    clean_text = re.sub(r\"(?i)there['’]s\", \"there is\", clean_text)\n",
    "    clean_text = re.sub(r\"(?i)that['’]s\", \"that is\", clean_text)\n",
    "    clean_text = re.sub(r\"(?i)it['’]s\", \"it is\", clean_text)\n",
    "    clean_text = re.sub(r\"(?i)he['’]s\", \"he is\", clean_text)\n",
    "    clean_text = re.sub(r\"can['’]t\", \"cannot\", clean_text)\n",
    "    clean_text = re.sub(r\"won['’]t\", \"will not\", clean_text)\n",
    "    clean_text = re.sub(r\"n['’]t\", \" not\", clean_text)\n",
    "    clean_text = clean_text.replace(\"gonna\", \"going to\")\n",
    "    clean_text = clean_text.replace(\"wanna\", \"want to\")\n",
    "    clean_text = clean_text.replace(\"gotta\", \"got to\")\n",
    "    clean_text = clean_text.replace('\\s+', ' ')\n",
    "    \n",
    "    # tokenize the sentences\n",
    "    words = word_tokenize(clean_text.lower())\n",
    "    # filter stopwords\n",
    "    words = [w for w in words if w not in stopwords.words(\"english\")]\n",
    "    # lemmatize each word to its lemma\n",
    "    lemmatizer = WordNetLemmatizer()\n",
    "    lemmatized_words = [lemmatizer.lemmatize(i, get_wordnet_pos(i)) for i in words]\n",
    "    return lemmatized_words\n",
    "\n"
   ]
  },
  {
   "cell_type": "code",
   "execution_count": 894,
   "id": "0a7b361f-a43c-4dd4-9a05-63a1fd14ef7f",
   "metadata": {},
   "outputs": [],
   "source": [
    "def text_feature_cleaner(feature):\n",
    "    print('*' * 40)\n",
    "    print('Cleaning {} texts of feature {}.'.format(feature.shape[0] , feature.name))\n",
    "    clean_feature = feature.apply(clean_text)\n",
    "    detokenized_feature = [TreebankWordDetokenizer().detokenize(article) for article in clean_feature]\n",
    "    new_feature = pd.Series( detokenized_feature, index=feature.index, dtype=\"str\")\n",
    "    return new_feature"
   ]
  },
  {
   "cell_type": "code",
   "execution_count": 620,
   "id": "eb2277a2-c408-4daa-a241-6530aa8e5760",
   "metadata": {},
   "outputs": [
    {
     "name": "stdout",
     "output_type": "stream",
     "text": [
      "****************************************\n",
      "Cleaning 55284 texts of feature name.\n",
      "****************************************\n",
      "Cleaning 29769 texts of feature name.\n",
      "****************************************\n",
      "Cleaning 55284 texts of feature summary.\n",
      "****************************************\n",
      "Cleaning 29769 texts of feature summary.\n",
      "****************************************\n",
      "Cleaning 55284 texts of feature space.\n",
      "****************************************\n",
      "Cleaning 29769 texts of feature space.\n",
      "****************************************\n",
      "Cleaning 55284 texts of feature description.\n",
      "****************************************\n",
      "Cleaning 29769 texts of feature description.\n",
      "****************************************\n",
      "Cleaning 55284 texts of feature neighborhood_overview.\n",
      "****************************************\n",
      "Cleaning 29769 texts of feature neighborhood_overview.\n",
      "****************************************\n",
      "Cleaning 55284 texts of feature transit.\n",
      "****************************************\n",
      "Cleaning 29769 texts of feature transit.\n",
      "****************************************\n",
      "Cleaning 55284 texts of feature house_rules.\n",
      "****************************************\n",
      "Cleaning 29769 texts of feature house_rules.\n",
      "****************************************\n",
      "Cleaning 55284 texts of feature amenities.\n",
      "****************************************\n",
      "Cleaning 29769 texts of feature amenities.\n"
     ]
    }
   ],
   "source": [
    "text_features = ['name' , 'summary' , 'space' , 'description' , 'neighborhood_overview' , 'transit', \n",
    "                 'house_rules', 'amenities']\n",
    "for t in text_features:\n",
    "    train[t] = text_feature_cleaner(train[t])\n",
    "    test[t] = text_feature_cleaner(test[t])\n"
   ]
  },
  {
   "cell_type": "markdown",
   "id": "c751b1a5-4b19-464d-ac47-c7d72f8c0f4a",
   "metadata": {
    "tags": []
   },
   "source": [
    "---\n",
    "\n",
    "## 4. Feature Engineering"
   ]
  },
  {
   "cell_type": "markdown",
   "id": "bae0a8ba-9da6-4852-91bc-4535f4f30f44",
   "metadata": {},
   "source": [
    "---\n",
    "\n",
    "### 4.1 Feature Retrieving "
   ]
  },
  {
   "cell_type": "markdown",
   "id": "07356a16-6cf0-4586-ba22-2c8e6f54fbf0",
   "metadata": {},
   "source": [
    "First, let's utilize our extra dataset which contains the reviews. By matching the 'listing_id' on both datasets we can count the number of reviews our listings have. The number of reviews combined with the reviews's ratings may posses a strong predictive value."
   ]
  },
  {
   "cell_type": "code",
   "execution_count": 900,
   "id": "6002426a-5575-4d7b-854a-b96f027fc4d0",
   "metadata": {},
   "outputs": [],
   "source": [
    "reviews_df = pd.read_csv(\"reviews.csv\" , sep = \",\")\n",
    "reviews_df['listing_id'] = reviews_df['listing_id'].astype('category')"
   ]
  },
  {
   "cell_type": "code",
   "execution_count": 901,
   "id": "34cf678f-37f9-4d5b-ad61-7b5f2daead45",
   "metadata": {},
   "outputs": [],
   "source": [
    "review_value_count = reviews_df['listing_id'].value_counts()\n",
    "train['number_of_reviews'] = train['listing_id'].map(review_value_count)\n",
    "test['number_of_reviews'] = test['listing_id'].map(review_value_count)\n",
    "\n",
    "# Fill n/a with the value zero, has these are simply observations that did'nt have any reviews in the review list.\n",
    "train['number_of_reviews'].fillna(0 , inplace = True)\n",
    "test['number_of_reviews'].fillna(0 , inplace = True)"
   ]
  },
  {
   "cell_type": "markdown",
   "id": "dd6c5b80-33fe-473c-bba1-86d62ed20474",
   "metadata": {
    "tags": []
   },
   "source": [
    "---\n",
    "\n",
    "### 4.2 Text Features"
   ]
  },
  {
   "cell_type": "markdown",
   "id": "8df62a5e-ebe8-4774-8f46-ee1e431d4b58",
   "metadata": {},
   "source": [
    "We have multiple text features. The current setting will make the neural network we will build later more cumbersome, so we will consolidate them as much as possible."
   ]
  },
  {
   "cell_type": "code",
   "execution_count": 625,
   "id": "3d67b628-a8f1-48cb-ae0e-678a9ab936e5",
   "metadata": {
    "tags": []
   },
   "outputs": [
    {
     "data": {
      "text/plain": [
       "0    room door discreet staircase light airy open p...\n",
       "1    garden studio private entrance minute crouch e...\n",
       "2                                                     \n",
       "3    luxury first floor victorian split level maiso...\n",
       "4    new luxury apartment private outside patio gre...\n",
       "Name: summary, dtype: object"
      ]
     },
     "execution_count": 625,
     "metadata": {},
     "output_type": "execute_result"
    }
   ],
   "source": [
    "train['summary'][0:5]"
   ]
  },
  {
   "cell_type": "code",
   "execution_count": 626,
   "id": "cbf80ec0-7f6c-43f0-8fcb-5462e9dd8854",
   "metadata": {},
   "outputs": [
    {
     "data": {
      "text/plain": [
       "0    room door discreet staircase light airy open p...\n",
       "1    garden studio private entrance minute crouch e...\n",
       "2                                                     \n",
       "3    luxury first floor victorian split level maiso...\n",
       "4    new luxury apartment private outside patio gre...\n",
       "Name: description, dtype: object"
      ]
     },
     "execution_count": 626,
     "metadata": {},
     "output_type": "execute_result"
    }
   ],
   "source": [
    "train['description'][0:5]"
   ]
  },
  {
   "cell_type": "markdown",
   "id": "3613d5f6-2f4a-49e8-8ea9-fab263d84839",
   "metadata": {},
   "source": [
    "Both features contain exactly the same data. As we saw earlier, 'space' has many more missing values compared to 'description'. Let's see if we can fill up some of 'description' missing values from the 'space' feature "
   ]
  },
  {
   "cell_type": "code",
   "execution_count": 627,
   "id": "8529826d-8d61-41f8-946e-d5a420bada74",
   "metadata": {},
   "outputs": [
    {
     "data": {
      "text/plain": [
       "array([], dtype=int64)"
      ]
     },
     "execution_count": 627,
     "metadata": {},
     "output_type": "execute_result"
    }
   ],
   "source": [
    "null_spaces = np.array(np.where(train_orig['space'].isnull()))\n",
    "null_description = np.array(np.where(train_orig['description'].isnull()))\n",
    "\n",
    "not_in = np.setdiff1d(null_description, null_spaces)\n",
    "not_in"
   ]
  },
  {
   "cell_type": "markdown",
   "id": "d024a658-67f0-412b-9500-d95b808f491b",
   "metadata": {},
   "source": [
    "Unfortunately we don't have additional values in the 'space' feature to cover fro some of 'description' missing values. We will move on to remove the feature 'space'"
   ]
  },
  {
   "cell_type": "code",
   "execution_count": 902,
   "id": "9c00be46-7716-4cf1-88da-5bfee3e27a0c",
   "metadata": {},
   "outputs": [],
   "source": [
    "train.drop(columns = 'space' , axis = 1 ,inplace = True)\n",
    "test.drop(columns = 'space' , axis = 1 ,inplace = True)"
   ]
  },
  {
   "cell_type": "markdown",
   "id": "6e122798-f705-4f76-8cea-b0040c06e61f",
   "metadata": {},
   "source": [
    "Moving forward , the features 'description' and 'summary' are basically one big text cut into two. They hold more or less the same information, and in the Airbnb website the two are displayed together when the user clicks on 'read more'. Therefore, we can combine the two into a new feature.\n",
    "Also, the feature 'name' can reasonably be combined with these features, as it also describes the listing.\n",
    "We will create a feature named 'overview' which is a combination of all three features"
   ]
  },
  {
   "cell_type": "code",
   "execution_count": 903,
   "id": "4327f8cb-90c0-4c60-8df7-06cd6b6949ca",
   "metadata": {},
   "outputs": [],
   "source": [
    "train['overview'] = train['name'] + \" \" + train['summary'] + \" \" + train['description']\n",
    "test['overview'] = test['name'] + \" \" + test['summary'] + \" \" + test['description']\n",
    "\n",
    "\n",
    "train.drop(columns = ['name' , 'description' , 'summary'] , axis = 1 ,inplace = True)\n",
    "test.drop(columns = ['name' , 'description' , 'summary'] , axis = 1 ,inplace = True)"
   ]
  },
  {
   "cell_type": "markdown",
   "id": "db3e369b-42a7-4a4b-8c5b-bfab453bb8c2",
   "metadata": {},
   "source": [
    "---\n",
    "\n",
    "### 4.3 Feature analysis"
   ]
  },
  {
   "cell_type": "markdown",
   "id": "952980d0-05a9-4ef1-a992-121acf2e896a",
   "metadata": {},
   "source": [
    "Our datasets contains many features, some of which might be of very little value to us. In this case, it would be better to filter out some more features in addition to the irrelevant ones dropped earlier."
   ]
  },
  {
   "cell_type": "markdown",
   "id": "7da72e3d-12f5-4b7b-80b7-9d24467c0f3c",
   "metadata": {},
   "source": [
    "Let's have a look at the review scoring. These are likely features with strong predictive power, but the 7 features should be highly correlated. It is also possible that the score rating is simply an average of all other features or close to that. Therefore, if our assumption is right, we can keep the feature 'review_score_rating' and drop the rest."
   ]
  },
  {
   "cell_type": "code",
   "execution_count": 631,
   "id": "4d828f4a-9cb8-4f50-a504-59be202b60a7",
   "metadata": {},
   "outputs": [
    {
     "data": {
      "text/html": [
       "<div>\n",
       "<style scoped>\n",
       "    .dataframe tbody tr th:only-of-type {\n",
       "        vertical-align: middle;\n",
       "    }\n",
       "\n",
       "    .dataframe tbody tr th {\n",
       "        vertical-align: top;\n",
       "    }\n",
       "\n",
       "    .dataframe thead th {\n",
       "        text-align: right;\n",
       "    }\n",
       "</style>\n",
       "<table border=\"1\" class=\"dataframe\">\n",
       "  <thead>\n",
       "    <tr style=\"text-align: right;\">\n",
       "      <th></th>\n",
       "      <th>review_scores_checkin</th>\n",
       "      <th>review_scores_communication</th>\n",
       "      <th>review_scores_location</th>\n",
       "      <th>review_scores_value</th>\n",
       "      <th>cancellation_policy</th>\n",
       "      <th>listing_id</th>\n",
       "      <th>number_of_reviews</th>\n",
       "    </tr>\n",
       "  </thead>\n",
       "  <tbody>\n",
       "    <tr>\n",
       "      <th>0</th>\n",
       "      <td>10.0</td>\n",
       "      <td>10.0</td>\n",
       "      <td>10.0</td>\n",
       "      <td>10.0</td>\n",
       "      <td>strict_14_with_grace_period</td>\n",
       "      <td>9Q1RD6H7IO</td>\n",
       "      <td>187.0</td>\n",
       "    </tr>\n",
       "    <tr>\n",
       "      <th>1</th>\n",
       "      <td>10.0</td>\n",
       "      <td>10.0</td>\n",
       "      <td>10.0</td>\n",
       "      <td>10.0</td>\n",
       "      <td>moderate</td>\n",
       "      <td>6XDPZPGLSR</td>\n",
       "      <td>138.0</td>\n",
       "    </tr>\n",
       "    <tr>\n",
       "      <th>2</th>\n",
       "      <td>10.0</td>\n",
       "      <td>10.0</td>\n",
       "      <td>9.0</td>\n",
       "      <td>8.0</td>\n",
       "      <td>strict_14_with_grace_period</td>\n",
       "      <td>SND9OPN6IY</td>\n",
       "      <td>11.0</td>\n",
       "    </tr>\n",
       "    <tr>\n",
       "      <th>3</th>\n",
       "      <td>NaN</td>\n",
       "      <td>NaN</td>\n",
       "      <td>NaN</td>\n",
       "      <td>NaN</td>\n",
       "      <td>flexible</td>\n",
       "      <td>SE3B7BXN9G</td>\n",
       "      <td>0.0</td>\n",
       "    </tr>\n",
       "    <tr>\n",
       "      <th>4</th>\n",
       "      <td>10.0</td>\n",
       "      <td>10.0</td>\n",
       "      <td>10.0</td>\n",
       "      <td>10.0</td>\n",
       "      <td>strict_14_with_grace_period</td>\n",
       "      <td>E0C82VK0VF</td>\n",
       "      <td>14.0</td>\n",
       "    </tr>\n",
       "  </tbody>\n",
       "</table>\n",
       "</div>"
      ],
      "text/plain": [
       "   review_scores_checkin  review_scores_communication  review_scores_location  \\\n",
       "0                   10.0                         10.0                    10.0   \n",
       "1                   10.0                         10.0                    10.0   \n",
       "2                   10.0                         10.0                     9.0   \n",
       "3                    NaN                          NaN                     NaN   \n",
       "4                   10.0                         10.0                    10.0   \n",
       "\n",
       "   review_scores_value          cancellation_policy  listing_id  \\\n",
       "0                 10.0  strict_14_with_grace_period  9Q1RD6H7IO   \n",
       "1                 10.0                     moderate  6XDPZPGLSR   \n",
       "2                  8.0  strict_14_with_grace_period  SND9OPN6IY   \n",
       "3                  NaN                     flexible  SE3B7BXN9G   \n",
       "4                 10.0  strict_14_with_grace_period  E0C82VK0VF   \n",
       "\n",
       "   number_of_reviews  \n",
       "0              187.0  \n",
       "1              138.0  \n",
       "2               11.0  \n",
       "3                0.0  \n",
       "4               14.0  "
      ]
     },
     "execution_count": 631,
     "metadata": {},
     "output_type": "execute_result"
    }
   ],
   "source": [
    "train.iloc[0:5,20:27]"
   ]
  },
  {
   "cell_type": "code",
   "execution_count": 632,
   "id": "f2e850b1-3036-48d2-ae74-2aabde87fbd4",
   "metadata": {},
   "outputs": [
    {
     "data": {
      "image/png": "[encoded data removed]",
      "text/plain": [
       "<Figure size 640x480 with 2 Axes>"
      ]
     },
     "metadata": {},
     "output_type": "display_data"
    }
   ],
   "source": [
    "df_reviews = train.iloc[:,20:27]\n",
    "df_reviews['review_scores_rating'] = df_reviews['review_scores_rating']/10\n",
    "corr_mat = df_reviews.corr()\n",
    "sns.heatmap(corr_mat , annot = True)\n",
    "plt.show()"
   ]
  },
  {
   "cell_type": "code",
   "execution_count": 904,
   "id": "a49a6c19-2b0c-4780-9569-945461e8ca95",
   "metadata": {},
   "outputs": [
    {
     "data": {
      "text/plain": [
       "0.8717074783429386"
      ]
     },
     "execution_count": 904,
     "metadata": {},
     "output_type": "execute_result"
    }
   ],
   "source": [
    "train['scores_average'] = train[['review_scores_accuracy' , 'review_scores_cleanliness', 'review_scores_checkin' , 'review_scores_communication' , 'review_scores_location' , 'review_scores_value']].mean(axis =1)\n",
    "train['review_scores_rating'].corr(train['scores_average'])"
   ]
  },
  {
   "cell_type": "markdown",
   "id": "744612f8-5762-47c2-8213-688924d194f8",
   "metadata": {},
   "source": [
    "The 'review score rating' feature is very close to the average of the all other review score features. Therefore, we can just it as the aggregated data of the other 6 features and drop them, keeping only the total rating feature"
   ]
  },
  {
   "cell_type": "code",
   "execution_count": 905,
   "id": "965707a8-a151-43c8-a752-aecdff3d4d1c",
   "metadata": {},
   "outputs": [],
   "source": [
    "train = train.drop(columns = ['review_scores_accuracy' , 'review_scores_cleanliness', 'review_scores_checkin' , 'review_scores_communication' , 'review_scores_location' , 'review_scores_value'])\n",
    "test = test.drop(columns = ['review_scores_accuracy' , 'review_scores_cleanliness', 'review_scores_checkin' , 'review_scores_communication' , 'review_scores_location' , 'review_scores_value'])\n",
    "train = train.drop(['scores_average'] , axis = 1)"
   ]
  },
  {
   "cell_type": "markdown",
   "id": "e1e757a3-6b5c-457a-8ff7-e74694faa268",
   "metadata": {},
   "source": [
    "We will move on to feature selection of our categorical / numerical. Our dataset has many variables, some of which look intutively irrelevant (removed before), and some are questionable. For this purpose, we will use the stepwise regression method. In order to do so, we will first split our train data, standrize the variables and normalize our target variable as much as possible."
   ]
  },
  {
   "cell_type": "markdown",
   "id": "be1624de-e0f4-4ed0-922a-35f2b1e46d46",
   "metadata": {},
   "source": [
    "Let's have a look at the target variable"
   ]
  },
  {
   "cell_type": "code",
   "execution_count": 635,
   "id": "3f1e93d3-fd5a-4ea4-a8da-66975acc6f80",
   "metadata": {},
   "outputs": [
    {
     "data": {
      "image/png": "[encoded data removed]",
      "text/plain": [
       "<Figure size 640x480 with 1 Axes>"
      ]
     },
     "metadata": {},
     "output_type": "display_data"
    }
   ],
   "source": [
    "plt.hist(train['price'])\n",
    "plt.show()"
   ]
  },
  {
   "cell_type": "markdown",
   "id": "68816e15-a820-488b-962d-b92b7582a274",
   "metadata": {},
   "source": [
    "Our data does not look normal at all. We have a long right tail with few very expensive listings. This might be a problem for the learning of the models we will train later on.Let's try to transform it to a distribution that is closer to normal by log transform."
   ]
  },
  {
   "cell_type": "code",
   "execution_count": 636,
   "id": "f1cc8914-a130-477f-a5de-a41dca8b9e53",
   "metadata": {},
   "outputs": [
    {
     "data": {
      "image/png": "[encoded data removed]",
      "text/plain": [
       "<Figure size 640x480 with 1 Axes>"
      ]
     },
     "metadata": {},
     "output_type": "display_data"
    }
   ],
   "source": [
    "plt.hist(np.log(train['price']))\n",
    "plt.show()"
   ]
  },
  {
   "cell_type": "markdown",
   "id": "daa91832-e75b-41bf-87a7-6646207afae1",
   "metadata": {},
   "source": [
    "Looks much better! we will move on to transform our target variable to log scale. We will need to make sure to get the exponential of the prediction of our final model in order to get the prediction on the normal scale."
   ]
  },
  {
   "cell_type": "code",
   "execution_count": 906,
   "id": "76f3a074-b882-40d9-8212-8293aced66b6",
   "metadata": {},
   "outputs": [],
   "source": [
    "train['price'] = np.log(train['price'])"
   ]
  },
  {
   "cell_type": "code",
   "execution_count": 907,
   "id": "380c37c4-661d-46bd-be98-2159d5568381",
   "metadata": {},
   "outputs": [],
   "source": [
    "X1 = train.drop(['price'] , axis = 1)\n",
    "Y1 = train[['price']]\n",
    "X_train, X_val, y_train, y_val = train_test_split(X1, Y1, test_size=0.20, random_state=100)"
   ]
  },
  {
   "cell_type": "markdown",
   "id": "c2711ddf-f2fd-48d8-ad36-9e21c17858ac",
   "metadata": {},
   "source": [
    "Standardize our numerical variables - number_of_reviews ,review_score_rating, host_response_rate and price"
   ]
  },
  {
   "cell_type": "code",
   "execution_count": 908,
   "id": "c514014a-6467-4597-83ab-6d28407adaa6",
   "metadata": {},
   "outputs": [],
   "source": [
    "mean_number_reviews = X_train['number_of_reviews'].mean(axis = 0)\n",
    "std_number_reviews = X_train['number_of_reviews'].std(axis = 0)\n",
    "mean_rating = X_train['review_scores_rating'].mean(axis = 0)\n",
    "std_rating = X_train['review_scores_rating'].std(axis = 0)\n",
    "mean_listings =X_train['host_total_listings_count'].mean(axis = 0)\n",
    "std_listings = X_train['host_total_listings_count'].std(axis = 0)\n",
    "mean_price =y_train['price'].mean()\n",
    "std_price = y_train['price'].std()"
   ]
  },
  {
   "cell_type": "code",
   "execution_count": 909,
   "id": "08c3846c-7872-4874-9b25-2c5dd1c4b4cd",
   "metadata": {},
   "outputs": [],
   "source": [
    "X_train['number_of_reviews'] = (X_train['number_of_reviews'] - mean_number_reviews) / std_number_reviews\n",
    "X_train['review_scores_rating'] = (X_train['review_scores_rating'] - mean_rating) / std_rating\n",
    "X_train['host_total_listings_count'] = (X_train['host_total_listings_count'] - mean_listings) / std_listings\n",
    "y_train = (y_train - mean_price) / std_price\n",
    "\n",
    "#Scale validation set with training set mean & standard deviation\n",
    "X_val['number_of_reviews'] = (X_val['number_of_reviews'] - mean_number_reviews) / std_number_reviews\n",
    "X_val['review_scores_rating'] = (X_val['review_scores_rating'] - mean_rating) / std_rating\n",
    "X_val['host_total_listings_count'] = (X_val['host_total_listings_count'] - mean_listings) / std_listings\n",
    "y_val = (y_val - mean_price) / std_price\n",
    "\n",
    "\n"
   ]
  },
  {
   "cell_type": "markdown",
   "id": "98e589f8-4e69-4fd7-b9fc-20744541f8c5",
   "metadata": {},
   "source": [
    "Now we can move on to our stepwise regression feature selection. We will the the built-in function from the mlxtend library."
   ]
  },
  {
   "cell_type": "code",
   "execution_count": 910,
   "id": "17aef8bd-77da-411e-91e1-9ad8b04411d0",
   "metadata": {},
   "outputs": [],
   "source": [
    "X_train_dummies = pd.get_dummies(X_train, columns=[\"experiences_offered\",\"host_response_time\", 'host_is_superhost',\n",
    "       'host_has_profile_pic', 'host_identity_verified', 'neighbourhood_cleansed', 'property_type', 'room_type', 'bathrooms',  'bedrooms',\n",
    "       'beds', 'bed_type', 'guests_included' , 'cancellation_policy'])\n",
    "X_train_dummies.drop(columns = ['overview' , 'neighborhood_overview', 'transit', 'house_rules','listing_id','amenities'] , inplace = True)\n",
    "\n",
    "\n",
    "X_val_dummies = pd.get_dummies(X_train, columns=[\"experiences_offered\",\"host_response_time\", 'host_is_superhost',\n",
    "       'host_has_profile_pic', 'host_identity_verified', 'neighbourhood_cleansed', 'property_type', 'room_type', 'bathrooms',  'bedrooms',\n",
    "       'beds', 'bed_type', 'guests_included' , 'cancellation_policy'])\n",
    "X_val_dummies.drop(columns = ['overview' , 'neighborhood_overview', 'transit', 'house_rules','listing_id','amenities'] , inplace = True)\n",
    "\n"
   ]
  },
  {
   "cell_type": "code",
   "execution_count": 642,
   "id": "19c346fd-5f6a-43c7-9a5d-ccdc44dc936f",
   "metadata": {},
   "outputs": [],
   "source": [
    "lrm = LinearRegression()\n",
    "sfs = SFS(lrm, \n",
    "           k_features=(3,30), \n",
    "           forward=True, \n",
    "           floating=False, \n",
    "           scoring='neg_mean_squared_error')\n",
    "sfs = sfs.fit(X_train_dummies , y_train)"
   ]
  },
  {
   "cell_type": "code",
   "execution_count": 643,
   "id": "c8529890-8593-47ae-96c7-0032dcc95194",
   "metadata": {},
   "outputs": [
    {
     "name": "stdout",
     "output_type": "stream",
     "text": [
      "best combination (MSE: -0.359): ('host_total_listings_count', 'review_scores_rating', 'number_of_reviews', 'neighbourhood_cleansed_Camden', 'neighbourhood_cleansed_City of London', 'neighbourhood_cleansed_Croydon', 'neighbourhood_cleansed_Hackney', 'neighbourhood_cleansed_Hammersmith and Fulham', 'neighbourhood_cleansed_Islington', 'neighbourhood_cleansed_Kensington and Chelsea', 'neighbourhood_cleansed_Lambeth', 'neighbourhood_cleansed_Lewisham', 'neighbourhood_cleansed_Richmond upon Thames', 'neighbourhood_cleansed_Southwark', 'neighbourhood_cleansed_Tower Hamlets', 'neighbourhood_cleansed_Waltham Forest', 'neighbourhood_cleansed_Wandsworth', 'neighbourhood_cleansed_Westminster', 'property_type_Boutique hotel', 'property_type_Hostel', 'property_type_Hotel', 'room_type_Entire home/apt', 'room_type_Hotel room', 'bathrooms_2.0', 'bedrooms_0.0', 'bedrooms_1.0', 'bedrooms_2.0', 'bedrooms_3.0', 'beds_1.0', 'guests_included_1.0')\n",
      "\n"
     ]
    }
   ],
   "source": [
    "print('best combination (MSE: %.3f): %s\\n' % (sfs.k_score_, sfs.k_feature_names_))"
   ]
  },
  {
   "cell_type": "markdown",
   "id": "a8a458f1-b6fb-4859-b3e9-0ef7e5b723bc",
   "metadata": {},
   "source": [
    "As expected the neighbourhood variable takes most of the chosen features, as it is valuable and has many different categories. We can also see that 'host_total_listings_count', 'review_scores_rating', 'number_of_reviews' and some categories from 'property_type', 'room_type' ,'bathrooms', 'bedrooms', 'beds' ,'guests_included' are selected.\n",
    "To verify, we can rerun the model without the neighbourhood category and check if our results change significantly."
   ]
  },
  {
   "cell_type": "code",
   "execution_count": 644,
   "id": "f95eab2c-ce5a-45e0-871c-6d3de37f3ccd",
   "metadata": {},
   "outputs": [],
   "source": [
    "X_train_dummies2 = pd.get_dummies(X_train, columns=[\"experiences_offered\",\"host_response_time\", 'host_is_superhost',\n",
    "       'host_has_profile_pic', 'host_identity_verified', 'property_type', 'room_type', 'bathrooms',  'bedrooms',\n",
    "       'beds', 'bed_type', 'guests_included' , 'cancellation_policy'])\n",
    "X_train_dummies2 .drop(columns = ['neighbourhood_cleansed', 'overview' ,'neighborhood_overview', 'transit', 'house_rules','listing_id','amenities'] , inplace = True)\n"
   ]
  },
  {
   "cell_type": "code",
   "execution_count": 645,
   "id": "d775b422-0451-4f54-a194-2c0d6a8f05a2",
   "metadata": {},
   "outputs": [],
   "source": [
    "lrm = LinearRegression()\n",
    "sfs2 = SFS(lrm, \n",
    "           k_features=(3,10), \n",
    "           forward=True, \n",
    "           floating=False, \n",
    "           scoring='neg_mean_squared_error')\n",
    "sfs2 = sfs.fit(X_train_dummies2 , y_train)"
   ]
  },
  {
   "cell_type": "code",
   "execution_count": 646,
   "id": "489e4ab4-7c6f-4d2a-9181-046784fba02e",
   "metadata": {},
   "outputs": [
    {
     "name": "stdout",
     "output_type": "stream",
     "text": [
      "best combination (MSE: -0.408): ('host_total_listings_count', 'review_scores_rating', 'number_of_reviews', 'host_response_time_within a day', 'property_type_Boutique hotel', 'property_type_Hostel', 'property_type_Hotel', 'property_type_House', 'property_type_Serviced apartment', 'property_type_Townhouse', 'room_type_Entire home/apt', 'room_type_Hotel room', 'room_type_Shared room', 'bathrooms_2.0', 'bathrooms_2.5', 'bathrooms_3.0', 'bathrooms_3.5', 'bathrooms_4.0', 'bathrooms_4.5', 'bedrooms_0.0', 'bedrooms_1.0', 'bedrooms_2.0', 'bedrooms_3.0', 'beds_0.0', 'beds_1.0', 'beds_2.0', 'guests_included_1.0', 'cancellation_policy_strict_14_with_grace_period', 'cancellation_policy_super_strict_30', 'cancellation_policy_super_strict_60')\n",
      "\n"
     ]
    }
   ],
   "source": [
    "print('best combination (MSE: %.3f): %s\\n' % (sfs2.k_score_, sfs2.k_feature_names_))"
   ]
  },
  {
   "cell_type": "markdown",
   "id": "31527a13-fd9d-4757-824a-9e8e3a0689a9",
   "metadata": {},
   "source": [
    "We get a pretty much similar result. These results also go hand in hand with our intuition (e.g variables such has 'host_has_profile_pic' probably doesn't affect the price much). We will proceed from now with the above mentioned variables, and drop some more redundant variable:\n",
    "'experiences_offered','host_response_time','host_response_rate', 'host_is_superhost','host_has_profile_pic', 'host_identity_verified', 'cancellation_policy'\n",
    "\n",
    "With beds and bedrooms both selected, we can also keep only one of the two as they are stronly correlated."
   ]
  },
  {
   "cell_type": "code",
   "execution_count": 647,
   "id": "3b64ef42-567f-4b8a-ae02-493588837950",
   "metadata": {
    "tags": []
   },
   "outputs": [
    {
     "data": {
      "text/plain": [
       "0.706357777850045"
      ]
     },
     "execution_count": 647,
     "metadata": {},
     "output_type": "execute_result"
    }
   ],
   "source": [
    "train['bedrooms'].corr(train['beds'])"
   ]
  },
  {
   "cell_type": "code",
   "execution_count": 911,
   "id": "79b91f2b-7811-4247-86c7-89ae5b265219",
   "metadata": {},
   "outputs": [],
   "source": [
    "X_train_filtered = X_train.copy().drop(columns = ['experiences_offered','host_response_time','host_response_rate', 'host_is_superhost',\n",
    "                        'host_has_profile_pic', 'host_identity_verified', 'cancellation_policy','bed_type','beds'])\n",
    "X_val_filtered = X_val.copy().drop(columns = ['experiences_offered','host_response_time','host_response_rate', 'host_is_superhost',\n",
    "                        'host_has_profile_pic', 'host_identity_verified', 'cancellation_policy','bed_type','beds'])"
   ]
  },
  {
   "cell_type": "markdown",
   "id": "a91ad8d0-26e8-447c-a5e6-b7e6f84ba962",
   "metadata": {},
   "source": [
    "___\n",
    "\n",
    "## 5. Bencmark Models"
   ]
  },
  {
   "cell_type": "markdown",
   "id": "386b7d3a-dbe7-44ae-ae22-fc4724a3f4e1",
   "metadata": {},
   "source": [
    "---\n",
    "\n",
    "### 5.1 Data preparation"
   ]
  },
  {
   "cell_type": "markdown",
   "id": "3a13e333-5a98-4f7a-859a-00616e02a8f1",
   "metadata": {},
   "source": [
    "#### 5.1.1 Categorical variables preparation"
   ]
  },
  {
   "cell_type": "markdown",
   "id": "f91f0eb0-6fdc-4b9d-b388-e348f12d487f",
   "metadata": {},
   "source": [
    "Before we can implement our benchmark models, we will need to pre-process our data so it's in the right form for model fitting. Models such as the linear regression and random forest require dummy variables. As we have many categories, we will consolidate some features's categories to reduce the number of dummy variables."
   ]
  },
  {
   "cell_type": "code",
   "execution_count": 649,
   "id": "1e46f2f5-6d42-42c2-ba95-8a68971df492",
   "metadata": {},
   "outputs": [
    {
     "name": "stdout",
     "output_type": "stream",
     "text": [
      "Number of dummy variable before cleaning: 119\n"
     ]
    }
   ],
   "source": [
    "print(\"Number of dummy variables before cleaning: {}\".format(len(X_train_filtered['bedrooms'].cat.categories) + len(X_train_filtered['bathrooms'].cat.categories) + len(X_train_filtered['guests_included'].cat.categories) +\n",
    "       len(X_train_filtered['property_type'].cat.categories) + len(X_train_filtered['neighbourhood_cleansed'].cat.categories)))"
   ]
  },
  {
   "cell_type": "code",
   "execution_count": 838,
   "id": "7a812a63-46d4-4daf-9909-c9423fb28101",
   "metadata": {},
   "outputs": [
    {
     "data": {
      "image/png": "[encoded data removed]",
      "text/plain": [
       "<Figure size 2000x2500 with 4 Axes>"
      ]
     },
     "metadata": {},
     "output_type": "display_data"
    }
   ],
   "source": [
    "fig,ax = plt.subplots(4, figsize=(20,25))\n",
    "\n",
    "X_train_filtered['bedrooms'].value_counts().plot(kind = \"bar\", ax=ax[0]).set_title(\"Bedrooms frequency\")\n",
    "\n",
    "X_train_filtered['bathrooms'].value_counts(normalize= True).plot(kind = \"bar\" , ax = ax[1]).set_title(\"Bathrooms frequency\")\n",
    "\n",
    "X_train_filtered['guests_included'].value_counts(normalize= True).plot(kind = \"bar\" , ax = ax[2]).set_title(\"Guests_included frequency\")\n",
    "\n",
    "X_train_filtered['property_type'].value_counts(normalize= True).plot(kind = \"bar\" , ax = ax[3]).set_title(\"Property_type frequency\")\n",
    "\n",
    "plt.show()"
   ]
  },
  {
   "cell_type": "code",
   "execution_count": 912,
   "id": "5d55e66f-6914-44e5-ba17-359381e50ef0",
   "metadata": {},
   "outputs": [],
   "source": [
    "X_train_filtered['bedrooms'] = X_train_filtered['bedrooms'].replace({5.0 : \"5.0+\" , 6.0 : \"5.0+\", 7.0  : \"5.0+\" , 8.0  : \"5.0+\", 9.0  : \"5.0+\" , 11.0 : \"5.0+\",19.0 : \"5.0+\"})\n",
    "X_train_filtered['bathrooms'] = X_train_filtered['bathrooms'].replace({0.0 : 1.0 , 0.5 : 1.0 , 3.5 : \"3.5+\" , 4.0 : \"3.5+\", 4.5 : \"3.5+\" , 5.0 : \"3.5+\" , 5.5 : \"3.5+\" , 6.0 : \"3.5+\",\n",
    "                                                                       6.5 : \"3.5+\", 7.0 : \"3.5+\", 7.5 : \"3.5+\" , 8.0 : \"3.5+\", 8.5 : \"3.5+\", 10.0 : \"3.5+\" , 11.0 : \"3.5+\"})\n",
    "X_train_filtered['guests_included'] = X_train_filtered['guests_included'].replace({7.0 : \"7.0+\" , 8.0 : \"7.0+\" , 8.0 : \"7.0+\", 9.0 : \"7.0+\", 10.0 : \"7.0+\" , 11.0 : \"7.0+\" , \n",
    "                                                                                   12.0 : \"7.0+\" , 14.0 : \"7.0+\", 15.0 : \"7.0+\" , 16.0 : \"7.0+\" , 46.0 : \"7.0+\"})                                                                                                                                      \n",
    "categories_to_keep = ['Apartment', 'House' , 'Townhouse' , 'Condominium' , 'Serviced apartment']\n",
    "X_train_filtered['property_type'] = X_train_filtered['property_type'].where(X_train_filtered['property_type'].isin(categories_to_keep), 'Other')\n",
    "X_train_filtered['property_type'] = pd.Categorical(X_train_filtered['property_type'] , categories=categories_to_keep + ['Other'])\n",
    "\n",
    "\n",
    "\n",
    "X_val_filtered['bedrooms'] = X_val_filtered['bedrooms'].replace({5.0 : \"5.0+\" , 6.0 : \"5.0+\", 7.0  : \"5.0+\" , 8.0  : \"5.0+\", 9.0  : \"5.0+\" , 11.0 : \"5.0+\",19.0 : \"5.0+\"})                                                                       \n",
    "X_val_filtered['bathrooms'] = X_val_filtered['bathrooms'].replace({0.0 : 1.0 , 0.5 : 1.0 , 3.5 : \"3.5+\" , 4.0 : \"3.5+\", 4.5 : \"3.5+\" , 5.0 : \"3.5+\" , 5.5 : \"3.5+\" , 6.0 : \"3.5+\",\n",
    "                                                                    6.5 : \"3.5+\", 7.0 : \"3.5+\", 7.5 : \"3.5+\" , 8.0 : \"3.5+\", 8.5 : \"3.5+\", 10.0 : \"3.5+\" , 11.0 : \"3.5+\"})\n",
    "X_val_filtered['guests_included'] = X_val_filtered['guests_included'].replace({7.0 : \"7.0+\" , 8.0 : \"7.0+\" , 8.0 : \"7.0+\", 9.0 : \"7.0+\", 10.0 : \"7.0+\" , 11.0 : \"7.0+\" ,\n",
    "                                                                               12.0 : \"7.0+\" , 14.0 : \"7.0+\", 15.0 : \"7.0+\" , 16.0 : \"7.0+\" , 46.0 : \"7.0+\"})\n",
    "X_val_filtered['property_type'] = X_val_filtered['property_type'].where(X_val_filtered['property_type'].isin(categories_to_keep), 'Other')\n",
    "X_val_filtered['property_type'] = pd.Categorical(X_val_filtered['property_type'] , categories=categories_to_keep + ['Other'])\n"
   ]
  },
  {
   "cell_type": "markdown",
   "id": "fd2c7730-0836-4570-8831-9190f57ad60f",
   "metadata": {},
   "source": [
    "The feature 'room_type' has only 4 categories, so we will leave it as it is."
   ]
  },
  {
   "cell_type": "code",
   "execution_count": null,
   "id": "6ceb4704-fba1-463d-a2f1-93d65a07a74a",
   "metadata": {},
   "outputs": [
    {
     "data": {
      "text/plain": [
       "Entire home/apt    24463\n",
       "Private room       19003\n",
       "Hotel room           426\n",
       "Shared room          335\n",
       "Name: room_type, dtype: int64"
      ]
     },
     "execution_count": 1130,
     "metadata": {},
     "output_type": "execute_result"
    }
   ],
   "source": [
    "X_train_filtered['room_type'].value_counts()"
   ]
  },
  {
   "cell_type": "markdown",
   "id": "38b1ba6f-e54b-493c-85f4-981504e6310a",
   "metadata": {},
   "source": [
    "With neighbourhoods, we have a large number of categories, but unlike our other categorical variables, this variable is not ordinal. Therefore we will group the different neighbourhoods based on their average listing price"
   ]
  },
  {
   "cell_type": "code",
   "execution_count": 913,
   "id": "048f717c-b6a1-4d4e-9e76-5c17582adb70",
   "metadata": {},
   "outputs": [
    {
     "data": {
      "text/html": [
       "<div>\n",
       "<style scoped>\n",
       "    .dataframe tbody tr th:only-of-type {\n",
       "        vertical-align: middle;\n",
       "    }\n",
       "\n",
       "    .dataframe tbody tr th {\n",
       "        vertical-align: top;\n",
       "    }\n",
       "\n",
       "    .dataframe thead th {\n",
       "        text-align: right;\n",
       "    }\n",
       "</style>\n",
       "<table border=\"1\" class=\"dataframe\">\n",
       "  <thead>\n",
       "    <tr style=\"text-align: right;\">\n",
       "      <th></th>\n",
       "      <th>neighbourhood_cleansed</th>\n",
       "      <th>price</th>\n",
       "    </tr>\n",
       "  </thead>\n",
       "  <tbody>\n",
       "    <tr>\n",
       "      <th>25</th>\n",
       "      <td>Redbridge</td>\n",
       "      <td>46.723799</td>\n",
       "    </tr>\n",
       "    <tr>\n",
       "      <th>2</th>\n",
       "      <td>Bexley</td>\n",
       "      <td>47.134813</td>\n",
       "    </tr>\n",
       "    <tr>\n",
       "      <th>7</th>\n",
       "      <td>Croydon</td>\n",
       "      <td>47.544698</td>\n",
       "    </tr>\n",
       "    <tr>\n",
       "      <th>0</th>\n",
       "      <td>Barking and Dagenham</td>\n",
       "      <td>48.480091</td>\n",
       "    </tr>\n",
       "    <tr>\n",
       "      <th>28</th>\n",
       "      <td>Sutton</td>\n",
       "      <td>49.106322</td>\n",
       "    </tr>\n",
       "    <tr>\n",
       "      <th>14</th>\n",
       "      <td>Harrow</td>\n",
       "      <td>51.743335</td>\n",
       "    </tr>\n",
       "    <tr>\n",
       "      <th>16</th>\n",
       "      <td>Hillingdon</td>\n",
       "      <td>51.926534</td>\n",
       "    </tr>\n",
       "    <tr>\n",
       "      <th>4</th>\n",
       "      <td>Bromley</td>\n",
       "      <td>52.352494</td>\n",
       "    </tr>\n",
       "    <tr>\n",
       "      <th>9</th>\n",
       "      <td>Enfield</td>\n",
       "      <td>52.735789</td>\n",
       "    </tr>\n",
       "    <tr>\n",
       "      <th>15</th>\n",
       "      <td>Havering</td>\n",
       "      <td>53.044536</td>\n",
       "    </tr>\n",
       "    <tr>\n",
       "      <th>30</th>\n",
       "      <td>Waltham Forest</td>\n",
       "      <td>53.116819</td>\n",
       "    </tr>\n",
       "    <tr>\n",
       "      <th>22</th>\n",
       "      <td>Lewisham</td>\n",
       "      <td>53.198602</td>\n",
       "    </tr>\n",
       "    <tr>\n",
       "      <th>13</th>\n",
       "      <td>Haringey</td>\n",
       "      <td>58.667229</td>\n",
       "    </tr>\n",
       "    <tr>\n",
       "      <th>8</th>\n",
       "      <td>Ealing</td>\n",
       "      <td>59.495249</td>\n",
       "    </tr>\n",
       "    <tr>\n",
       "      <th>24</th>\n",
       "      <td>Newham</td>\n",
       "      <td>59.775951</td>\n",
       "    </tr>\n",
       "    <tr>\n",
       "      <th>1</th>\n",
       "      <td>Barnet</td>\n",
       "      <td>60.418821</td>\n",
       "    </tr>\n",
       "    <tr>\n",
       "      <th>20</th>\n",
       "      <td>Kingston upon Thames</td>\n",
       "      <td>61.754813</td>\n",
       "    </tr>\n",
       "    <tr>\n",
       "      <th>10</th>\n",
       "      <td>Greenwich</td>\n",
       "      <td>64.703115</td>\n",
       "    </tr>\n",
       "    <tr>\n",
       "      <th>3</th>\n",
       "      <td>Brent</td>\n",
       "      <td>65.376876</td>\n",
       "    </tr>\n",
       "    <tr>\n",
       "      <th>17</th>\n",
       "      <td>Hounslow</td>\n",
       "      <td>68.315848</td>\n",
       "    </tr>\n",
       "    <tr>\n",
       "      <th>23</th>\n",
       "      <td>Merton</td>\n",
       "      <td>69.348477</td>\n",
       "    </tr>\n",
       "    <tr>\n",
       "      <th>29</th>\n",
       "      <td>Tower Hamlets</td>\n",
       "      <td>70.255869</td>\n",
       "    </tr>\n",
       "    <tr>\n",
       "      <th>11</th>\n",
       "      <td>Hackney</td>\n",
       "      <td>71.687269</td>\n",
       "    </tr>\n",
       "    <tr>\n",
       "      <th>21</th>\n",
       "      <td>Lambeth</td>\n",
       "      <td>72.784295</td>\n",
       "    </tr>\n",
       "    <tr>\n",
       "      <th>27</th>\n",
       "      <td>Southwark</td>\n",
       "      <td>76.113181</td>\n",
       "    </tr>\n",
       "    <tr>\n",
       "      <th>31</th>\n",
       "      <td>Wandsworth</td>\n",
       "      <td>86.872958</td>\n",
       "    </tr>\n",
       "    <tr>\n",
       "      <th>18</th>\n",
       "      <td>Islington</td>\n",
       "      <td>87.084545</td>\n",
       "    </tr>\n",
       "    <tr>\n",
       "      <th>26</th>\n",
       "      <td>Richmond upon Thames</td>\n",
       "      <td>87.986243</td>\n",
       "    </tr>\n",
       "    <tr>\n",
       "      <th>12</th>\n",
       "      <td>Hammersmith and Fulham</td>\n",
       "      <td>90.763704</td>\n",
       "    </tr>\n",
       "    <tr>\n",
       "      <th>5</th>\n",
       "      <td>Camden</td>\n",
       "      <td>103.142542</td>\n",
       "    </tr>\n",
       "    <tr>\n",
       "      <th>32</th>\n",
       "      <td>Westminster</td>\n",
       "      <td>128.787718</td>\n",
       "    </tr>\n",
       "    <tr>\n",
       "      <th>19</th>\n",
       "      <td>Kensington and Chelsea</td>\n",
       "      <td>136.126982</td>\n",
       "    </tr>\n",
       "    <tr>\n",
       "      <th>6</th>\n",
       "      <td>City of London</td>\n",
       "      <td>142.117792</td>\n",
       "    </tr>\n",
       "  </tbody>\n",
       "</table>\n",
       "</div>"
      ],
      "text/plain": [
       "    neighbourhood_cleansed       price\n",
       "25               Redbridge   46.723799\n",
       "2                   Bexley   47.134813\n",
       "7                  Croydon   47.544698\n",
       "0     Barking and Dagenham   48.480091\n",
       "28                  Sutton   49.106322\n",
       "14                  Harrow   51.743335\n",
       "16              Hillingdon   51.926534\n",
       "4                  Bromley   52.352494\n",
       "9                  Enfield   52.735789\n",
       "15                Havering   53.044536\n",
       "30          Waltham Forest   53.116819\n",
       "22                Lewisham   53.198602\n",
       "13                Haringey   58.667229\n",
       "8                   Ealing   59.495249\n",
       "24                  Newham   59.775951\n",
       "1                   Barnet   60.418821\n",
       "20    Kingston upon Thames   61.754813\n",
       "10               Greenwich   64.703115\n",
       "3                    Brent   65.376876\n",
       "17                Hounslow   68.315848\n",
       "23                  Merton   69.348477\n",
       "29           Tower Hamlets   70.255869\n",
       "11                 Hackney   71.687269\n",
       "21                 Lambeth   72.784295\n",
       "27               Southwark   76.113181\n",
       "31              Wandsworth   86.872958\n",
       "18               Islington   87.084545\n",
       "26    Richmond upon Thames   87.986243\n",
       "12  Hammersmith and Fulham   90.763704\n",
       "5                   Camden  103.142542\n",
       "32             Westminster  128.787718\n",
       "19  Kensington and Chelsea  136.126982\n",
       "6           City of London  142.117792"
      ]
     },
     "execution_count": 913,
     "metadata": {},
     "output_type": "execute_result"
    }
   ],
   "source": [
    "neighbourhoods = train.groupby(\"neighbourhood_cleansed\")[\"price\"].mean().reset_index()\n",
    "neighbourhoods = neighbourhoods.sort_values(by='price', ascending=True)\n",
    "neighbourhoods['price'] = np.exp(neighbourhoods['price'])\n",
    "neighbourhoods"
   ]
  },
  {
   "cell_type": "code",
   "execution_count": 914,
   "id": "346949e7-823b-4d80-8268-781e7caed54a",
   "metadata": {},
   "outputs": [],
   "source": [
    "X_train_filtered['neighbourhood_cleansed'] = X_train_filtered['neighbourhood_cleansed'].replace({'City of London' : \"City Center\" , \"Kensington and Chelsea\" : \"City Center\", \"Westminster\" : \"City Center\", \"Hammersmith and Fulham\"  : \"Fulham or similar\", \"Camden\" : \"Fulham or similar\" , \"Richmond or Thames\" : \"Fulham or similar\" , \n",
    "                                                                                   \"Islington\" : \"Fulham or similar\" , \"Wandsworth\" : \"Fulham or similar\", \"Southwark\" : \"Hackney or similar\" , \"Lambeth\" : \"Hackney or similar\" , \"Hackney\" : \"Hackney or similar\", \"Tower Hamlets\" : \"Hackney or similar\", \"Merton\" :\"Hackney or similar\",\n",
    "                                                                                                \"Hounslow\" : \"Hackney or similar\", \"Brent\" : \"Newham or similar\" , \"Greenwich\" : \"Newham or similar\", \"Kingston upon Thames\" : \"Newham or similar\", \"Barnet\" : \"Newham or similar\", \"Newham\" : \"Newham or similar\", \"Ealing\" : \"Newham or similar\", \"Haringey\" : \"Newham or similar\",\n",
    "                                                                                                \"Lewisham\" : \"Sutton or similar\", \"Waltham Forest\" : \"Sutton or similar\", \"Havering\" : \"Sutton or similar\", \"Enfield\" : \"Sutton or similar\", \"Bromley\" : \"Sutton or similar\", \"Hillingdon\" :  \"Sutton or similar\", \"Harrow\" : \"Sutton or similar\" , \"Sutton\" : \"Sutton or similar\", \"Barking and Dagenham\" : \"Sutton or similar\",\n",
    "                                                                                                \"Croydon\" : \"Sutton or similar\" , \"Bexley\" : \"Sutton or similar\", \"Redbridge\" : \"Sutton or similar\"})\n",
    "X_val_filtered['neighbourhood_cleansed'] = X_val_filtered['neighbourhood_cleansed'].replace({'City of London' : \"City Center\" , \"Kensington and Chelsea\" : \"City Center\", \"Westminster\" : \"City Center\", \"Hammersmith and Fulham\"  : \"Fulham or similar\", \"Camden\" : \"Fulham or similar\" , \"Richmond or Thames\" : \"Fulham or similar\" , \n",
    "                                                                                   \"Islington\" : \"Fulham or similar\" , \"Wandsworth\" : \"Fulham or similar\", \"Southwark\" : \"Hackney or similar\" , \"Lambeth\" : \"Hackney or similar\" , \"Hackney\" : \"Hackney or similar\", \"Tower Hamlets\" : \"Hackney or similar\", \"Merton\" :\"Hackney or similar\",\n",
    "                                                                                                \"Hounslow\" : \"Hackney or similar\", \"Brent\" : \"Newham or similar\" , \"Greenwich\" : \"Newham or similar\", \"Kingston upon Thames\" : \"Newham or similar\", \"Barnet\" : \"Newham or similar\", \"Newham\" : \"Newham or similar\", \"Ealing\" : \"Newham or similar\", \"Haringey\" : \"Newham or similar\",\n",
    "                                                                                                \"Lewisham\" : \"Sutton or similar\", \"Waltham Forest\" : \"Sutton or similar\", \"Havering\" : \"Sutton or similar\", \"Enfield\" : \"Sutton or similar\", \"Bromley\" : \"Sutton or similar\", \"Hillingdon\" :  \"Sutton or similar\", \"Harrow\" : \"Sutton or similar\" , \"Sutton\" : \"Sutton or similar\", \"Barking and Dagenham\" : \"Sutton or similar\",\n",
    "                                                                                                \"Croydon\" : \"Sutton or similar\" , \"Bexley\" : \"Sutton or similar\", \"Redbridge\" : \"Sutton or similar\"})"
   ]
  },
  {
   "cell_type": "code",
   "execution_count": 654,
   "id": "b096f26b-f67f-4228-b9ee-2f9f4a4c6a17",
   "metadata": {},
   "outputs": [
    {
     "name": "stdout",
     "output_type": "stream",
     "text": [
      "Number of dummy variable after cleaning: 31\n"
     ]
    }
   ],
   "source": [
    "print(\"Number of dummy variables after cleaning: {}\".format(len(X_train_filtered['bedrooms'].cat.categories) + len(X_train_filtered['bathrooms'].cat.categories) + len(X_train_filtered['guests_included'].cat.categories) +\n",
    "       len(X_train_filtered['property_type'].cat.categories) + len(X_train_filtered['neighbourhood_cleansed'].cat.categories)))"
   ]
  },
  {
   "cell_type": "code",
   "execution_count": 915,
   "id": "571c093f-4f05-4e1b-ab36-5f17c1606aa0",
   "metadata": {},
   "outputs": [],
   "source": [
    "X_train_dummies = pd.get_dummies(X_train_filtered, columns =  ['property_type', 'room_type', 'bathrooms',  'bedrooms', 'guests_included', 'neighbourhood_cleansed'])\n",
    "X_train_dummies.drop(columns = ['overview', 'neighborhood_overview', 'transit', 'house_rules','listing_id','amenities'] , inplace = True)\n",
    "X_val_dummies = pd.get_dummies(X_val_filtered, columns =  ['property_type', 'room_type', 'bathrooms',  'bedrooms', 'guests_included', 'neighbourhood_cleansed'])\n",
    "X_val_dummies.drop(columns = ['overview', 'neighborhood_overview', 'transit', 'house_rules','listing_id','amenities'] , inplace = True)"
   ]
  },
  {
   "cell_type": "markdown",
   "id": "fc1f6b13-ee13-40e3-9028-24abddd69901",
   "metadata": {},
   "source": [
    "#### 5.1.2 Text variables preparation"
   ]
  },
  {
   "cell_type": "markdown",
   "id": "39f21e88-61c6-466a-90fd-2f3f5e430fce",
   "metadata": {},
   "source": [
    "As we will create a different vocabulary and layer for each feature, we will try to limit the number of our text features. \n",
    "Transit, house_rules and neighbourhood all have a very large number of missing values - almost half of our train set.\n",
    "This will make it hard for our models to effecively use the prediction power of these features.\n",
    "Neighbourhood overview can be partly modeled by our neighbourhood categorical variable. Also, the importance of transit and house rules, based on our prior knowledge, is not the highest. Due to these reasons, we will leave out these features."
   ]
  },
  {
   "cell_type": "code",
   "execution_count": 1155,
   "id": "c7b5bd25-51f3-4452-ba0f-2ea1e764ae56",
   "metadata": {},
   "outputs": [
    {
     "name": "stdout",
     "output_type": "stream",
     "text": [
      "Overview vocab length : 28230 , Overview mean length : 118.00612747868949\n"
     ]
    }
   ],
   "source": [
    "# Tokenize overview variable and pad based on the data. \n",
    "# Also, we extract the vocab length of the feature to get an idea of its size, in order to use it later \n",
    "tokenizer_overview = Tokenizer(oov_token=1)\n",
    "tokenizer_overview.fit_on_texts(X_train['overview'])\n",
    "overview_vocab = len(tokenizer_overview.word_index) + 1\n",
    "X_tr_overview = tokenizer_overview.texts_to_sequences(X_train['overview'])\n",
    "mean_overview_length = np.mean([len(overview) for overview in X_tr_overview])\n",
    "\n",
    "print (\"Overview vocab length : {} , Overview mean length : {}\".format(overview_vocab , mean_overview_length))\n",
    "max_overview_length = 300\n",
    "X_tr_overview = pad_sequences(X_tr_overview, max_overview_length)\n",
    "\n",
    "#Do the same for the validation set\n",
    "X_val_overview = tokenizer_overview.texts_to_sequences(X_val['overview'])\n",
    "X_val_overview = pad_sequences(X_val_overview, max_overview_length)"
   ]
  },
  {
   "cell_type": "code",
   "execution_count": 917,
   "id": "84c641b6-4917-4ddb-8e8d-6b40b2e9452b",
   "metadata": {},
   "outputs": [
    {
     "name": "stdout",
     "output_type": "stream",
     "text": [
      "Amenities vocab length : 274 , Amenities mean length : 34.15838741040541\n"
     ]
    }
   ],
   "source": [
    "# Tokenize amenities variable and pad based on the data. \n",
    "# Also, we extract the vocab length of the feature to get an idea of its size, in order to use it later \n",
    "tokenizer_amenities = Tokenizer(oov_token=1)\n",
    "tokenizer_amenities.fit_on_texts(X_train['amenities'])\n",
    "amenities_vocab = len(tokenizer_amenities.word_index) + 1\n",
    "X_tr_amenities = tokenizer_amenities.texts_to_sequences(X_train['amenities'])\n",
    "mean_amenities_length = np.mean([len(amenities) for amenities in X_tr_amenities])\n",
    "\n",
    "print (\"Amenities vocab length : {} , Amenities mean length : {}\".format(amenities_vocab , mean_amenities_length))\n",
    "max_amenities_length = 70\n",
    "X_tr_amenities = pad_sequences(X_tr_amenities, max_amenities_length)\n",
    "\n",
    "#Do the same for the validation set\n",
    "X_val_amenities = tokenizer_amenities.texts_to_sequences(X_val['amenities'])\n",
    "X_val_amenities = pad_sequences(X_val_amenities, max_amenities_length)"
   ]
  },
  {
   "cell_type": "code",
   "execution_count": 918,
   "id": "4d3314c3-d113-4e90-83e8-4eb88ef2e8cf",
   "metadata": {},
   "outputs": [],
   "source": [
    "X_tr_overview = np.array(X_tr_overview)\n",
    "X_tr_amenities = np.array(X_tr_amenities)\n",
    "\n",
    "X_val_overview = np.array(X_val_overview)\n",
    "X_val_amenities = np.array(X_val_amenities)"
   ]
  },
  {
   "cell_type": "markdown",
   "id": "2344417c-d33c-4537-83ea-be78a703d60f",
   "metadata": {},
   "source": [
    "---\n",
    "\n",
    "### 5.2 Linear Regression"
   ]
  },
  {
   "cell_type": "code",
   "execution_count": 919,
   "id": "1c88c36e-edc6-436d-bbf8-b26551937b66",
   "metadata": {},
   "outputs": [
    {
     "name": "stdout",
     "output_type": "stream",
     "text": [
      "R2: 0.6413199798860323\n",
      "RMSE: 56.82902768754766\n",
      "MAE: 33.11293557881678\n"
     ]
    }
   ],
   "source": [
    "regression = LinearRegression()\n",
    "regression.fit(X_train_dummies, y_train)\n",
    "\n",
    "\n",
    "regression_predictions = pd.DataFrame({\"predictions\": np.ravel(regression.predict(X_val_dummies)), \"actual\": y_val['price']})\n",
    "\n",
    "\n",
    "regression_predictions['predictions'] = (regression_predictions['predictions'] * std_price) + mean_price\n",
    "regression_predictions['actual'] = (regression_predictions['actual'] * std_price) + mean_price\n",
    "regression_predictions['predictions'] = np.exp(regression_predictions['predictions'])\n",
    "regression_predictions['actual'] = np.exp(regression_predictions['actual'])\n",
    "\n",
    "print(\"R2: {}\".format(regression.score(X_val_dummies, y_val['price'])))\n",
    "print(\"RMSE: {}\".format(np.sqrt(mean_squared_error(regression_predictions.actual, regression_predictions.predictions))))\n",
    "print(\"MAE: {}\".format(mean_absolute_error(regression_predictions.actual, regression_predictions.predictions)))\n",
    "\n"
   ]
  },
  {
   "cell_type": "markdown",
   "id": "e4b85b1c-af1a-4a67-ada5-95e47ddf1b15",
   "metadata": {},
   "source": [
    "Our linear regression model's results are not too good but not completely off. Only 64% of the variance in the target variable is explained by the model. We have many categorical variables and potentially non-linear relationship between the some features and the dependent variable (e.g number of reviews will have a positive effect if the reviews rating is high, otherwise a high number of bad reviews might actually cause a lower price, hence a non-linear relationship). Therefore, we can expect other models such as decision trees to get better results"
   ]
  },
  {
   "cell_type": "markdown",
   "id": "5dbbb475-9bc9-4478-ab6d-879e3219bddb",
   "metadata": {},
   "source": [
    "---\n",
    "\n",
    "### 5.3 Random Forest"
   ]
  },
  {
   "cell_type": "markdown",
   "id": "1c3262a3-6d5e-4a1b-b8d4-2ad3d12a2a01",
   "metadata": {},
   "source": [
    "We will start by tunning our hyperparameters using a grid search method, and then build a random forest using the chosen parameters."
   ]
  },
  {
   "cell_type": "code",
   "execution_count": null,
   "id": "36d8ae68-f8d0-449a-95c0-11a5674cba1e",
   "metadata": {},
   "outputs": [],
   "source": [
    "rf_gs = RandomForestRegressor(max_samples = 0.5, random_state=100, verbose=0)\n",
    "rf_param_grid = {'n_estimators': [100, 200, 500],\n",
    "              'max_features': [10, 15, 20 , 25] ,\n",
    "              'max_depth' : [5 , 7 , 10 , 12]\n",
    "             }\n",
    "gs_rf = GridSearchCV(rf_gs, rf_param_grid, cv=5, scoring='neg_mean_squared_error', verbose=0)\n",
    "gs_rf.fit(X_train_dummies, np.ravel(y_train))"
   ]
  },
  {
   "cell_type": "code",
   "execution_count": 663,
   "id": "1d7a7168-b5cf-408e-a4ad-7fd5ad43dc65",
   "metadata": {},
   "outputs": [
    {
     "name": "stdout",
     "output_type": "stream",
     "text": [
      "{'max_depth': 12, 'max_features': 20, 'n_estimators': 500}\n"
     ]
    }
   ],
   "source": [
    "print(gs_rf.best_params_)"
   ]
  },
  {
   "cell_type": "code",
   "execution_count": 664,
   "id": "9efb9f77-87a9-4a3b-a0e6-5f975f98c6fa",
   "metadata": {},
   "outputs": [
    {
     "name": "stdout",
     "output_type": "stream",
     "text": [
      "RMSE on training set: 48.94506327279803\n",
      "MAE on training set: 28.872253813833346\n",
      "RMSE on validation set: 52.99774096690072\n",
      "MAE on validation set: 30.83881566099993\n"
     ]
    }
   ],
   "source": [
    "rf_predictions = pd.DataFrame({\"predictions\": gs_rf.predict(X_val_dummies), \"actual\": y_val['price']})\n",
    "rf_predictions['predictions'] = (rf_predictions['predictions'] * std_price) + mean_price\n",
    "rf_predictions['actual'] = (rf_predictions['actual'] * std_price) + mean_price\n",
    "rf_predictions['predictions'] = np.exp(rf_predictions['predictions'])\n",
    "rf_predictions['actual'] = np.exp(rf_predictions['actual'])\n",
    "\n",
    "\n",
    "rf_predictions2 = pd.DataFrame({\"predictions\": gs_rf.predict(X_train_dummies), \"actual\": y_train['price']})\n",
    "rf_predictions2['predictions'] = (rf_predictions2['predictions'] * std_price) + mean_price\n",
    "rf_predictions2['actual'] = (rf_predictions2['actual'] * std_price) + mean_price\n",
    "rf_predictions2['predictions'] = np.exp(rf_predictions2['predictions'])\n",
    "rf_predictions2['actual'] = np.exp(rf_predictions2['actual'])\n",
    "print(\"RMSE on training set: {}\".format(np.sqrt(mean_squared_error(rf_predictions2.actual, rf_predictions2.predictions))))\n",
    "print(\"MAE on training set: {}\".format(mean_absolute_error(rf_predictions2.actual, rf_predictions2.predictions)))\n",
    "\n",
    "print(\"RMSE on validation set: {}\".format(np.sqrt(mean_squared_error(rf_predictions.actual, rf_predictions.predictions))))\n",
    "print(\"MAE on validation set: {}\".format(mean_absolute_error(rf_predictions.actual, rf_predictions.predictions)))"
   ]
  },
  {
   "cell_type": "markdown",
   "id": "e3dbf950-ab02-4db4-93fc-17372aa65e86",
   "metadata": {},
   "source": [
    "We see a an improvement in MAE and RMSE. Validation set's error is close to training set, which suggests we don't have a major problem of overfitting"
   ]
  },
  {
   "cell_type": "markdown",
   "id": "afb8382b-a7a0-4c40-b3de-56e21727599d",
   "metadata": {},
   "source": [
    "Let's validate the rests with a K-fold cross validation, to see whether our results were affected by the data split or they are robust."
   ]
  },
  {
   "cell_type": "code",
   "execution_count": 670,
   "id": "a6a8b5f7-7fad-423a-83ad-e88214757d6d",
   "metadata": {},
   "outputs": [
    {
     "name": "stdout",
     "output_type": "stream",
     "text": [
      "MSE: 716.9448996497148\n",
      "MAE: 465.04758336714764\n"
     ]
    }
   ],
   "source": [
    "X_cv = train.drop(columns = ['experiences_offered','host_response_time','host_response_rate', 'host_is_superhost',\n",
    "                        'host_has_profile_pic', 'host_identity_verified', 'cancellation_policy','bed_type','beds'])\n",
    "X_cv.drop(columns = ['name', 'overview','neighborhood_overview', 'transit', 'house_rules','listing_id','amenities', 'price'] , inplace = True)\n",
    "X_cv['bedrooms'] = X_cv['bedrooms'].replace({5.0 : \"5.0+\" , 6.0 : \"5.0+\", 7.0  : \"5.0+\" , 8.0  : \"5.0+\", 9.0  : \"5.0+\" , 11.0 : \"5.0+\",19.0 : \"5.0+\"})\n",
    "X_cv['bathrooms'] = X_cv['bathrooms'].replace({0.0 : 1.0 , 0.5 : 1.0 , 3.5 : \"3.5+\" , 4.0 : \"3.5+\", 4.5 : \"3.5+\" , 5.0 : \"3.5+\" , 5.5 : \"3.5+\" , 6.0 : \"3.5+\",\n",
    "                                                                       6.5 : \"3.5+\", 7.0 : \"3.5+\", 7.5 : \"3.5+\" , 8.0 : \"3.5+\", 8.5 : \"3.5+\", 10.0 : \"3.5+\" , 11.0 : \"3.5+\"})\n",
    "X_cv['guests_included'] = X_cv['guests_included'].replace({7.0 : \"7.0+\" , 8.0 : \"7.0+\" , 8.0 : \"7.0+\", 9.0 : \"7.0+\", 10.0 : \"7.0+\" , 11.0 : \"7.0+\" , \n",
    "                                                                                   12.0 : \"7.0+\" , 14.0 : \"7.0+\", 15.0 : \"7.0+\" , 16.0 : \"7.0+\" , 46.0 : \"7.0+\"})                                                                                                                                 \n",
    "categories_to_keep = ['Apartment', 'House' , 'Townhouse' , 'Condominium' , 'Serviced apartment']\n",
    "X_cv['property_type'] = X_cv['property_type'].where(X_cv['property_type'].isin(categories_to_keep), 'Other')\n",
    "X_cv['property_type'] = pd.Categorical(X_cv['property_type'] , categories=categories_to_keep + ['Other'])\n",
    "X_cv['neighbourhood_cleansed'] = X_cv['neighbourhood_cleansed'].replace({'City of London' : \"City Center\" , \"Kensington and Chelsea\" : \"City Center\", \"Westminster\" : \"City Center\", \"Hammersmith and Fulham\"  : \"Fulham or similar\", \"Camden\" : \"Fulham or similar\" , \"Richmond or Thames\" : \"Fulham or similar\" , \n",
    "                                                                                   \"Islington\" : \"Fulham or similar\" , \"Wandsworth\" : \"Fulham or similar\", \"Southwark\" : \"Hackney or similar\" , \"Lambeth\" : \"Hackney or similar\" , \"Hackney\" : \"Hackney or similar\", \"Tower Hamlets\" : \"Hackney or similar\", \"Merton\" :\"Hackney or similar\",\n",
    "                                                                                                \"Hounslow\" : \"Hackney or similar\", \"Brent\" : \"Newham or similar\" , \"Greenwich\" : \"Newham or similar\", \"Kingston upon Thames\" : \"Newham or similar\", \"Barnet\" : \"Newham or similar\", \"Newham\" : \"Newham or similar\", \"Ealing\" : \"Newham or similar\", \"Haringey\" : \"Newham or similar\",\n",
    "                                                                                                \"Lewisham\" : \"Sutton or similar\", \"Waltham Forest\" : \"Sutton or similar\", \"Havering\" : \"Sutton or similar\", \"Enfield\" : \"Sutton or similar\", \"Bromley\" : \"Sutton or similar\", \"Hillingdon\" :  \"Sutton or similar\", \"Harrow\" : \"Sutton or similar\" , \"Sutton\" : \"Sutton or similar\", \"Barking and Dagenham\" : \"Sutton or similar\",\n",
    "                                                                                                \"Croydon\" : \"Sutton or similar\" , \"Bexley\" : \"Sutton or similar\", \"Redbridge\" : \"Sutton or similar\"})\n",
    "\n",
    "X_cv = pd.get_dummies(X_cv, columns=['property_type', 'room_type', 'bathrooms',  'bedrooms', 'guests_included', 'neighbourhood_cleansed'])\n",
    "Y_cv = train['price'].copy()\n",
    "\n",
    "kf = KFold(n_splits=10, shuffle=True, random_state=100)\n",
    "cv_preds = pd.DataFrame(columns=[\"pred\", \"actual\"], index=X_cv.index)\n",
    "cv_preds[\"actual\"] = Y_cv\n",
    "\n",
    "for train_index, test_index in kf.split(X_cv):\n",
    "    x_train, x_test = X_cv.loc[X_cv.index[train_index], :], X_cv.loc[X_cv.index[test_index], :]\n",
    "    y_train, y_test = Y_cv[Y_cv.index[train_index]], Y_cv[Y_cv.index[test_index]]\n",
    "    \n",
    "    rf_cv = RandomForestRegressor(n_estimators=500, max_depth = 12, max_samples = 0.5, random_state=100, max_features = 20 , verbose=0)\n",
    "    rf_cv.fit(x_train,y_train)\n",
    "\n",
    "    cv_preds.loc[X_cv.index[test_index], \"pred\"] = rf_cv.predict(x_test)\n",
    "\n",
    "cv_preds.pred = cv_preds.pred.astype('float64')\n",
    "cv_preds.pred = (cv_preds.pred * std_price) + mean_price\n",
    "cv_preds.pred = np.exp(cv_preds.pred)\n",
    "cv_preds.actual = (cv_preds.actual * std_price) + mean_price\n",
    "cv_preds.actual = np.exp(cv_preds.actual)\n",
    "print(f\"MSE: {np.sqrt(mean_squared_error(cv_preds.pred, cv_preds.actual))}\")\n",
    "print(f\"MAE: {mean_absolute_error(cv_preds.pred, cv_preds.actual)}\")  "
   ]
  },
  {
   "cell_type": "markdown",
   "id": "77a35a55-c9cf-485a-9530-9a391d2eea5b",
   "metadata": {},
   "source": [
    "We get almost the same result as our validation set's results from before."
   ]
  },
  {
   "cell_type": "markdown",
   "id": "465d048e-a1bc-4915-9b3c-26c90900367b",
   "metadata": {},
   "source": [
    "---\n",
    "\n",
    "### 5.4 XGBoost"
   ]
  },
  {
   "cell_type": "code",
   "execution_count": null,
   "id": "df2f7fb1-3b2c-4aea-8946-a7e3c118d094",
   "metadata": {},
   "outputs": [],
   "source": [
    "xgb_param_grid = {'n_estimators': [100, 200, 500],\n",
    "              'max_depth' : [7 , 10 , 15 ,20],\n",
    "             }\n",
    "gs_xgb = GridSearchCV(estimator=xgb.XGBRegressor(random_state = 100 , learning_rate = 0.13 , colsample_bytree = 0.7 ), \n",
    "                      param_grid=xgb_param_grid, scoring='neg_mean_squared_error', cv=5, verbose=0)\n",
    "gs_xgb.fit(X_train_dummies, np.ravel(y_train) , verbose = 0) \n"
   ]
  },
  {
   "cell_type": "code",
   "execution_count": 691,
   "id": "9831d4b5-a8d7-4e6e-baaa-f79edc5c44de",
   "metadata": {},
   "outputs": [
    {
     "name": "stdout",
     "output_type": "stream",
     "text": [
      "{'max_depth': 7, 'n_estimators': 200}\n"
     ]
    }
   ],
   "source": [
    "print(gs_xgb.best_params_)"
   ]
  },
  {
   "cell_type": "code",
   "execution_count": 701,
   "id": "1f16d352-9e14-4d1b-877d-dc292a249d56",
   "metadata": {},
   "outputs": [],
   "source": [
    "xgb_model = xgb.XGBRegressor(objective ='reg:squarederror', random_state = 100 , n_estimators = 200 ,\n",
    "                             max_depth = 7 , learning_rate = 0.13 , colsample_bytree = 0.7 ,subsample = 1,  verbosity = 0)"
   ]
  },
  {
   "cell_type": "code",
   "execution_count": null,
   "id": "88fa8bab-d45d-4f9d-a769-aa5a34253809",
   "metadata": {},
   "outputs": [],
   "source": [
    "xgb_model.fit(X_train_dummies, np.ravel(y_train)) "
   ]
  },
  {
   "cell_type": "code",
   "execution_count": 694,
   "id": "ee3d5a3c-0764-4ea1-b330-763c9bcbef80",
   "metadata": {},
   "outputs": [
    {
     "name": "stdout",
     "output_type": "stream",
     "text": [
      "RMSE on training set: 45.566370282372866\n",
      "MAE on training set: 26.542849296766306\n",
      "RMSE on validation set: 51.57115151136011\n",
      "MAE on validation set: 29.910586290013633\n"
     ]
    }
   ],
   "source": [
    "xgb_predictions = pd.DataFrame({\"predictions\": xgb_model.predict(X_val_dummies), \"actual\": y_val['price']})\n",
    "xgb_predictions['predictions'] = (xgb_predictions['predictions'] * std_price) + mean_price\n",
    "xgb_predictions['predictions'] = np.exp(xgb_predictions['predictions'])\n",
    "xgb_predictions['actual'] = (xgb_predictions['actual'] * std_price) + mean_price\n",
    "xgb_predictions['actual'] = np.exp(xgb_predictions['actual'])\n",
    "\n",
    "xgb_predictions2 = pd.DataFrame({\"predictions\": xgb_model.predict(X_train_dummies), \"actual\": y_train['price']})\n",
    "xgb_predictions2['predictions'] = (xgb_predictions2['predictions'] * std_price) + mean_price\n",
    "xgb_predictions2['predictions'] = np.exp(xgb_predictions2['predictions'])\n",
    "xgb_predictions2['actual'] = (xgb_predictions2['actual'] * std_price) + mean_price\n",
    "xgb_predictions2['actual'] = np.exp(xgb_predictions2['actual'])\n",
    "\n",
    "print(\"RMSE on training set: {}\".format(np.sqrt(mean_squared_error(xgb_predictions2.actual, xgb_predictions2.predictions))))\n",
    "print(\"MAE on training set: {}\".format(mean_absolute_error(xgb_predictions2.actual, xgb_predictions2.predictions)))\n",
    "\n",
    "print(\"RMSE on validation set: {}\".format(np.sqrt(mean_squared_error(xgb_predictions.actual, xgb_predictions.predictions))))\n",
    "print(\"MAE on validation set: {}\".format(mean_absolute_error(xgb_predictions.actual, xgb_predictions.predictions)))"
   ]
  },
  {
   "cell_type": "markdown",
   "id": "ae18a502-b4ba-40ff-8303-a0fb173c79e5",
   "metadata": {},
   "source": [
    "---"
   ]
  },
  {
   "cell_type": "markdown",
   "id": "b6ae2e3a-724d-41ed-ac58-52dddb906687",
   "metadata": {},
   "source": [
    "The XGBoost model gives us the best results both in terms of MAE and RMSE. That being said, the difference between the linear regression (worst performer) and XGBoost (best performer) are quite low - about 10%. This is interesting as we could expect non-linear models to perform better due to the non-linear relationship between some features and the target variable."
   ]
  },
  {
   "cell_type": "markdown",
   "id": "dbf0c753-66eb-48c4-be7c-43411be360c9",
   "metadata": {},
   "source": [
    "---\n",
    "\n",
    "### 5.5 Basic RNN"
   ]
  },
  {
   "cell_type": "markdown",
   "id": "20b7aa24-53b0-4d3e-8a44-81701ef06d05",
   "metadata": {},
   "source": [
    "To compare the predictive power of our text features to our non-text features, we will create a simple RNN model that takes as input our chosen text features and ignores the categorical/ numerical data.\n",
    "As mentioned before, we will optimize towards MSE as this is how we measure our final error. Plus, we dealt well with outliers by using a log transformation , which means our RMSE is relatively robust."
   ]
  },
  {
   "cell_type": "code",
   "execution_count": 695,
   "id": "c9f97e39-7e34-437e-a7d2-3c28ecaf52eb",
   "metadata": {},
   "outputs": [],
   "source": [
    "tf.random.set_seed(100)"
   ]
  },
  {
   "cell_type": "code",
   "execution_count": 922,
   "id": "1dee0540-7b36-4499-820e-e729400df663",
   "metadata": {},
   "outputs": [
    {
     "name": "stdout",
     "output_type": "stream",
     "text": [
      "Model: \"model_64\"\n",
      "__________________________________________________________________________________________________\n",
      " Layer (type)                   Output Shape         Param #     Connected to                     \n",
      "==================================================================================================\n",
      " input_257 (InputLayer)         [(None, 250)]        0           []                               \n",
      "                                                                                                  \n",
      " input_258 (InputLayer)         [(None, 70)]         0           []                               \n",
      "                                                                                                  \n",
      " embedding_191 (Embedding)      (None, 250, 16)      451680      ['input_257[0][0]']              \n",
      "                                                                                                  \n",
      " embedding_192 (Embedding)      (None, 70, 16)       4384        ['input_258[0][0]']              \n",
      "                                                                                                  \n",
      " simple_rnn_20 (SimpleRNN)      (None, 64)           5184        ['embedding_191[0][0]']          \n",
      "                                                                                                  \n",
      " simple_rnn_21 (SimpleRNN)      (None, 64)           5184        ['embedding_192[0][0]']          \n",
      "                                                                                                  \n",
      " concatenate_66 (Concatenate)   (None, 128)          0           ['simple_rnn_20[0][0]',          \n",
      "                                                                  'simple_rnn_21[0][0]']          \n",
      "                                                                                                  \n",
      " dense_386 (Dense)              (None, 128)          16512       ['concatenate_66[0][0]']         \n",
      "                                                                                                  \n",
      " dense_387 (Dense)              (None, 1)            129         ['dense_386[0][0]']              \n",
      "                                                                                                  \n",
      "==================================================================================================\n",
      "Total params: 483,073\n",
      "Trainable params: 483,073\n",
      "Non-trainable params: 0\n",
      "__________________________________________________________________________________________________\n",
      "None\n",
      "Epoch 1/10\n",
      "346/346 [==============================] - 24s 68ms/step - loss: 0.7038 - mae: 0.6601 - mse: 0.7038 - val_loss: 0.6292 - val_mae: 0.6243 - val_mse: 0.6292\n",
      "Epoch 2/10\n",
      "346/346 [==============================] - 24s 69ms/step - loss: 0.6330 - mae: 0.6241 - mse: 0.6330 - val_loss: 0.6098 - val_mae: 0.6139 - val_mse: 0.6098\n",
      "Epoch 3/10\n",
      "346/346 [==============================] - 24s 69ms/step - loss: 0.6137 - mae: 0.6132 - mse: 0.6137 - val_loss: 0.6064 - val_mae: 0.6106 - val_mse: 0.6064\n",
      "Epoch 4/10\n",
      "346/346 [==============================] - 24s 69ms/step - loss: 0.5530 - mae: 0.5795 - mse: 0.5530 - val_loss: 0.5110 - val_mae: 0.5501 - val_mse: 0.5110\n",
      "Epoch 5/10\n",
      "346/346 [==============================] - 24s 69ms/step - loss: 0.4707 - mae: 0.5309 - mse: 0.4707 - val_loss: 0.5139 - val_mae: 0.5591 - val_mse: 0.5139\n",
      "Epoch 6/10\n",
      "346/346 [==============================] - 24s 69ms/step - loss: 0.4378 - mae: 0.5106 - mse: 0.4378 - val_loss: 0.4760 - val_mae: 0.5311 - val_mse: 0.4760\n",
      "Epoch 7/10\n",
      "346/346 [==============================] - ETA: 0s - loss: 0.3990 - mae: 0.4853 - mse: 0.3990Restoring model weights from the end of the best epoch: 4.\n",
      "346/346 [==============================] - 24s 69ms/step - loss: 0.3990 - mae: 0.4853 - mse: 0.3990 - val_loss: 0.4901 - val_mae: 0.5466 - val_mse: 0.4901\n",
      "Epoch 7: early stopping\n"
     ]
    }
   ],
   "source": [
    "input_overview = layers.Input(shape=(300, ))\n",
    "input_amenities = layers.Input(shape=(70, ))\n",
    "\n",
    "#Overview\n",
    "overview_emb = layers.Embedding(input_dim=overview_vocab, output_dim=16, input_length=300 , mask_zero = True)(input_overview)\n",
    "RNN_overview = layers.SimpleRNN(64)(overview_emb)\n",
    "\n",
    "#Amenities\n",
    "amenities_emb = layers.Embedding(input_dim=amenities_vocab, output_dim=16, input_length=70 , mask_zero = True)(input_amenities)\n",
    "RNN_amenities = layers.SimpleRNN(64)(amenities_emb)\n",
    "\n",
    "concat_layer = layers.concatenate([RNN_overview, RNN_amenities])\n",
    "dense_layer = layers.Dense(128 , activation = \"relu\")(concat_layer)\n",
    "output_layer = layers.Dense(1)(dense_layer)\n",
    "\n",
    "model_rnn = tf.keras.models.Model(inputs=[input_overview, input_amenities], outputs=output_layer)\n",
    "model_rnn.compile(loss='mse', optimizer=\"adam\", metrics=[\"mae\", \"mse\"])\n",
    "\n",
    "print(model_rnn.summary())\n",
    "callbacks = [EarlyStopping(monitor=\"val_loss\", patience=3, verbose=1, min_delta=0.1, restore_best_weights=True)]\n",
    "\n",
    "story = model_rnn.fit([X_tr_overview , X_tr_amenities], y_train, epochs=10, \n",
    "                      verbose=1, batch_size=128, \n",
    "                      validation_data = ([X_val_overview , X_val_amenities], y_val) , callbacks=callbacks)"
   ]
  },
  {
   "cell_type": "code",
   "execution_count": 923,
   "id": "7d2860ee-24e7-4f25-af23-164e32549b17",
   "metadata": {},
   "outputs": [
    {
     "name": "stdout",
     "output_type": "stream",
     "text": [
      "346/346 [==============================] - 2s 7ms/step\n",
      "1383/1383 [==============================] - 9s 7ms/step\n",
      "RMSE on training set: 67.72997503929622\n",
      "MAE on training set: 39.36226244857084\n",
      "RMSE on validation set: 68.99320400146512\n",
      "MAE on validation set: 40.79858285017791\n"
     ]
    }
   ],
   "source": [
    "preds_rnn = pd.DataFrame({\"predictions\" : np.ravel(model_rnn.predict([X_val_overview , X_val_amenities])), \n",
    "                          \"actual\": np.ravel(y_val)})\n",
    "preds_rnn['predictions'] = (preds_rnn['predictions'] * std_price) + mean_price\n",
    "preds_rnn['predictions'] = np.exp(preds_rnn['predictions'])\n",
    "preds_rnn['actual'] = (preds_rnn['actual'] * std_price) + mean_price\n",
    "preds_rnn['actual'] = np.exp(preds_rnn['actual'])\n",
    "\n",
    "\n",
    "preds_rnn2 = pd.DataFrame({\"predictions\": np.ravel(model_rnn.predict([X_tr_overview, X_tr_amenities])) , \n",
    "                           \"actual\": np.ravel(y_train)})\n",
    "preds_rnn2['predictions'] = (preds_rnn2['predictions'] * std_price) + mean_price\n",
    "preds_rnn2['predictions'] = np.exp(preds_rnn2['predictions'])\n",
    "preds_rnn2['actual'] = (preds_rnn2['actual'] * std_price) + mean_price\n",
    "preds_rnn2['actual'] = np.exp(preds_rnn2['actual'])\n",
    "\n",
    "print(\"RMSE on training set: {}\".format(np.sqrt(mean_squared_error(preds_rnn2.actual, preds_rnn2.predictions))))\n",
    "print(\"MAE on training set: {}\".format(mean_absolute_error(preds_rnn2.actual, preds_rnn2.predictions)))\n",
    "\n",
    "\n",
    "print(\"RMSE on validation set: {}\".format(np.sqrt(mean_squared_error(preds_rnn.actual, preds_rnn.predictions))))\n",
    "print(\"MAE on validation set: {}\".format(mean_absolute_error(preds_rnn.actual, preds_rnn.predictions)))"
   ]
  },
  {
   "cell_type": "markdown",
   "id": "ac13ed82-ba55-485f-9f60-2b89860f12b7",
   "metadata": {},
   "source": [
    "The RMSE from our textual features is higher than our numerical/categorical best performing model (XGBoost). Our main takeaway here is that our non-textual data plays a significant role in our final prediction. We will keep that in mind while constructing our architechture."
   ]
  },
  {
   "cell_type": "markdown",
   "id": "7a2e83d8-68d7-4d74-8dc9-72bfbef70c9e",
   "metadata": {},
   "source": [
    "---\n",
    "\n",
    "### 6.0 NN Architechture"
   ]
  },
  {
   "cell_type": "markdown",
   "id": "51de6b22-41eb-493a-a23a-9bbd58a4cb07",
   "metadata": {},
   "source": [
    "We will proceed to deeper and more sophisticated networks. We will experiment with a few approaches. Each has its own advantages and disadvantages and all could fit our task. As there are many approaches we can take here, we will try two approaches which were learnt in class. These approaches have unique method of operation that could make them the best predictor in our case:\n",
    "- LSTM model\n",
    "- CNN model\n",
    "\n",
    "After experimenting with these approaches, including tunning hyperparameters and understanding what model can best fit our data, we will construct our final and full model.\n"
   ]
  },
  {
   "cell_type": "markdown",
   "id": "01f941f7-9848-43e9-a751-f9a4add08265",
   "metadata": {},
   "source": [
    "---\n",
    "\n",
    "#### 6.1 LSTM"
   ]
  },
  {
   "cell_type": "markdown",
   "id": "42ed97af-ef7e-4b91-80bd-5e4defcff87a",
   "metadata": {},
   "source": [
    "Our first model will be an LSTM model. This model captures long-term depenedcies in our text sequences and addresses the problem of the vanishing graident. This is a problem our benchmark model, the simple RNN, suffers from. As we do have long sequences as input, we can expect this model to overperform the RNN model.\n",
    "\n",
    "The model displayed is the one with the best results after hyperparameter tunning which included:\n",
    "- Number of embedding layer output\n",
    "- Different learning rates\n",
    "- Different batch size numbers\n",
    "- Regularization including a dropout layer and l2 penalty\n",
    "- LSTM layer's number of nodes\n",
    "- Different combinations of our text features"
   ]
  },
  {
   "cell_type": "code",
   "execution_count": 718,
   "id": "f2134cdb-5a82-40d5-b545-6ea995d4e33e",
   "metadata": {},
   "outputs": [
    {
     "name": "stdout",
     "output_type": "stream",
     "text": [
      "Model: \"model_9\"\n",
      "__________________________________________________________________________________________________\n",
      " Layer (type)                   Output Shape         Param #     Connected to                     \n",
      "==================================================================================================\n",
      " input_32 (InputLayer)          [(None, 15)]         0           []                               \n",
      "                                                                                                  \n",
      " input_34 (InputLayer)          [(None, 250)]        0           []                               \n",
      "                                                                                                  \n",
      " input_33 (InputLayer)          [(None, 70)]         0           []                               \n",
      "                                                                                                  \n",
      " embedding_27 (Embedding)       (None, 15, 64)       359680      ['input_32[0][0]']               \n",
      "                                                                                                  \n",
      " embedding_28 (Embedding)       (None, 250, 64)      1719104     ['input_34[0][0]']               \n",
      "                                                                                                  \n",
      " embedding_29 (Embedding)       (None, 70, 64)       17536       ['input_33[0][0]']               \n",
      "                                                                                                  \n",
      " lstm_9 (LSTM)                  (None, 64)           33024       ['embedding_27[0][0]']           \n",
      "                                                                                                  \n",
      " lstm_10 (LSTM)                 (None, 64)           33024       ['embedding_28[0][0]']           \n",
      "                                                                                                  \n",
      " lstm_11 (LSTM)                 (None, 64)           33024       ['embedding_29[0][0]']           \n",
      "                                                                                                  \n",
      " dense_30 (Dense)               (None, 1)            65          ['lstm_9[0][0]']                 \n",
      "                                                                                                  \n",
      " dense_31 (Dense)               (None, 1)            65          ['lstm_10[0][0]']                \n",
      "                                                                                                  \n",
      " dense_32 (Dense)               (None, 1)            65          ['lstm_11[0][0]']                \n",
      "                                                                                                  \n",
      " concatenate_9 (Concatenate)    (None, 3)            0           ['dense_30[0][0]',               \n",
      "                                                                  'dense_31[0][0]',               \n",
      "                                                                  'dense_32[0][0]']               \n",
      "                                                                                                  \n",
      " dense_33 (Dense)               (None, 256)          1024        ['concatenate_9[0][0]']          \n",
      "                                                                                                  \n",
      " dense_34 (Dense)               (None, 128)          32896       ['dense_33[0][0]']               \n",
      "                                                                                                  \n",
      " dense_35 (Dense)               (None, 1)            129         ['dense_34[0][0]']               \n",
      "                                                                                                  \n",
      "==================================================================================================\n",
      "Total params: 2,229,636\n",
      "Trainable params: 2,229,636\n",
      "Non-trainable params: 0\n",
      "__________________________________________________________________________________________________\n",
      "None\n",
      "Epoch 1/20\n",
      "173/173 [==============================] - 66s 359ms/step - loss: 0.5179 - mae: 0.5521 - mse: 0.5179 - val_loss: 0.3948 - val_mae: 0.4789 - val_mse: 0.3948\n",
      "Epoch 2/20\n",
      "173/173 [==============================] - 63s 365ms/step - loss: 0.3504 - mae: 0.4483 - mse: 0.3504 - val_loss: 0.3858 - val_mae: 0.4772 - val_mse: 0.3858\n",
      "Epoch 3/20\n",
      "173/173 [==============================] - 61s 354ms/step - loss: 0.3073 - mae: 0.4159 - mse: 0.3073 - val_loss: 0.3959 - val_mae: 0.4820 - val_mse: 0.3959\n",
      "Epoch 4/20\n",
      "173/173 [==============================] - ETA: 0s - loss: 0.2739 - mae: 0.3906 - mse: 0.2739Restoring model weights from the end of the best epoch: 1.\n",
      "173/173 [==============================] - 64s 368ms/step - loss: 0.2739 - mae: 0.3906 - mse: 0.2739 - val_loss: 0.3941 - val_mae: 0.4779 - val_mse: 0.3941\n",
      "Epoch 4: early stopping\n"
     ]
    }
   ],
   "source": [
    "input_amenities = layers.Input(shape=(70, ))\n",
    "input_overview = layers.Input(shape=(300, ))\n",
    "     \n",
    "#Overview\n",
    "overview_emb = layers.Embedding(input_dim=overview_vocab, output_dim=64, input_length=300 , mask_zero = True)(input_overview)\n",
    "LSTM_overview = layers.LSTM(64)(overview_emb)\n",
    "dropout_overview = layers.Dropout(0.1)(LSTM_overview)\n",
    "dense_overview = layers.Dense(1 , activation = \"relu\")(LSTM_overview)\n",
    "\n",
    "#Amenities\n",
    "amenities_emb = layers.Embedding(input_dim=amenities_vocab, output_dim=64, input_length=70 , mask_zero = True)(input_amenities)\n",
    "LSTM_amenities = layers.LSTM(64)(amenities_emb)\n",
    "dropout_amenities = layers.Dropout(0.1)(LSTM_amenities)\n",
    "dense_amenities = layers.Dense(1 , activation = \"relu\")(LSTM_amenities)\n",
    "   \n",
    "\n",
    "concat_layer = layers.concatenate([dense_name, dense_overview , dense_amenities])\n",
    "dense_layer = layers.Dense(256 , activation = \"relu\")(concat_layer)\n",
    "dropout_layer = layers.Dropout(0.2)(dense_layer)\n",
    "dense_layer = layers.Dense(128 , activation = \"relu\")(dropout_layer)\n",
    "output_layer = layers.Dense(1)(dense_layer)\n",
    "\n",
    "model_lstm = tf.keras.models.Model(inputs=[input_name, input_overview , input_amenities], outputs=output_layer)\n",
    "model_lstm.compile(loss='mse', optimizer=\"adam\", metrics=[\"mae\", \"mse\"])\n",
    "\n",
    "print(model_lstm.summary())\n",
    "callbacks = [EarlyStopping(monitor=\"val_loss\", patience=3, verbose=1, min_delta=0.1, restore_best_weights=True)]\n",
    "\n",
    "story = model_lstm.fit([X_tr_overview, X_tr_amenities], y_train, epochs=20, \n",
    "                      verbose=1, batch_size=256, \n",
    "                      validation_data = ([X_val_overview, X_val_amenities], y_val) , callbacks=callbacks)"
   ]
  },
  {
   "cell_type": "code",
   "execution_count": 719,
   "id": "20e76a1c-a32b-4cb6-9e39-fe59f2e0b514",
   "metadata": {},
   "outputs": [
    {
     "name": "stdout",
     "output_type": "stream",
     "text": [
      "346/346 [==============================] - 8s 20ms/step\n",
      "1383/1383 [==============================] - 26s 19ms/step\n",
      "RMSE on training set: 59.76712839944489\n",
      "MAE on training set: 34.02120498294793\n",
      "RMSE on validation set: 61.009993760342084\n",
      "MAE on validation set: 35.6084306900978\n"
     ]
    }
   ],
   "source": [
    "preds_lstm = pd.DataFrame({\"predictions\" : np.ravel(model_lstm.predict([X_val_overview, X_val_amenities])), \n",
    "                          \"actual\": np.ravel(y_val)})\n",
    "preds_lstm['predictions'] = (preds_lstm['predictions'] * std_price) + mean_price\n",
    "preds_lstm['predictions'] = np.exp(preds_lstm['predictions'])\n",
    "preds_lstm['actual'] = (preds_lstm['actual'] * std_price) + mean_price\n",
    "preds_lstm['actual'] = np.exp(preds_lstm['actual'])\n",
    "\n",
    "\n",
    "preds_lstm2 = pd.DataFrame({\"predictions\": np.ravel(model_lstm.predict([X_tr_overview, X_tr_amenities])) , \n",
    "                           \"actual\": np.ravel(y_train)})\n",
    "preds_lstm2['predictions'] = (preds_lstm2['predictions'] * std_price) + mean_price\n",
    "preds_lstm2['predictions'] = np.exp(preds_lstm2['predictions'])\n",
    "preds_lstm2['actual'] = (preds_lstm2['actual'] * std_price) + mean_price\n",
    "preds_lstm2['actual'] = np.exp(preds_lstm2['actual'])\n",
    "\n",
    "print(\"RMSE on training set: {}\".format(np.sqrt(mean_squared_error(preds_lstm2.actual, preds_lstm2.predictions))))\n",
    "print(\"MAE on training set: {}\".format(mean_absolute_error(preds_lstm2.actual, preds_lstm2.predictions)))\n",
    "\n",
    "\n",
    "print(\"RMSE on validation set: {}\".format(np.sqrt(mean_squared_error(preds_lstm.actual, preds_lstm.predictions))))\n",
    "print(\"MAE on validation set: {}\".format(mean_absolute_error(preds_lstm.actual, preds_lstm.predictions)))"
   ]
  },
  {
   "cell_type": "markdown",
   "id": "bdcc2896-82ad-4ee5-9a41-05da2b80f6f9",
   "metadata": {},
   "source": [
    "---\n",
    "\n",
    "### 6.2 CNN Model"
   ]
  },
  {
   "cell_type": "markdown",
   "id": "4ba061e0-e38d-4ef1-b922-896ef722df02",
   "metadata": {},
   "source": [
    "Next we will try a CNN model. The CNN model can better capture and understand close connections and semantical relationships. \n",
    "The model displayed is the one with the best results after hyperparameter tunning which included:\n",
    "- Number of embedding layer output\n",
    "- Different kernel sizes\n",
    "- Different number of convolutional layers\n",
    "- Regularization including a dropout layer and l2 penalty\n",
    "- Different combinations of our text features"
   ]
  },
  {
   "cell_type": "code",
   "execution_count": 720,
   "id": "c1628746-aa7d-44a2-b463-00cb1ee619cc",
   "metadata": {},
   "outputs": [
    {
     "name": "stdout",
     "output_type": "stream",
     "text": [
      "Epoch 1/10\n",
      "173/173 [==============================] - 8s 42ms/step - loss: 2.2561 - mae: 0.5962 - mse: 0.5949 - val_loss: 1.0061 - val_mae: 0.4870 - val_mse: 0.4045\n",
      "Epoch 2/10\n",
      "173/173 [==============================] - 8s 44ms/step - loss: 0.5770 - mae: 0.4637 - mse: 0.3728 - val_loss: 0.4570 - val_mae: 0.4831 - val_mse: 0.3980\n",
      "Epoch 3/10\n",
      "173/173 [==============================] - 10s 58ms/step - loss: 0.3838 - mae: 0.4377 - mse: 0.3368 - val_loss: 0.4225 - val_mae: 0.4695 - val_mse: 0.3828\n",
      "Epoch 4/10\n",
      "173/173 [==============================] - 8s 47ms/step - loss: 0.3459 - mae: 0.4175 - mse: 0.3093 - val_loss: 0.4212 - val_mae: 0.4722 - val_mse: 0.3860\n",
      "Epoch 5/10\n",
      "173/173 [==============================] - 8s 48ms/step - loss: 0.3129 - mae: 0.3953 - mse: 0.2811 - val_loss: 0.4254 - val_mae: 0.4777 - val_mse: 0.3945\n",
      "Epoch 6/10\n",
      "172/173 [============================>.] - ETA: 0s - loss: 0.2853 - mae: 0.3748 - mse: 0.2561Restoring model weights from the end of the best epoch: 3.\n",
      "173/173 [==============================] - 9s 51ms/step - loss: 0.2852 - mae: 0.3748 - mse: 0.2560 - val_loss: 0.4232 - val_mae: 0.4744 - val_mse: 0.3962\n",
      "Epoch 6: early stopping\n"
     ]
    }
   ],
   "source": [
    "input_overview = layers.Input(shape=(300, ))\n",
    "input_amenities = layers.Input(shape=(70, ))\n",
    "\n",
    "\n",
    "#Overview\n",
    "overview_emb = layers.Embedding(input_dim=overview_vocab, output_dim=64, input_length=300 , mask_zero = True)(input_overview)\n",
    "conv_overview = layers.Conv1D(filters = 32, kernel_size = 3, activation = 'relu')(overview_emb)\n",
    "pool_overview = layers.MaxPooling1D(2)(conv_overview)\n",
    "conv_overview2 = layers.Conv1D(filters = 32, kernel_size = 3, activation = 'relu')(pool_overview)\n",
    "pool_overview2 = layers.MaxPooling1D(2)(conv_overview2)\n",
    "dropout_overview = layers.Dropout(0.2)(pool_overview2)\n",
    "flatten_overview = layers.Flatten()(dropout_overview)\n",
    "dense_overview = layers.Dense(1 , activation = \"relu\")(flatten_overview)\n",
    "\n",
    "#Amenities\n",
    "amenities_emb = layers.Embedding(input_dim=amenities_vocab, output_dim=64, input_length=70 , mask_zero = True)(input_amenities)\n",
    "conv_amenities = layers.Conv1D(filters = 32, kernel_size = 3, activation = 'relu')(amenities_emb)\n",
    "pool_amenities = layers.MaxPooling1D(2)(conv_amenities)\n",
    "conv_amenities2 = layers.Conv1D(filters = 32, kernel_size = 3, activation = 'relu')(pool_amenities)\n",
    "pool_amenities2 = layers.MaxPooling1D(2)(conv_amenities2)\n",
    "dropout_amenities = layers.Dropout(0.2)(pool_amenities2)                                  \n",
    "flatten_amenities = layers.Flatten()(dropout_amenities)                         \n",
    "dense_amenities = layers.Dense(1 , activation = \"relu\")(flatten_amenities)\n",
    "\n",
    "\n",
    "concat_layer = layers.concatenate([dense_overview , dense_amenities])\n",
    "dense_layer = layers.Dense(64 , activation = \"relu\" , kernel_regularizer=tf.keras.regularizers.L1(l1=0.1))(concat_layer)\n",
    "output_layer = layers.Dense(1)(dense_layer)\n",
    "\n",
    "model_cnn = tf.keras.models.Model(inputs=[input_name, input_overview , input_amenities], outputs=output_layer)\n",
    "model_cnn.compile(loss='mse', optimizer=\"adam\", metrics=[\"mae\", \"mse\"])\n",
    "\n",
    "\n",
    "callbacks = [EarlyStopping(monitor=\"val_loss\", patience=3, verbose=1, min_delta=0.01, restore_best_weights=True)]\n",
    "\n",
    "story = model_cnn.fit([X_tr_overview, X_tr_amenities], y_train, epochs=10, \n",
    "                      verbose=1, batch_size=256, \n",
    "                      validation_data = ([X_val_name , X_val_overview, X_val_amenities], y_val) , callbacks=callbacks)"
   ]
  },
  {
   "cell_type": "code",
   "execution_count": 721,
   "id": "0575aee7-897c-4aa2-8ebc-41338bc6fcd6",
   "metadata": {},
   "outputs": [
    {
     "name": "stdout",
     "output_type": "stream",
     "text": [
      "346/346 [==============================] - 1s 2ms/step\n",
      "1383/1383 [==============================] - 4s 3ms/step\n",
      "RMSE on training set: 52.91562330084031\n",
      "MAE on training set: 30.663612072463547\n",
      "RMSE on validation set: 58.03651865681864\n",
      "MAE on validation set: 34.67358756895532\n"
     ]
    }
   ],
   "source": [
    "preds_cnn = pd.DataFrame({\"predictions\" : np.ravel(model_cnn.predict([X_val_overview, X_val_amenities])), \n",
    "                          \"actual\": np.ravel(y_val)})\n",
    "preds_cnn['predictions'] = (preds_cnn['predictions'] * std_price) + mean_price\n",
    "preds_cnn['predictions'] = np.exp(preds_cnn['predictions'])\n",
    "preds_cnn['actual'] = (preds_cnn['actual'] * std_price) + mean_price\n",
    "preds_cnn['actual'] = np.exp(preds_cnn['actual'])\n",
    "\n",
    "\n",
    "preds_cnn2 = pd.DataFrame({\"predictions\": np.ravel(model_cnn.predict([X_tr_overview, X_tr_amenities])) , \n",
    "                           \"actual\": np.ravel(y_train)})\n",
    "preds_cnn2['predictions'] = (preds_cnn2['predictions'] * std_price) + mean_price\n",
    "preds_cnn2['predictions'] = np.exp(preds_cnn2['predictions'])\n",
    "preds_cnn2['actual'] = (preds_cnn2['actual'] * std_price) + mean_price\n",
    "preds_cnn2['actual'] = np.exp(preds_cnn2['actual'])\n",
    "\n",
    "print(\"RMSE on training set: {}\".format(np.sqrt(mean_squared_error(preds_cnn2.actual, preds_cnn2.predictions))))\n",
    "print(\"MAE on training set: {}\".format(mean_absolute_error(preds_cnn2.actual, preds_cnn2.predictions)))\n",
    "\n",
    "print(\"RMSE on validation set: {}\".format(np.sqrt(mean_squared_error(preds_cnn.actual, preds_cnn.predictions))))\n",
    "print(\"MAE on validation set: {}\".format(mean_absolute_error(preds_cnn.actual, preds_cnn.predictions)))"
   ]
  },
  {
   "cell_type": "markdown",
   "id": "71053bbb-679d-4c0b-a53d-e65d43a8b4af",
   "metadata": {},
   "source": [
    "Our results in the CNN model are slightly better than our LSTM model"
   ]
  },
  {
   "cell_type": "markdown",
   "id": "5fe903c5-c32a-40ca-b9dd-6198bdd3b5a0",
   "metadata": {},
   "source": [
    "---\n",
    "\n",
    "### 6.3 Full Architechture"
   ]
  },
  {
   "cell_type": "markdown",
   "id": "b12b8ca8-04aa-4e85-8630-9f5fc8c2e02e",
   "metadata": {},
   "source": [
    "Based on our previous models and experiments, for our full architechture we chose the following structure:\n",
    "\n",
    "- Train a CNN model on our textual data, using a double convolutional + pool layers.\n",
    "- Concatenate the model with the non-textual data\n",
    "- Train a deep learning model on the concatenated data\n",
    "\n",
    "As with our previous models, different hypertunning The model displayed is the one with the best results after hyperparameter tunning which included:\n",
    "- Number of embedding layer output\n",
    "- Different kernel sizes\n",
    "- Regularization including a dropout layer and l2 penalty\n",
    "- Different number of dense layers and number of nodes\n",
    "- Different batch sizes"
   ]
  },
  {
   "cell_type": "code",
   "execution_count": 1197,
   "id": "dbbdb001-05d3-45d3-952a-ce6b7f28e94f",
   "metadata": {},
   "outputs": [
    {
     "name": "stdout",
     "output_type": "stream",
     "text": [
      "Model: \"model_179\"\n",
      "__________________________________________________________________________________________________\n",
      " Layer (type)                   Output Shape         Param #     Connected to                     \n",
      "==================================================================================================\n",
      " input_611 (InputLayer)         [(None, 300)]        0           []                               \n",
      "                                                                                                  \n",
      " input_612 (InputLayer)         [(None, 70)]         0           []                               \n",
      "                                                                                                  \n",
      " embedding_426 (Embedding)      (None, 300, 64)      1806720     ['input_611[0][0]']              \n",
      "                                                                                                  \n",
      " embedding_427 (Embedding)      (None, 70, 64)       17536       ['input_612[0][0]']              \n",
      "                                                                                                  \n",
      " conv1d_641 (Conv1D)            (None, 298, 100)     19300       ['embedding_426[0][0]']          \n",
      "                                                                                                  \n",
      " conv1d_643 (Conv1D)            (None, 68, 32)       6176        ['embedding_427[0][0]']          \n",
      "                                                                                                  \n",
      " max_pooling1d_640 (MaxPooling1  (None, 149, 100)    0           ['conv1d_641[0][0]']             \n",
      " D)                                                                                               \n",
      "                                                                                                  \n",
      " max_pooling1d_642 (MaxPooling1  (None, 34, 32)      0           ['conv1d_643[0][0]']             \n",
      " D)                                                                                               \n",
      "                                                                                                  \n",
      " dropout_979 (Dropout)          (None, 149, 100)     0           ['max_pooling1d_640[0][0]']      \n",
      "                                                                                                  \n",
      " dropout_981 (Dropout)          (None, 34, 32)       0           ['max_pooling1d_642[0][0]']      \n",
      "                                                                                                  \n",
      " conv1d_642 (Conv1D)            (None, 147, 100)     30100       ['dropout_979[0][0]']            \n",
      "                                                                                                  \n",
      " conv1d_644 (Conv1D)            (None, 32, 32)       3104        ['dropout_981[0][0]']            \n",
      "                                                                                                  \n",
      " max_pooling1d_641 (MaxPooling1  (None, 73, 100)     0           ['conv1d_642[0][0]']             \n",
      " D)                                                                                               \n",
      "                                                                                                  \n",
      " max_pooling1d_643 (MaxPooling1  (None, 16, 32)      0           ['conv1d_644[0][0]']             \n",
      " D)                                                                                               \n",
      "                                                                                                  \n",
      " dropout_980 (Dropout)          (None, 73, 100)      0           ['max_pooling1d_641[0][0]']      \n",
      "                                                                                                  \n",
      " dropout_982 (Dropout)          (None, 16, 32)       0           ['max_pooling1d_643[0][0]']      \n",
      "                                                                                                  \n",
      " flatten_390 (Flatten)          (None, 7300)         0           ['dropout_980[0][0]']            \n",
      "                                                                                                  \n",
      " flatten_391 (Flatten)          (None, 512)          0           ['dropout_982[0][0]']            \n",
      "                                                                                                  \n",
      " input_613 (InputLayer)         [(None, 38)]         0           []                               \n",
      "                                                                                                  \n",
      " concatenate_181 (Concatenate)  (None, 7850)         0           ['flatten_390[0][0]',            \n",
      "                                                                  'flatten_391[0][0]',            \n",
      "                                                                  'input_613[0][0]']              \n",
      "                                                                                                  \n",
      " dense_1159 (Dense)             (None, 1024)         8039424     ['concatenate_181[0][0]']        \n",
      "                                                                                                  \n",
      " dropout_983 (Dropout)          (None, 1024)         0           ['dense_1159[0][0]']             \n",
      "                                                                                                  \n",
      " dense_1160 (Dense)             (None, 512)          524800      ['dropout_983[0][0]']            \n",
      "                                                                                                  \n",
      " dense_1161 (Dense)             (None, 256)          131328      ['dense_1160[0][0]']             \n",
      "                                                                                                  \n",
      " dense_1162 (Dense)             (None, 128)          32896       ['dense_1161[0][0]']             \n",
      "                                                                                                  \n",
      " dropout_984 (Dropout)          (None, 128)          0           ['dense_1162[0][0]']             \n",
      "                                                                                                  \n",
      " dense_1163 (Dense)             (None, 1)            129         ['dropout_984[0][0]']            \n",
      "                                                                                                  \n",
      "==================================================================================================\n",
      "Total params: 10,611,513\n",
      "Trainable params: 10,611,513\n",
      "Non-trainable params: 0\n",
      "__________________________________________________________________________________________________\n",
      "None\n",
      "Epoch 1/20\n",
      "173/173 [==============================] - 32s 179ms/step - loss: 8.7985 - mae: 0.5108 - mse: 0.4578 - val_loss: 0.3858 - val_mae: 0.4391 - val_mse: 0.3442\n",
      "Epoch 2/20\n",
      "173/173 [==============================] - 34s 197ms/step - loss: 0.3969 - mae: 0.4513 - mse: 0.3564 - val_loss: 0.3847 - val_mae: 0.4456 - val_mse: 0.3428\n",
      "Epoch 3/20\n",
      "173/173 [==============================] - 37s 217ms/step - loss: 0.3811 - mae: 0.4370 - mse: 0.3354 - val_loss: 0.3571 - val_mae: 0.4138 - val_mse: 0.3029\n",
      "Epoch 4/20\n",
      "173/173 [==============================] - 38s 222ms/step - loss: 0.3449 - mae: 0.4035 - mse: 0.2930 - val_loss: 0.3301 - val_mae: 0.3857 - val_mse: 0.2774\n",
      "Epoch 5/20\n",
      "173/173 [==============================] - 38s 221ms/step - loss: 0.3117 - mae: 0.3846 - mse: 0.2655 - val_loss: 0.3566 - val_mae: 0.4261 - val_mse: 0.3124\n",
      "Epoch 6/20\n",
      "173/173 [==============================] - 38s 221ms/step - loss: 0.2928 - mae: 0.3703 - mse: 0.2480 - val_loss: 0.3349 - val_mae: 0.3986 - val_mse: 0.2918\n",
      "Epoch 7/20\n",
      "173/173 [==============================] - 38s 222ms/step - loss: 0.2700 - mae: 0.3549 - mse: 0.2276 - val_loss: 0.3159 - val_mae: 0.3892 - val_mse: 0.2777\n",
      "Epoch 8/20\n",
      "173/173 [==============================] - 38s 221ms/step - loss: 0.2509 - mae: 0.3403 - mse: 0.2100 - val_loss: 0.3257 - val_mae: 0.3939 - val_mse: 0.2859\n",
      "Epoch 9/20\n",
      "173/173 [==============================] - 38s 222ms/step - loss: 0.2326 - mae: 0.3257 - mse: 0.1930 - val_loss: 0.3174 - val_mae: 0.3921 - val_mse: 0.2772\n",
      "Epoch 10/20\n",
      "173/173 [==============================] - ETA: 0s - loss: 0.2197 - mae: 0.3139 - mse: 0.1807Restoring model weights from the end of the best epoch: 7.\n",
      "173/173 [==============================] - 39s 224ms/step - loss: 0.2197 - mae: 0.3139 - mse: 0.1807 - val_loss: 0.3215 - val_mae: 0.3897 - val_mse: 0.2848\n",
      "Epoch 10: early stopping\n"
     ]
    }
   ],
   "source": [
    "input_overview = layers.Input(shape=(300, ))\n",
    "input_amenities = layers.Input(shape=(70, ))\n",
    "input_nontext = layers.Input(shape=(38, ))\n",
    "\n",
    "#Overview\n",
    "overview_emb = layers.Embedding(input_dim=overview_vocab, output_dim=64, input_length=300 , mask_zero = True)(input_overview)\n",
    "conv_overview = layers.Conv1D(filters = 100, kernel_size = 3, activation = 'relu') (overview_emb)\n",
    "pool_overview = layers.MaxPooling1D(2)(conv_overview)\n",
    "dropout_overview = layers.Dropout(0.2)(pool_overview)\n",
    "conv_overview = layers.Conv1D(filters = 100, kernel_size = 3, activation = 'relu')(dropout_overview)\n",
    "pool_overview = layers.MaxPooling1D(2)(conv_overview)\n",
    "dropout_overview = layers.Dropout(0.2)(pool_overview)\n",
    "flatten_overview = layers.Flatten()(dropout_overview)\n",
    "\n",
    "\n",
    "#Amenities\n",
    "amenities_emb = layers.Embedding(input_dim=amenities_vocab, output_dim=64, input_length=70 , mask_zero = True)(input_amenities)\n",
    "conv_amenities = layers.Conv1D(filters = 32, kernel_size = 3, activation = 'relu')(amenities_emb)\n",
    "pool_amenities = layers.MaxPooling1D(2)(conv_amenities)\n",
    "dropout_amenities = layers.Dropout(0.2)(pool_amenities)\n",
    "conv_amenities = layers.Conv1D(filters = 32, kernel_size = 3, activation = 'relu')(dropout_amenities)\n",
    "pool_amenities = layers.MaxPooling1D(2)(conv_amenities)\n",
    "dropout_amenities = layers.Dropout(0.2)(pool_amenities)\n",
    "flatten_amenities = layers.Flatten()(dropout_amenities)                         \n",
    "\n",
    "\n",
    "#Concatenate\n",
    "concat_layer = layers.concatenate([flatten_overview , flatten_amenities , input_nontext])\n",
    "\n",
    "dense_layer = layers.Dense(1024 , activation = \"relu\" , kernel_regularizer=tf.keras.regularizers.L2(l2=0.1))(concat_layer)\n",
    "dropout_layer = layers.Dropout(0.3)(dense_layer)  \n",
    "dense_layer = layers.Dense(512 , activation = \"relu\")(dropout_layer)\n",
    "dense_layer = layers.Dense(256 , activation = \"relu\")(dense_layer)\n",
    "dense_layer = layers.Dense(128 , activation = \"relu\")(dense_layer)\n",
    "dropout_layer = layers.Dropout(0.3)(dense_layer) \n",
    "output_layer = layers.Dense(1)(dropout_layer)\n",
    "\n",
    "model_deep = tf.keras.models.Model(inputs=[input_overview , input_amenities , input_nontext], outputs=output_layer)\n",
    "model_deep.compile(loss='mse', optimizer = 'adam' , metrics=[\"mae\", \"mse\"])\n",
    "\n",
    "print(model_deep.summary())\n",
    "callbacks = [EarlyStopping(monitor=\"val_loss\", patience=3, verbose=1, min_delta=0.005, restore_best_weights=True)]\n",
    "\n",
    "story = model_deep.fit([X_tr_overview, X_tr_amenities , X_train_dummies], y_train, epochs=20, \n",
    "                      verbose=1, batch_size=256, \n",
    "                      validation_data = ([X_val_overview, X_val_amenities, X_val_dummies], y_val) , callbacks=callbacks)"
   ]
  },
  {
   "cell_type": "code",
   "execution_count": 1198,
   "id": "aebc741c-bc46-437a-a6d0-a04510f2355e",
   "metadata": {},
   "outputs": [
    {
     "name": "stdout",
     "output_type": "stream",
     "text": [
      "346/346 [==============================] - 3s 8ms/step\n",
      "1383/1383 [==============================] - 12s 8ms/step\n",
      "RMSE on training set: 41.59143925803789\n",
      "MAE on training set: 23.50046976010427\n",
      "RMSE on validation set: 48.857282514389304\n",
      "MAE on validation set: 28.634167490853336\n"
     ]
    }
   ],
   "source": [
    "preds_deep = pd.DataFrame({\"predictions\" : np.ravel(model_deep.predict([X_val_overview, X_val_amenities , X_val_dummies])), \n",
    "                          \"actual\": np.ravel(y_val)})\n",
    "preds_deep['predictions'] = (preds_deep['predictions'] * std_price) + mean_price\n",
    "preds_deep['predictions'] = np.exp(preds_deep['predictions'])\n",
    "preds_deep['actual'] = (preds_deep['actual'] * std_price) + mean_price\n",
    "preds_deep['actual'] = np.exp(preds_deep['actual'])\n",
    "\n",
    "\n",
    "preds_deep2 = pd.DataFrame({\"predictions\": np.ravel(model_deep.predict([X_tr_overview, X_tr_amenities, X_train_dummies])) , \n",
    "                           \"actual\": np.ravel(y_train)})\n",
    "preds_deep2['predictions'] = (preds_deep2['predictions'] * std_price) + mean_price\n",
    "preds_deep2['predictions'] = np.exp(preds_deep2['predictions'])\n",
    "preds_deep2['actual'] = (preds_deep2['actual'] * std_price) + mean_price\n",
    "preds_deep2['actual'] = np.exp(preds_deep2['actual'])\n",
    "\n",
    "print(\"RMSE on training set: {}\".format(np.sqrt(mean_squared_error(preds_deep2.actual, preds_deep2.predictions))))\n",
    "print(\"MAE on training set: {}\".format(mean_absolute_error(preds_deep2.actual, preds_deep2.predictions)))\n",
    "\n",
    "\n",
    "print(\"RMSE on validation set: {}\".format(np.sqrt(mean_squared_error(preds_deep.actual, preds_deep.predictions))))\n",
    "print(\"MAE on validation set: {}\".format(mean_absolute_error(preds_deep.actual, preds_deep.predictions)))"
   ]
  },
  {
   "cell_type": "markdown",
   "id": "d60eb7bb-6e56-47d2-81df-550827a6d5f2",
   "metadata": {},
   "source": [
    "Our full model gives us the best results we've gotten so far. Despite a small difference between the train RMSE and the validation RMSE which can suggest the model slightly overfits, this approach brought the best results to the validation set, meaning it still performs best on new data."
   ]
  },
  {
   "cell_type": "markdown",
   "id": "e5e789ff-b4fb-472d-9204-6bf9a53b46b5",
   "metadata": {},
   "source": [
    "---\n",
    "\n",
    "### 7. Predictions"
   ]
  },
  {
   "cell_type": "markdown",
   "id": "4314c7cd-7393-4117-bba3-23fa507842da",
   "metadata": {},
   "source": [
    "---\n",
    "\n",
    "#### 7.1 Model Application on Full Training Set"
   ]
  },
  {
   "cell_type": "markdown",
   "id": "a11541f1-319d-446f-b6de-9b3db6b0e61e",
   "metadata": {},
   "source": [
    "First let's arrange the full train and test sets. This includes removing the filtered features, consolidating categories of categorical variables, standardizing the numerical features based on full train set scale and new tokenization of the text features based on the full training set vocabulary."
   ]
  },
  {
   "cell_type": "code",
   "execution_count": 944,
   "id": "698c7658-6a5d-4547-98c5-dcbaeab5941d",
   "metadata": {},
   "outputs": [],
   "source": [
    "train_filtered = train.copy()\n",
    "train_filtered = train_filtered.drop(columns = ['experiences_offered','host_response_time','host_response_rate', 'host_is_superhost',\n",
    "                        'host_has_profile_pic', 'host_identity_verified', 'cancellation_policy','bed_type','beds'])\n",
    "full_train_price = train_filtered['price']\n",
    "train_filtered.drop(columns = ['price'] , inplace = True)\n",
    "test_filtered = test.copy()\n",
    "test_filtered = test_filtered.drop(columns = ['experiences_offered','host_response_time','host_response_rate', 'host_is_superhost',\n",
    "                        'host_has_profile_pic', 'host_identity_verified', 'cancellation_policy','bed_type','beds'])"
   ]
  },
  {
   "cell_type": "markdown",
   "id": "10d43d2f-5852-4427-961e-e0740de528f4",
   "metadata": {},
   "source": [
    "Standardize numerical features"
   ]
  },
  {
   "cell_type": "code",
   "execution_count": 945,
   "id": "88eccc52-d923-432f-817e-f3f0b0aa7fa8",
   "metadata": {},
   "outputs": [],
   "source": [
    "mean_reviews_full = train_filtered['number_of_reviews'].mean(axis = 0)\n",
    "std_reviews_full = train_filtered['number_of_reviews'].std(axis = 0)\n",
    "mean_rating_full = train_filtered['review_scores_rating'].mean(axis = 0)\n",
    "std_rating_full = train_filtered['review_scores_rating'].std(axis = 0)\n",
    "mean_listings_full =train_filtered['host_total_listings_count'].mean(axis = 0)\n",
    "std_listings_full = train_filtered['host_total_listings_count'].std(axis = 0)\n",
    "mean_price_full =full_train_price.mean()\n",
    "std_price_full = full_train_price.std()"
   ]
  },
  {
   "cell_type": "code",
   "execution_count": 946,
   "id": "d1f9fc27-c9d9-4347-99c2-627eca062059",
   "metadata": {},
   "outputs": [],
   "source": [
    "train_filtered['number_of_reviews'] = (train_filtered['number_of_reviews'] - mean_reviews_full) / std_reviews_full\n",
    "train_filtered['review_scores_rating'] = (train_filtered['review_scores_rating'] - mean_rating_full) / std_rating_full\n",
    "train_filtered['host_total_listings_count'] = (train_filtered['host_total_listings_count'] - mean_listings_full) / std_listings_full\n",
    "full_train_price = (full_train_price - mean_price_full) / std_price_full\n",
    "\n",
    "#Scale  test set with training set mean & standard deviation\n",
    "test_filtered['number_of_reviews'] = (test_filtered['number_of_reviews'] - mean_reviews_full) / std_reviews_full\n",
    "test_filtered['review_scores_rating'] = (test_filtered['review_scores_rating'] - mean_rating_full) / std_rating_full\n",
    "test_filtered['host_total_listings_count'] = (test_filtered['host_total_listings_count'] - mean_listings_full) / std_listings_full\n",
    "\n"
   ]
  },
  {
   "cell_type": "markdown",
   "id": "af033f1d-ced8-4c43-8ce9-a669681c184d",
   "metadata": {},
   "source": [
    "Consolidate categories in categorical variables"
   ]
  },
  {
   "cell_type": "code",
   "execution_count": 947,
   "id": "9152cf0e-110b-4e5e-b0f6-ea715e0e7945",
   "metadata": {},
   "outputs": [],
   "source": [
    "train_filtered['bedrooms'] = train_filtered['bedrooms'].replace({5.0 : \"5.0+\" , 6.0 : \"5.0+\", 7.0  : \"5.0+\" , 8.0  : \"5.0+\", 9.0  : \"5.0+\" , 11.0 : \"5.0+\",19.0 : \"5.0+\"})\n",
    "train_filtered['bathrooms'] = train_filtered['bathrooms'].replace({0.0 : 1.0 , 0.5 : 1.0 , 3.5 : \"3.5+\" , 4.0 : \"3.5+\", 4.5 : \"3.5+\" , 5.0 : \"3.5+\" , 5.5 : \"3.5+\" , 6.0 : \"3.5+\",\n",
    "                                                                       6.5 : \"3.5+\", 7.0 : \"3.5+\", 7.5 : \"3.5+\" , 8.0 : \"3.5+\", 8.5 : \"3.5+\", 10.0 : \"3.5+\" , 11.0 : \"3.5+\"})\n",
    "train_filtered['guests_included'] = train_filtered['guests_included'].replace({7.0 : \"7.0+\" , 8.0 : \"7.0+\" , 8.0 : \"7.0+\", 9.0 : \"7.0+\", 10.0 : \"7.0+\" , 11.0 : \"7.0+\" , \n",
    "                                                                                   12.0 : \"7.0+\" , 14.0 : \"7.0+\", 15.0 : \"7.0+\" , 16.0 : \"7.0+\" , 46.0 : \"7.0+\"})                                                                                                                                      \n",
    "categories_to_keep = ['Apartment', 'House' , 'Townhouse' , 'Condominium' , 'Serviced apartment']\n",
    "train_filtered['property_type'] = train_filtered['property_type'].where(train_filtered['property_type'].isin(categories_to_keep), 'Other')\n",
    "train_filtered['property_type'] = pd.Categorical(train_filtered['property_type'] , categories=categories_to_keep + ['Other'])\n",
    "\n",
    "\n",
    "\n",
    "test_filtered['bedrooms'] = test_filtered['bedrooms'].replace({5.0 : \"5.0+\" , 6.0 : \"5.0+\", 7.0  : \"5.0+\" , 8.0  : \"5.0+\", \n",
    "                                                               9.0  : \"5.0+\" , 10.0 : \"5.0+\" , 11.0 : \"5.0+\", 12.0 : \"5.0+\",\n",
    "                                                               19.0 : \"5.0+\"})                                                                       \n",
    "test_filtered['bathrooms'] = test_filtered['bathrooms'].replace({0.0 : 1.0 , 0.5 : 1.0 , 3.5 : \"3.5+\" , 4.0 : \"3.5+\", \n",
    "                                                                 4.5 : \"3.5+\" , 5.0 : \"3.5+\" , 5.5 : \"3.5+\" , 6.0 : \"3.5+\",\n",
    "                                                                 6.5 : \"3.5+\", 7.0 : \"3.5+\", 7.5 : \"3.5+\" , 8.0 : \"3.5+\", \n",
    "                                                                 8.5 : \"3.5+\", 9.5: \"3.5+\", 10.0 : \"3.5+\", 10.5 : \"3.5+\",\n",
    "                                                                 12.0 : \"3.5+\"})\n",
    "test_filtered['guests_included'] = test_filtered['guests_included'].replace({7.0 : \"7.0+\" , 8.0 : \"7.0+\" , 8.0 : \"7.0+\", \n",
    "                                                                             9.0 : \"7.0+\", 10.0 : \"7.0+\" , 11.0 : \"7.0+\" ,\n",
    "                                                                               12.0 : \"7.0+\" , 13: \"7.0+\", 14.0 : \"7.0+\", \n",
    "                                                                             15.0 : \"7.0+\" , 16.0 : \"7.0+\" , 46.0 : \"7.0+\"})\n",
    "test_filtered['property_type'] = test_filtered['property_type'].where(test_filtered['property_type'].isin(categories_to_keep), 'Other')\n",
    "test_filtered['property_type'] = pd.Categorical(test_filtered['property_type'] , categories=categories_to_keep + ['Other'])\n"
   ]
  },
  {
   "cell_type": "code",
   "execution_count": 948,
   "id": "c5491460-b7d4-42b5-81d6-944ee0d3d320",
   "metadata": {},
   "outputs": [],
   "source": [
    "train_filtered['neighbourhood_cleansed'] = train_filtered['neighbourhood_cleansed'].replace({'City of London' : \"City Center\" , \"Kensington and Chelsea\" : \"City Center\", \"Westminster\" : \"City Center\", \"Hammersmith and Fulham\"  : \"Fulham or similar\", \"Camden\" : \"Fulham or similar\" , \"Richmond or Thames\" : \"Fulham or similar\" , \n",
    "                                                                                   \"Islington\" : \"Fulham or similar\" , \"Wandsworth\" : \"Fulham or similar\", \"Southwark\" : \"Hackney or similar\" , \"Lambeth\" : \"Hackney or similar\" , \"Hackney\" : \"Hackney or similar\", \"Tower Hamlets\" : \"Hackney or similar\", \"Merton\" :\"Hackney or similar\",\n",
    "                                                                                                \"Hounslow\" : \"Hackney or similar\", \"Brent\" : \"Newham or similar\" , \"Greenwich\" : \"Newham or similar\", \"Kingston upon Thames\" : \"Newham or similar\", \"Barnet\" : \"Newham or similar\", \"Newham\" : \"Newham or similar\", \"Ealing\" : \"Newham or similar\", \"Haringey\" : \"Newham or similar\",\n",
    "                                                                                                \"Lewisham\" : \"Sutton or similar\", \"Waltham Forest\" : \"Sutton or similar\", \"Havering\" : \"Sutton or similar\", \"Enfield\" : \"Sutton or similar\", \"Bromley\" : \"Sutton or similar\", \"Hillingdon\" :  \"Sutton or similar\", \"Harrow\" : \"Sutton or similar\" , \"Sutton\" : \"Sutton or similar\", \"Barking and Dagenham\" : \"Sutton or similar\",\n",
    "                                                                                                \"Croydon\" : \"Sutton or similar\" , \"Bexley\" : \"Sutton or similar\", \"Redbridge\" : \"Sutton or similar\"})\n",
    "test_filtered['neighbourhood_cleansed'] = test_filtered['neighbourhood_cleansed'].replace({'City of London' : \"City Center\" , \"Kensington and Chelsea\" : \"City Center\", \"Westminster\" : \"City Center\", \"Hammersmith and Fulham\"  : \"Fulham or similar\", \"Camden\" : \"Fulham or similar\" , \"Richmond or Thames\" : \"Fulham or similar\" , \n",
    "                                                                                   \"Islington\" : \"Fulham or similar\" , \"Wandsworth\" : \"Fulham or similar\", \"Southwark\" : \"Hackney or similar\" , \"Lambeth\" : \"Hackney or similar\" , \"Hackney\" : \"Hackney or similar\", \"Tower Hamlets\" : \"Hackney or similar\", \"Merton\" :\"Hackney or similar\",\n",
    "                                                                                                \"Hounslow\" : \"Hackney or similar\", \"Brent\" : \"Newham or similar\" , \"Greenwich\" : \"Newham or similar\", \"Kingston upon Thames\" : \"Newham or similar\", \"Barnet\" : \"Newham or similar\", \"Newham\" : \"Newham or similar\", \"Ealing\" : \"Newham or similar\", \"Haringey\" : \"Newham or similar\",\n",
    "                                                                                                \"Lewisham\" : \"Sutton or similar\", \"Waltham Forest\" : \"Sutton or similar\", \"Havering\" : \"Sutton or similar\", \"Enfield\" : \"Sutton or similar\", \"Bromley\" : \"Sutton or similar\", \"Hillingdon\" :  \"Sutton or similar\", \"Harrow\" : \"Sutton or similar\" , \"Sutton\" : \"Sutton or similar\", \"Barking and Dagenham\" : \"Sutton or similar\",\n",
    "                                                                                                \"Croydon\" : \"Sutton or similar\" , \"Bexley\" : \"Sutton or similar\", \"Redbridge\" : \"Sutton or similar\"})"
   ]
  },
  {
   "cell_type": "code",
   "execution_count": 949,
   "id": "e43c02d2-395f-4606-94ec-129c2dc152e5",
   "metadata": {},
   "outputs": [],
   "source": [
    "train_dummies = pd.get_dummies(train_filtered, columns =  ['property_type', 'room_type', 'bathrooms',  'bedrooms', 'guests_included', 'neighbourhood_cleansed'])\n",
    "train_dummies.drop(columns = ['overview','neighborhood_overview', 'transit', 'house_rules','listing_id','amenities'] , inplace = True)\n",
    "test_dummies = pd.get_dummies(test_filtered, columns =  ['property_type', 'room_type', 'bathrooms',  'bedrooms', 'guests_included', 'neighbourhood_cleansed'])\n",
    "test_dummies.drop(columns = ['overview', 'neighborhood_overview', 'transit', 'house_rules','listing_id','amenities'] , inplace = True)"
   ]
  },
  {
   "cell_type": "code",
   "execution_count": 1200,
   "id": "975ca42a-e43b-4679-b068-2442e4a12481",
   "metadata": {},
   "outputs": [
    {
     "name": "stdout",
     "output_type": "stream",
     "text": [
      "Overview vocab length : 31303 , Overview mean length : 118.1127631864554\n"
     ]
    }
   ],
   "source": [
    "# Tokenize overview variable and pad based on the data. \n",
    "# Also, we extract the vocab length of the feature to get an idea of its size, in order to use it later \n",
    "tokenizer_overview_full = Tokenizer(oov_token=1)\n",
    "tokenizer_overview_full.fit_on_texts(train_filtered['overview'])\n",
    "overview_vocab_full = len(tokenizer_overview_full.word_index) + 1\n",
    "train_overview = tokenizer_overview_full.texts_to_sequences(train_filtered['overview'])\n",
    "mean_overview_length_full = np.mean([len(overview) for overview in train_overview])\n",
    "\n",
    "print (\"Overview vocab length : {} , Overview mean length : {}\".format(overview_vocab_full , mean_overview_length_full))\n",
    "max_overview_length_full = 300\n",
    "train_overview = pad_sequences(train_overview, max_overview_length_full)\n",
    "\n",
    "#Do the same for the test set\n",
    "test_overview = tokenizer_overview_full.texts_to_sequences(test_filtered['overview'])\n",
    "test_overview = pad_sequences(test_overview, max_overview_length_full)"
   ]
  },
  {
   "cell_type": "code",
   "execution_count": 1201,
   "id": "9162a787-5953-49ca-99fe-7a40fcc44e7d",
   "metadata": {},
   "outputs": [
    {
     "name": "stdout",
     "output_type": "stream",
     "text": [
      "Amenities vocab length : 274 , Amenities mean length : 34.1678062368859\n"
     ]
    }
   ],
   "source": [
    "# Tokenize amenities variable and pad based on the data. \n",
    "# Also, we extract the vocab length of the feature to get an idea of its size, in order to use it later \n",
    "tokenizer_amenities_full = Tokenizer(oov_token=1)\n",
    "tokenizer_amenities_full.fit_on_texts(train_filtered['amenities'])\n",
    "amenities_vocab_full = len(tokenizer_amenities_full.word_index) + 1\n",
    "train_amenities = tokenizer_amenities_full.texts_to_sequences(train_filtered['amenities'])\n",
    "mean_amenities_length_full = np.mean([len(amenities) for amenities in train_amenities])\n",
    "\n",
    "print (\"Amenities vocab length : {} , Amenities mean length : {}\".format(amenities_vocab_full , mean_amenities_length_full))\n",
    "max_amenities_length_full = 70\n",
    "train_amenities = pad_sequences(train_amenities, max_amenities_length_full)\n",
    "\n",
    "#Do the same for the test set\n",
    "test_amenities = tokenizer_amenities_full.texts_to_sequences(test_filtered['amenities'])\n",
    "test_amenities = pad_sequences(test_amenities, max_amenities_length_full)"
   ]
  },
  {
   "cell_type": "code",
   "execution_count": 1202,
   "id": "fb7a4044-ee42-43fc-9c37-dcf9e6c73651",
   "metadata": {},
   "outputs": [],
   "source": [
    "train_overview = np.array(train_overview)\n",
    "train_amenities = np.array(train_amenities)\n",
    "\n",
    "test_overview = np.array(test_overview)\n",
    "test_amenities = np.array(test_amenities)\n"
   ]
  },
  {
   "cell_type": "markdown",
   "id": "56abeac0-dedf-4e24-95c4-9240353843b2",
   "metadata": {},
   "source": [
    "Now we can re-fit our model using the whole training set"
   ]
  },
  {
   "cell_type": "code",
   "execution_count": 1208,
   "id": "1179e7ec-b0ce-4a9d-a55e-d14b2232cb85",
   "metadata": {},
   "outputs": [
    {
     "name": "stdout",
     "output_type": "stream",
     "text": [
      "Model: \"model_182\"\n",
      "__________________________________________________________________________________________________\n",
      " Layer (type)                   Output Shape         Param #     Connected to                     \n",
      "==================================================================================================\n",
      " input_620 (InputLayer)         [(None, 300)]        0           []                               \n",
      "                                                                                                  \n",
      " input_621 (InputLayer)         [(None, 70)]         0           []                               \n",
      "                                                                                                  \n",
      " embedding_432 (Embedding)      (None, 300, 64)      2003392     ['input_620[0][0]']              \n",
      "                                                                                                  \n",
      " embedding_433 (Embedding)      (None, 70, 64)       17536       ['input_621[0][0]']              \n",
      "                                                                                                  \n",
      " conv1d_653 (Conv1D)            (None, 298, 100)     19300       ['embedding_432[0][0]']          \n",
      "                                                                                                  \n",
      " conv1d_655 (Conv1D)            (None, 68, 32)       6176        ['embedding_433[0][0]']          \n",
      "                                                                                                  \n",
      " max_pooling1d_652 (MaxPooling1  (None, 149, 100)    0           ['conv1d_653[0][0]']             \n",
      " D)                                                                                               \n",
      "                                                                                                  \n",
      " max_pooling1d_654 (MaxPooling1  (None, 34, 32)      0           ['conv1d_655[0][0]']             \n",
      " D)                                                                                               \n",
      "                                                                                                  \n",
      " dropout_997 (Dropout)          (None, 149, 100)     0           ['max_pooling1d_652[0][0]']      \n",
      "                                                                                                  \n",
      " dropout_999 (Dropout)          (None, 34, 32)       0           ['max_pooling1d_654[0][0]']      \n",
      "                                                                                                  \n",
      " conv1d_654 (Conv1D)            (None, 147, 100)     30100       ['dropout_997[0][0]']            \n",
      "                                                                                                  \n",
      " conv1d_656 (Conv1D)            (None, 32, 32)       3104        ['dropout_999[0][0]']            \n",
      "                                                                                                  \n",
      " max_pooling1d_653 (MaxPooling1  (None, 73, 100)     0           ['conv1d_654[0][0]']             \n",
      " D)                                                                                               \n",
      "                                                                                                  \n",
      " max_pooling1d_655 (MaxPooling1  (None, 16, 32)      0           ['conv1d_656[0][0]']             \n",
      " D)                                                                                               \n",
      "                                                                                                  \n",
      " dropout_998 (Dropout)          (None, 73, 100)      0           ['max_pooling1d_653[0][0]']      \n",
      "                                                                                                  \n",
      " dropout_1000 (Dropout)         (None, 16, 32)       0           ['max_pooling1d_655[0][0]']      \n",
      "                                                                                                  \n",
      " flatten_396 (Flatten)          (None, 7300)         0           ['dropout_998[0][0]']            \n",
      "                                                                                                  \n",
      " flatten_397 (Flatten)          (None, 512)          0           ['dropout_1000[0][0]']           \n",
      "                                                                                                  \n",
      " input_622 (InputLayer)         [(None, 38)]         0           []                               \n",
      "                                                                                                  \n",
      " concatenate_184 (Concatenate)  (None, 7850)         0           ['flatten_396[0][0]',            \n",
      "                                                                  'flatten_397[0][0]',            \n",
      "                                                                  'input_622[0][0]']              \n",
      "                                                                                                  \n",
      " dense_1174 (Dense)             (None, 1024)         8039424     ['concatenate_184[0][0]']        \n",
      "                                                                                                  \n",
      " dropout_1001 (Dropout)         (None, 1024)         0           ['dense_1174[0][0]']             \n",
      "                                                                                                  \n",
      " dense_1175 (Dense)             (None, 512)          524800      ['dropout_1001[0][0]']           \n",
      "                                                                                                  \n",
      " dense_1176 (Dense)             (None, 256)          131328      ['dense_1175[0][0]']             \n",
      "                                                                                                  \n",
      " dense_1177 (Dense)             (None, 128)          32896       ['dense_1176[0][0]']             \n",
      "                                                                                                  \n",
      " dropout_1002 (Dropout)         (None, 128)          0           ['dense_1177[0][0]']             \n",
      "                                                                                                  \n",
      " dense_1178 (Dense)             (None, 1)            129         ['dropout_1002[0][0]']           \n",
      "                                                                                                  \n",
      "==================================================================================================\n",
      "Total params: 10,808,185\n",
      "Trainable params: 10,808,185\n",
      "Non-trainable params: 0\n",
      "__________________________________________________________________________________________________\n",
      "None\n",
      "Epoch 1/20\n",
      "173/173 [==============================] - 31s 176ms/step - loss: 8.4977 - mae: 0.4776 - mse: 0.3975 - val_loss: 0.3921 - val_mae: 0.4477 - val_mse: 0.3436\n",
      "Epoch 2/20\n",
      "173/173 [==============================] - 30s 176ms/step - loss: 0.3928 - mae: 0.4471 - mse: 0.3516 - val_loss: 0.3842 - val_mae: 0.4480 - val_mse: 0.3432\n",
      "Epoch 3/20\n",
      "173/173 [==============================] - 31s 180ms/step - loss: 0.3872 - mae: 0.4444 - mse: 0.3484 - val_loss: 0.3599 - val_mae: 0.4308 - val_mse: 0.3219\n",
      "Epoch 4/20\n",
      "173/173 [==============================] - 33s 191ms/step - loss: 0.3718 - mae: 0.4258 - mse: 0.3238 - val_loss: 0.3555 - val_mae: 0.4122 - val_mse: 0.3057\n",
      "Epoch 5/20\n",
      "173/173 [==============================] - 33s 191ms/step - loss: 0.3304 - mae: 0.3990 - mse: 0.2858 - val_loss: 0.3197 - val_mae: 0.3898 - val_mse: 0.2747\n",
      "Epoch 6/20\n",
      "173/173 [==============================] - 33s 193ms/step - loss: 0.3048 - mae: 0.3797 - mse: 0.2619 - val_loss: 0.3593 - val_mae: 0.4300 - val_mse: 0.3133\n",
      "Epoch 7/20\n",
      "173/173 [==============================] - 34s 196ms/step - loss: 0.2805 - mae: 0.3636 - mse: 0.2411 - val_loss: 0.3103 - val_mae: 0.3897 - val_mse: 0.2739\n",
      "Epoch 8/20\n",
      "173/173 [==============================] - 34s 198ms/step - loss: 0.2631 - mae: 0.3509 - mse: 0.2243 - val_loss: 0.3128 - val_mae: 0.3936 - val_mse: 0.2759\n",
      "Epoch 9/20\n",
      "173/173 [==============================] - 34s 199ms/step - loss: 0.2444 - mae: 0.3374 - mse: 0.2082 - val_loss: 0.3105 - val_mae: 0.3949 - val_mse: 0.2774\n",
      "Epoch 10/20\n",
      "173/173 [==============================] - ETA: 0s - loss: 0.2280 - mae: 0.3231 - mse: 0.1920Restoring model weights from the end of the best epoch: 7.\n",
      "173/173 [==============================] - 34s 199ms/step - loss: 0.2280 - mae: 0.3231 - mse: 0.1920 - val_loss: 0.3214 - val_mae: 0.4017 - val_mse: 0.2869\n",
      "Epoch 10: early stopping\n"
     ]
    }
   ],
   "source": [
    "input_overview = layers.Input(shape=(300, ))\n",
    "input_amenities = layers.Input(shape=(70, ))\n",
    "input_nontext = layers.Input(shape=(38, ))\n",
    "\n",
    "#Overview\n",
    "overview_emb = layers.Embedding(input_dim=overview_vocab_full, output_dim=64, input_length=300 , mask_zero = True)(input_overview)\n",
    "conv_overview = layers.Conv1D(filters = 100, kernel_size = 3, activation = 'relu')(overview_emb)\n",
    "pool_overview = layers.MaxPooling1D(2)(conv_overview)\n",
    "dropout_overview = layers.Dropout(0.2)(pool_overview)\n",
    "conv_overview = layers.Conv1D(filters = 100, kernel_size = 3, activation = 'relu')(dropout_overview)\n",
    "pool_overview = layers.MaxPooling1D(2)(conv_overview)\n",
    "dropout_overview = layers.Dropout(0.2)(pool_overview)\n",
    "flatten_overview = layers.Flatten()(dropout_overview)\n",
    "\n",
    "\n",
    "#Amenities\n",
    "amenities_emb = layers.Embedding(input_dim=amenities_vocab_full, output_dim=64, input_length=70 , mask_zero = True)(input_amenities)\n",
    "conv_amenities = layers.Conv1D(filters = 32, kernel_size = 3, activation = 'relu')(amenities_emb)\n",
    "pool_amenities = layers.MaxPooling1D(2)(conv_amenities)\n",
    "dropout_amenities = layers.Dropout(0.2)(pool_amenities)\n",
    "conv_amenities = layers.Conv1D(filters = 32, kernel_size = 3, activation = 'relu')(dropout_amenities)\n",
    "pool_amenities = layers.MaxPooling1D(2)(conv_amenities)\n",
    "dropout_amenities = layers.Dropout(0.2)(pool_amenities)\n",
    "flatten_amenities = layers.Flatten()(dropout_amenities)                         \n",
    "\n",
    "\n",
    "#Concatenate\n",
    "concat_layer = layers.concatenate([flatten_overview , flatten_amenities , input_nontext])\n",
    "\n",
    "dense_layer = layers.Dense(1024 , activation = \"relu\" , kernel_regularizer=tf.keras.regularizers.L2(l2=0.1))(concat_layer)\n",
    "dropout_layer = layers.Dropout(0.3)(dense_layer)  \n",
    "dense_layer = layers.Dense(512 , activation = \"relu\")(dropout_layer)\n",
    "dense_layer = layers.Dense(256 , activation = \"relu\")(dense_layer)\n",
    "dense_layer = layers.Dense(128 , activation = \"relu\")(dense_layer)\n",
    "dropout_layer = layers.Dropout(0.3)(dense_layer)  \n",
    "output_layer = layers.Dense(1)(dropout_layer)\n",
    "\n",
    "model_full = tf.keras.models.Model(inputs=[input_overview , input_amenities , input_nontext], outputs=output_layer)\n",
    "model_full.compile(loss='mse', optimizer = 'adam', metrics=[\"mae\", \"mse\"])\n",
    "\n",
    "\n",
    "print(model_full.summary())\n",
    "callbacks = [EarlyStopping(monitor=\"val_loss\", patience=3, verbose=1, min_delta=0.005, restore_best_weights=True)]\n",
    "\n",
    "story = model_full.fit([train_overview, train_amenities , train_dummies], full_train_price, epochs=20, \n",
    "                      verbose=1, batch_size=256, \n",
    "                      validation_split = 0.2 , callbacks=callbacks)"
   ]
  },
  {
   "cell_type": "markdown",
   "id": "a61262fa-4a75-4cb4-8776-fab787b0bcbe",
   "metadata": {},
   "source": [
    "---\n",
    "\n",
    "### 7.2 Predictions on Test Set"
   ]
  },
  {
   "cell_type": "code",
   "execution_count": 1209,
   "id": "025556b0-7025-41cd-bc2c-689291e8d86c",
   "metadata": {},
   "outputs": [
    {
     "name": "stdout",
     "output_type": "stream",
     "text": [
      "931/931 [==============================] - 8s 8ms/step\n"
     ]
    },
    {
     "data": {
      "text/plain": [
       "0        109.127022\n",
       "1        160.507629\n",
       "2         71.532143\n",
       "3         43.938553\n",
       "4        126.389374\n",
       "            ...    \n",
       "29764    309.257050\n",
       "29765     41.338356\n",
       "29766    247.546188\n",
       "29767     69.335258\n",
       "29768    116.367241\n",
       "Name: price, Length: 29769, dtype: float32"
      ]
     },
     "execution_count": 1209,
     "metadata": {},
     "output_type": "execute_result"
    }
   ],
   "source": [
    "predictions_full = pd.DataFrame({\"listing_id\" : test['listing_id'] , \"price\" : np.ravel(model_full.predict([test_overview, test_amenities , test_dummies]))})\n",
    "predictions_full['price'] = (predictions_full['price'] * std_price_full) + mean_price_full\n",
    "predictions_full['price'] = np.exp(predictions_full['price'])\n",
    "\n",
    "predictions_full['price']"
   ]
  },
  {
   "cell_type": "code",
   "execution_count": 1210,
   "id": "c896dd15-9a75-4842-b8df-5167511b6214",
   "metadata": {},
   "outputs": [
    {
     "name": "stdout",
     "output_type": "stream",
     "text": [
      "1728/1728 [==============================] - 15s 8ms/step\n",
      "RMSE on training set: 43.72188214793846\n",
      "MAE on training set: 25.03527010935328\n"
     ]
    }
   ],
   "source": [
    "preds_test = pd.DataFrame({\"predictions\" : np.ravel(model_full.predict([train_overview, train_amenities , train_dummies])), \n",
    "                          \"actual\": np.ravel(full_train_price)})\n",
    "preds_test['predictions'] = (preds_test['predictions'] * std_price_full) + mean_price_full\n",
    "preds_test['predictions'] = np.exp(preds_test['predictions'])\n",
    "preds_test['actual'] = (preds_test['actual'] * std_price_full) + mean_price_full\n",
    "preds_test['actual'] = np.exp(preds_test['actual'])\n",
    "\n",
    "\n",
    "\n",
    "\n",
    "print(\"RMSE on training set: {}\".format(np.sqrt(mean_squared_error(preds_test.actual, preds_test.predictions))))\n",
    "print(\"MAE on training set: {}\".format(mean_absolute_error(preds_test.actual, preds_test.predictions)))\n",
    "\n"
   ]
  },
  {
   "cell_type": "markdown",
   "id": "a07dc231-4738-4c8b-aaac-ccc4a9f90c14",
   "metadata": {},
   "source": [
    "Let's make sure there aren't predictions below 0"
   ]
  },
  {
   "cell_type": "code",
   "execution_count": 1211,
   "id": "06ffd0d3-17fd-41c8-819a-756169e833c1",
   "metadata": {},
   "outputs": [
    {
     "data": {
      "text/plain": [
       "(array([], dtype=int64),)"
      ]
     },
     "execution_count": 1211,
     "metadata": {},
     "output_type": "execute_result"
    }
   ],
   "source": [
    "np.where(predictions_full['price'] < 0)"
   ]
  },
  {
   "cell_type": "code",
   "execution_count": 1212,
   "id": "ec83fdf5-3bcf-490a-a972-334ef921a191",
   "metadata": {},
   "outputs": [],
   "source": [
    "predictions_full.to_csv(\"submissions.csv\" , index = False)"
   ]
  },
  {
   "cell_type": "markdown",
   "id": "a39310c6-812e-4023-ad5f-0462e642bfc5",
   "metadata": {
    "tags": []
   },
   "source": [
    "---\n",
    "\n",
    "### 8. Conclusion"
   ]
  },
  {
   "cell_type": "markdown",
   "id": "13e9a035-8267-4011-b8a5-6a9324f83815",
   "metadata": {},
   "source": [
    "In this assignment we were asked to solve a prediction problem using a real data provided by Airbnb. The focus of the assignment was on NLP and text feature modelling. As proved by this assignment, the textual data doesn't always provide better results than the old-fashioned categorical and numerical data. It would be not recommended for this kind of data to foucs on text only, as it would be hard to accurately predict an Airbnb listing price by the text provided only. That being said, deep learning of the combination of textual and non-textual data does prove to accomplish good results.\n",
    "\n",
    "The assignment include multiple machine learning steps such as data cleaning, feature engineering and model construction. We investigated different approaches such as boosting and random forest, as well as an overview of multiple neural networks such as LSTM and CNN.\n",
    "\n",
    "It is possible that better results could be accomplished for this task, for example by using a more complex model, further investigation of text embedding options or with the addition of image analysis. Yet for the scope of this project the performed measures seem to suffice and reach a decent result for the balance between computational effort and accurate results.\n",
    "\n"
   ]
  }
 ],
 "metadata": {
  "kernelspec": {
   "display_name": "Python 3 (ipykernel)",
   "language": "python",
   "name": "python3"
  },
  "language_info": {
   "codemirror_mode": {
    "name": "ipython",
    "version": 3
   },
   "file_extension": ".py",
   "mimetype": "text/x-python",
   "name": "python",
   "nbconvert_exporter": "python",
   "pygments_lexer": "ipython3",
   "version": "3.10.11"
  }
 },
 "nbformat": 4,
 "nbformat_minor": 5
}
